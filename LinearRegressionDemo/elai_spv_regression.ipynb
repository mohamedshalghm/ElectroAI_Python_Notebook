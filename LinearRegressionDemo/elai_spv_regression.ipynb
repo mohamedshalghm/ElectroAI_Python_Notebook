{
 "cells": [
  {
   "cell_type": "code",
   "execution_count": 54,
   "id": "ece72e6c-4233-4f16-ae9d-bd4b81e869d6",
   "metadata": {},
   "outputs": [],
   "source": [
    "import numpy as np \n",
    "import pandas as pd\n",
    "import matplotlib.pyplot as plt\n",
    "import sklearn.datasets as datasets\n",
    "%matplotlib inline"
   ]
  },
  {
   "cell_type": "code",
   "execution_count": 24,
   "id": "0f9ce70b-1c03-4aa7-96ae-175d3aec8789",
   "metadata": {},
   "outputs": [
    {
     "name": "stdout",
     "output_type": "stream",
     "text": [
      ".. _iris_dataset:\n",
      "\n",
      "Iris plants dataset\n",
      "--------------------\n",
      "\n",
      "**Data Set Characteristics:**\n",
      "\n",
      "    :Number of Instances: 150 (50 in each of three classes)\n",
      "    :Number of Attributes: 4 numeric, predictive attributes and the class\n",
      "    :Attribute Information:\n",
      "        - sepal length in cm\n",
      "        - sepal width in cm\n",
      "        - petal length in cm\n",
      "        - petal width in cm\n",
      "        - class:\n",
      "                - Iris-Setosa\n",
      "                - Iris-Versicolour\n",
      "                - Iris-Virginica\n",
      "                \n",
      "    :Summary Statistics:\n",
      "\n",
      "    ============== ==== ==== ======= ===== ====================\n",
      "                    Min  Max   Mean    SD   Class Correlation\n",
      "    ============== ==== ==== ======= ===== ====================\n",
      "    sepal length:   4.3  7.9   5.84   0.83    0.7826\n",
      "    sepal width:    2.0  4.4   3.05   0.43   -0.4194\n",
      "    petal length:   1.0  6.9   3.76   1.76    0.9490  (high!)\n",
      "    petal width:    0.1  2.5   1.20   0.76    0.9565  (high!)\n",
      "    ============== ==== ==== ======= ===== ====================\n",
      "\n",
      "    :Missing Attribute Values: None\n",
      "    :Class Distribution: 33.3% for each of 3 classes.\n",
      "    :Creator: R.A. Fisher\n",
      "    :Donor: Michael Marshall (MARSHALL%PLU@io.arc.nasa.gov)\n",
      "    :Date: July, 1988\n",
      "\n",
      "The famous Iris database, first used by Sir R.A. Fisher. The dataset is taken\n",
      "from Fisher's paper. Note that it's the same as in R, but not as in the UCI\n",
      "Machine Learning Repository, which has two wrong data points.\n",
      "\n",
      "This is perhaps the best known database to be found in the\n",
      "pattern recognition literature.  Fisher's paper is a classic in the field and\n",
      "is referenced frequently to this day.  (See Duda & Hart, for example.)  The\n",
      "data set contains 3 classes of 50 instances each, where each class refers to a\n",
      "type of iris plant.  One class is linearly separable from the other 2; the\n",
      "latter are NOT linearly separable from each other.\n",
      "\n",
      ".. topic:: References\n",
      "\n",
      "   - Fisher, R.A. \"The use of multiple measurements in taxonomic problems\"\n",
      "     Annual Eugenics, 7, Part II, 179-188 (1936); also in \"Contributions to\n",
      "     Mathematical Statistics\" (John Wiley, NY, 1950).\n",
      "   - Duda, R.O., & Hart, P.E. (1973) Pattern Classification and Scene Analysis.\n",
      "     (Q327.D83) John Wiley & Sons.  ISBN 0-471-22361-1.  See page 218.\n",
      "   - Dasarathy, B.V. (1980) \"Nosing Around the Neighborhood: A New System\n",
      "     Structure and Classification Rule for Recognition in Partially Exposed\n",
      "     Environments\".  IEEE Transactions on Pattern Analysis and Machine\n",
      "     Intelligence, Vol. PAMI-2, No. 1, 67-71.\n",
      "   - Gates, G.W. (1972) \"The Reduced Nearest Neighbor Rule\".  IEEE Transactions\n",
      "     on Information Theory, May 1972, 431-433.\n",
      "   - See also: 1988 MLC Proceedings, 54-64.  Cheeseman et al\"s AUTOCLASS II\n",
      "     conceptual clustering system finds 3 classes in the data.\n",
      "   - Many, many more ...\n"
     ]
    }
   ],
   "source": [
    "iris= datasets.load_iris()\n",
    "print(iris.DESCR)"
   ]
  },
  {
   "cell_type": "code",
   "execution_count": 26,
   "id": "cd5fd20c-2e77-43b8-b8d6-9d2f3ae5bda3",
   "metadata": {},
   "outputs": [
    {
     "data": {
      "text/plain": [
       "(150, 4)"
      ]
     },
     "execution_count": 26,
     "metadata": {},
     "output_type": "execute_result"
    }
   ],
   "source": [
    "iris.data.shape"
   ]
  },
  {
   "cell_type": "code",
   "execution_count": 29,
   "id": "ff1e37c5-a5f9-49e7-892e-9ab57c2f9e79",
   "metadata": {},
   "outputs": [
    {
     "data": {
      "text/plain": [
       "(150,)"
      ]
     },
     "execution_count": 29,
     "metadata": {},
     "output_type": "execute_result"
    }
   ],
   "source": [
    "iris.target.shape"
   ]
  },
  {
   "cell_type": "code",
   "execution_count": 33,
   "id": "46971ed1-c45e-40a2-9c34-37e3360efbad",
   "metadata": {},
   "outputs": [
    {
     "name": "stdout",
     "output_type": "stream",
     "text": [
      "4\n",
      "['sepal length (cm)', 'sepal width (cm)', 'petal length (cm)', 'petal width (cm)']\n"
     ]
    }
   ],
   "source": [
    "print(iris.data.shape[1])\n",
    "print(iris.feature_names)"
   ]
  },
  {
   "cell_type": "code",
   "execution_count": 34,
   "id": "20ba0ad3-4db3-4cf8-98fa-9e15e84c8658",
   "metadata": {},
   "outputs": [
    {
     "name": "stdout",
     "output_type": "stream",
     "text": [
      "4\n",
      "['setosa' 'versicolor' 'virginica']\n"
     ]
    }
   ],
   "source": [
    "print(iris.data.shape[1])\n",
    "print(iris.target_names)"
   ]
  },
  {
   "cell_type": "code",
   "execution_count": 36,
   "id": "52ac51c5-3f57-4d9d-b7e6-1ff87b9a1886",
   "metadata": {},
   "outputs": [],
   "source": [
    "x,y= datasets.make_regression(n_features=1,n_informative=1)"
   ]
  },
  {
   "cell_type": "code",
   "execution_count": 37,
   "id": "9a5bb1ee-07a3-4f30-ae50-1904c7fc9ebc",
   "metadata": {},
   "outputs": [
    {
     "data": {
      "text/plain": [
       "array([[-1.90480048e+00],\n",
       "       [ 1.23356413e+00],\n",
       "       [-4.14194851e-03],\n",
       "       [ 1.85442437e-01],\n",
       "       [-1.01563872e+00],\n",
       "       [ 8.21201874e-01],\n",
       "       [ 4.91270534e-01],\n",
       "       [ 2.94764196e-01],\n",
       "       [ 7.11918314e-01],\n",
       "       [-1.52731476e-03],\n",
       "       [ 4.31799561e-01],\n",
       "       [-1.67403148e+00],\n",
       "       [-2.30844941e-01],\n",
       "       [ 5.06710848e-01],\n",
       "       [-2.13111509e-01],\n",
       "       [ 3.79341577e-01],\n",
       "       [ 1.48294134e+00],\n",
       "       [-8.14254797e-01],\n",
       "       [-1.98887336e+00],\n",
       "       [ 1.02348269e+00],\n",
       "       [-3.65991733e-01],\n",
       "       [-7.98254095e-01],\n",
       "       [-6.03718242e-02],\n",
       "       [-3.09339977e-02],\n",
       "       [ 2.22615798e-01],\n",
       "       [ 4.53567945e-01],\n",
       "       [ 2.90942687e-02],\n",
       "       [-9.60278903e-01],\n",
       "       [ 1.60303897e-01],\n",
       "       [ 4.63790394e-01],\n",
       "       [-6.15040329e-01],\n",
       "       [-1.31313386e+00],\n",
       "       [-1.13534763e+00],\n",
       "       [ 1.00817101e+00],\n",
       "       [-6.57177836e-01],\n",
       "       [-4.28910964e-01],\n",
       "       [-1.03585093e+00],\n",
       "       [ 2.15762385e+00],\n",
       "       [ 1.68342741e-01],\n",
       "       [ 1.57020118e+00],\n",
       "       [ 4.65462941e-01],\n",
       "       [ 3.36336300e-01],\n",
       "       [ 4.92823184e-01],\n",
       "       [ 2.01884534e+00],\n",
       "       [-3.88214718e-02],\n",
       "       [-7.01526244e-01],\n",
       "       [ 2.56849314e+00],\n",
       "       [-1.05274047e+00],\n",
       "       [-4.70861063e-01],\n",
       "       [-7.22637106e-01],\n",
       "       [-1.32399146e-01],\n",
       "       [ 5.31161693e-02],\n",
       "       [-2.66288492e-02],\n",
       "       [-4.82345505e-01],\n",
       "       [-7.77150950e-01],\n",
       "       [-1.36628280e+00],\n",
       "       [ 9.31467406e-01],\n",
       "       [-1.22414039e+00],\n",
       "       [ 1.45509466e-01],\n",
       "       [ 5.17810147e-01],\n",
       "       [-2.52032099e-01],\n",
       "       [-1.43674674e+00],\n",
       "       [ 1.25208191e+00],\n",
       "       [-3.21288811e-01],\n",
       "       [-1.48272166e-01],\n",
       "       [-5.82244578e-01],\n",
       "       [-1.25346425e+00],\n",
       "       [-9.98089871e-01],\n",
       "       [-5.50145253e-01],\n",
       "       [-3.21080194e-01],\n",
       "       [-6.57539778e-01],\n",
       "       [ 1.95041115e+00],\n",
       "       [-1.02357170e+00],\n",
       "       [-5.32109393e-01],\n",
       "       [-1.05086521e+00],\n",
       "       [ 6.55153302e-01],\n",
       "       [-9.16395575e-01],\n",
       "       [-6.56765076e-01],\n",
       "       [ 5.37068811e-01],\n",
       "       [-8.77233863e-01],\n",
       "       [ 3.84679391e-01],\n",
       "       [-3.87096233e-01],\n",
       "       [-4.94610432e-01],\n",
       "       [-2.69098697e-01],\n",
       "       [-1.60019939e-01],\n",
       "       [-1.24464302e-01],\n",
       "       [-5.34533119e-01],\n",
       "       [ 3.52756085e-01],\n",
       "       [-7.34842048e-01],\n",
       "       [ 3.40969359e-01],\n",
       "       [ 1.75628951e-02],\n",
       "       [ 1.38586787e+00],\n",
       "       [-9.05370294e-01],\n",
       "       [ 9.39396208e-01],\n",
       "       [ 3.78408281e-03],\n",
       "       [ 1.17583814e+00],\n",
       "       [-4.44920018e-01],\n",
       "       [-4.86025892e-01],\n",
       "       [-9.50072489e-01],\n",
       "       [-3.37984045e-01]])"
      ]
     },
     "execution_count": 37,
     "metadata": {},
     "output_type": "execute_result"
    }
   ],
   "source": [
    "x"
   ]
  },
  {
   "cell_type": "code",
   "execution_count": 38,
   "id": "e7eab69c-6a35-466e-9a70-4e6091b182e0",
   "metadata": {},
   "outputs": [
    {
     "data": {
      "text/plain": [
       "array([-6.76689633e+01,  4.38229657e+01, -1.47144735e-01,  6.58793275e+00,\n",
       "       -3.60810592e+01,  2.91735959e+01,  1.74526246e+01,  1.04716414e+01,\n",
       "        2.52912442e+01, -5.42585993e-02,  1.53398894e+01, -5.94707822e+01,\n",
       "       -8.20087875e+00,  1.80011493e+01, -7.57088997e+00,  1.34762939e+01,\n",
       "        5.26822122e+01, -2.89267976e+01, -7.06556933e+01,  3.63597201e+01,\n",
       "       -1.30020343e+01, -2.83583648e+01, -2.14473841e+00, -1.09894531e+00,\n",
       "        7.90853448e+00,  1.61132218e+01,  1.03358804e+00, -3.41143749e+01,\n",
       "        5.69487387e+00,  1.64763792e+01, -2.18496067e+01, -4.66497189e+01,\n",
       "       -4.03337767e+01,  3.58157652e+01, -2.33465621e+01, -1.52372705e+01,\n",
       "       -3.67991080e+01,  7.66506363e+01,  5.98045771e+00,  5.57821603e+01,\n",
       "        1.65357973e+01,  1.19485106e+01,  1.75077832e+01,  7.17204624e+01,\n",
       "       -1.37915166e+00, -2.49220609e+01,  9.12469675e+01, -3.73991169e+01,\n",
       "       -1.67275682e+01, -2.56720345e+01, -4.70354402e+00,  1.88697774e+00,\n",
       "       -9.46002815e-01, -1.71355586e+01, -2.76086654e+01, -4.85378606e+01,\n",
       "        3.30908325e+01, -4.34881826e+01,  5.16929453e+00,  1.83954572e+01,\n",
       "       -8.95356287e+00, -5.10411266e+01,  4.44808187e+01, -1.14139412e+01,\n",
       "       -5.26744079e+00, -2.06845217e+01, -4.45299271e+01, -3.54576280e+01,\n",
       "       -1.95441776e+01, -1.14065300e+01, -2.33594203e+01,  6.92893044e+01,\n",
       "       -3.63628823e+01, -1.89034449e+01, -3.73324976e+01,  2.32746396e+01,\n",
       "       -3.25553984e+01, -2.33318986e+01,  1.90796306e+01, -3.11641595e+01,\n",
       "        1.36659224e+01, -1.37517819e+01, -1.75712761e+01, -9.55986203e+00,\n",
       "       -5.68478615e+00, -4.42165484e+00, -1.89895489e+01,  1.25318314e+01,\n",
       "       -2.61056210e+01,  1.21131022e+01,  6.23930387e-01,  4.92336300e+01,\n",
       "       -3.21637199e+01,  3.33725070e+01,  1.34431382e-01,  4.17722217e+01,\n",
       "       -1.58060000e+01, -1.72663061e+01, -3.37517871e+01, -1.20070475e+01])"
      ]
     },
     "execution_count": 38,
     "metadata": {},
     "output_type": "execute_result"
    }
   ],
   "source": [
    "y"
   ]
  },
  {
   "cell_type": "code",
   "execution_count": 42,
   "id": "064da30f-e856-42c4-b4c7-ea21a1be84ea",
   "metadata": {},
   "outputs": [
    {
     "data": {
      "text/plain": [
       "2"
      ]
     },
     "execution_count": 42,
     "metadata": {},
     "output_type": "execute_result"
    }
   ],
   "source": [
    "x.ndim"
   ]
  },
  {
   "cell_type": "code",
   "execution_count": 43,
   "id": "280e4777-f52d-4da7-8f84-aaf7f51f10b4",
   "metadata": {},
   "outputs": [
    {
     "data": {
      "text/plain": [
       "1"
      ]
     },
     "execution_count": 43,
     "metadata": {},
     "output_type": "execute_result"
    }
   ],
   "source": [
    "y.ndim"
   ]
  },
  {
   "cell_type": "code",
   "execution_count": 52,
   "id": "28663908-f423-4200-875f-558cbba1c6e6",
   "metadata": {},
   "outputs": [
    {
     "data": {
      "image/png": "[encoded data removed]",
      "text/plain": [
       "<Figure size 448x336 with 1 Axes>"
      ]
     },
     "metadata": {},
     "output_type": "display_data"
    }
   ],
   "source": [
    "fig,axes = plt.subplots(dpi = 70)\n",
    "axes.scatter(x,y,marker='o')\n",
    "axes.set_title(\"Data generated from make_regression\")\n",
    "#fig.savefig(\"output/img.png\")\n",
    "#plt.close(fig)\n",
    "plt.show()"
   ]
  },
  {
   "cell_type": "code",
   "execution_count": 56,
   "id": "045d9e4e-211c-4192-a982-b160b13290f1",
   "metadata": {},
   "outputs": [],
   "source": [
    "import sklearn.preprocessing as preprocessing"
   ]
  },
  {
   "cell_type": "code",
   "execution_count": 62,
   "id": "7f1ddb76-8d1c-4155-ad35-39c758d0b390",
   "metadata": {},
   "outputs": [
    {
     "data": {
      "text/plain": [
       "array([[0.01844769],\n",
       "       [0.70708325],\n",
       "       [0.43549963],\n",
       "       [0.47709918],\n",
       "       [0.21355198],\n",
       "       [0.61660067],\n",
       "       [0.5442055 ],\n",
       "       [0.5010871 ],\n",
       "       [0.59262113],\n",
       "       [0.43607334],\n",
       "       [0.53115608],\n",
       "       [0.06908417],\n",
       "       [0.38575533],\n",
       "       [0.54759349],\n",
       "       [0.38964649],\n",
       "       [0.51964549],\n",
       "       [0.76180283],\n",
       "       [0.25774064],\n",
       "       [0.        ],\n",
       "       [0.66098613],\n",
       "       [0.35610075],\n",
       "       [0.2612516 ],\n",
       "       [0.42316139],\n",
       "       [0.42962078],\n",
       "       [0.48525594],\n",
       "       [0.53593261],\n",
       "       [0.44279248],\n",
       "       [0.22569931],\n",
       "       [0.47158315],\n",
       "       [0.53817567],\n",
       "       [0.30145327],\n",
       "       [0.14827412],\n",
       "       [0.18728486],\n",
       "       [0.65762637],\n",
       "       [0.29220725],\n",
       "       [0.3422947 ],\n",
       "       [0.20911692],\n",
       "       [0.90984502],\n",
       "       [0.47334708],\n",
       "       [0.78094982],\n",
       "       [0.53854267],\n",
       "       [0.51020906],\n",
       "       [0.54454619],\n",
       "       [0.87939355],\n",
       "       [0.42789007],\n",
       "       [0.2824761 ],\n",
       "       [1.        ],\n",
       "       [0.20541093],\n",
       "       [0.3330898 ],\n",
       "       [0.27784385],\n",
       "       [0.4073568 ],\n",
       "       [0.44806349],\n",
       "       [0.43056544],\n",
       "       [0.33056983],\n",
       "       [0.26588215],\n",
       "       [0.13661192],\n",
       "       [0.64079568],\n",
       "       [0.16780151],\n",
       "       [0.46833688],\n",
       "       [0.55002895],\n",
       "       [0.38110634],\n",
       "       [0.12115037],\n",
       "       [0.71114651],\n",
       "       [0.36590969],\n",
       "       [0.40387386],\n",
       "       [0.30864948],\n",
       "       [0.16136712],\n",
       "       [0.21740264],\n",
       "       [0.31569287],\n",
       "       [0.36595546],\n",
       "       [0.29212783],\n",
       "       [0.86437738],\n",
       "       [0.21181129],\n",
       "       [0.31965039],\n",
       "       [0.20582241],\n",
       "       [0.58016547],\n",
       "       [0.2353284 ],\n",
       "       [0.29229782],\n",
       "       [0.55425478],\n",
       "       [0.24392146],\n",
       "       [0.52081674],\n",
       "       [0.3514699 ],\n",
       "       [0.3278786 ],\n",
       "       [0.3773615 ],\n",
       "       [0.4012961 ],\n",
       "       [0.4090979 ],\n",
       "       [0.31911856],\n",
       "       [0.51381197],\n",
       "       [0.27516578],\n",
       "       [0.51122567],\n",
       "       [0.44026221],\n",
       "       [0.74050249],\n",
       "       [0.23774763],\n",
       "       [0.64253546],\n",
       "       [0.4372388 ],\n",
       "       [0.69441672],\n",
       "       [0.33878191],\n",
       "       [0.32976226],\n",
       "       [0.22793885],\n",
       "       [0.36224634]])"
      ]
     },
     "execution_count": 62,
     "metadata": {},
     "output_type": "execute_result"
    }
   ],
   "source": [
    "minmax = preprocessing.MinMaxScaler()\n",
    "minmax.fit(x)\n",
    "\n",
    "X_minmax = minmax.transform(x)\n",
    "X_minmax"
   ]
  },
  {
   "cell_type": "code",
   "execution_count": 64,
   "id": "15fc6153-6d7a-4d84-9459-23efa8d61446",
   "metadata": {},
   "outputs": [
    {
     "data": {
      "text/plain": [
       "0.0"
      ]
     },
     "execution_count": 64,
     "metadata": {},
     "output_type": "execute_result"
    }
   ],
   "source": [
    "X_minmax.min()"
   ]
  },
  {
   "cell_type": "markdown",
   "id": "a2ea69d8-c452-4ff4-aba3-0fb4fd0062b9",
   "metadata": {},
   "source": [
    "#### Scalling Demo \n",
    "**MinMaxScaller() ---> fit and scale the data between 0 and 1**"
   ]
  },
  {
   "cell_type": "markdown",
   "id": "0fb6504f-fcff-470c-9266-0ddbe18c3282",
   "metadata": {},
   "source": [
    "#### MinMaxScaler()"
   ]
  },
  {
   "cell_type": "code",
   "execution_count": 81,
   "id": "21dd5a3c-7df0-4cb3-82a7-cbba8229d8dd",
   "metadata": {},
   "outputs": [
    {
     "data": {
      "text/plain": [
       "array([[0.33333333, 0.25      , 0.        , 0.33333333],\n",
       "       [1.        , 1.        , 0.        , 0.        ],\n",
       "       [0.33333333, 0.25      , 1.        , 1.        ],\n",
       "       [0.        , 0.        , 0.        , 1.        ]])"
      ]
     },
     "execution_count": 81,
     "metadata": {},
     "output_type": "execute_result"
    }
   ],
   "source": [
    "arrx = np.random.randint(5, high=10, size=(4,4))\n",
    "#arry = np.random.randint(100, 10000, size=(4, 2))\n",
    "#arrxcctarry = np.concatenate((arrx, arry), axis=1)\n",
    "\n",
    "dminmax = preprocessing.MinMaxScaler()\n",
    "dminmax.fit(arrx)\n",
    "dminmax_transform = dminmax.transform(arrx)\n",
    "dminmax_transform"
   ]
  },
  {
   "cell_type": "markdown",
   "id": "41f8f039-e287-4049-a067-c1a7de6bb9f7",
   "metadata": {},
   "source": [
    "#### StandardScaler()"
   ]
  },
  {
   "cell_type": "code",
   "execution_count": 83,
   "id": "61d1581c-9d02-4469-b466-cc532f92c613",
   "metadata": {},
   "outputs": [
    {
     "data": {
      "text/plain": [
       "array([[-0.63245553,  0.4472136 , -0.57735027,  1.18321596,  1.26482735,\n",
       "        -0.14382475],\n",
       "       [ 0.63245553, -0.4472136 ,  1.73205081, -0.16903085, -0.87522647,\n",
       "        -0.87342419],\n",
       "       [ 1.26491106,  1.34164079, -0.57735027, -1.52127766,  0.68789316,\n",
       "         1.67031439],\n",
       "       [-1.26491106, -1.34164079, -0.57735027,  0.50709255, -1.07749404,\n",
       "        -0.65306544]])"
      ]
     },
     "execution_count": 83,
     "metadata": {},
     "output_type": "execute_result"
    }
   ],
   "source": [
    "arrstdx = np.random.randint(5, high=10, size=(4,4))\n",
    "arrstdy = np.random.randint(100, 10000, size=(4, 2))\n",
    "arrxstdcctarrstdy = np.concatenate((arrstdx, arrstdy), axis=1)\n",
    "std = preprocessing.StandardScaler()\n",
    "\n",
    "std.fit(arrxstdcctarrstdy)\n",
    "\n",
    "std_transform_to_original_array = std.transform(arrxstdcctarrstdy)\n",
    "\n",
    "std_transform_to_original_array"
   ]
  },
  {
   "cell_type": "markdown",
   "id": "79a4ef87-362b-4710-a81e-f5e1f96c6043",
   "metadata": {},
   "source": [
    "###  implement linear regression"
   ]
  },
  {
   "cell_type": "code",
   "execution_count": 86,
   "id": "96ee0678-3a67-4514-bd89-9931639d393b",
   "metadata": {},
   "outputs": [],
   "source": [
    "from sklearn.model_selection import train_test_split\n",
    "from sklearn.linear_model import LinearRegression\n",
    "import sklearn.metrics as metrics"
   ]
  },
  {
   "cell_type": "code",
   "execution_count": null,
   "id": "926be864-961b-47a8-9a5d-df8c22030060",
   "metadata": {},
   "outputs": [],
   "source": [
    "house = datasets.fetch_california_housing()\n",
    "# data is devide d to 80% for traing purpose and 20% for test purpose\n",
    "train_x,test_x,train_y,test_y = train_test_split(\n",
    "    house.data,\n",
    "    house.target,\n",
    "    train_size=0.2,\n",
    "    random_state=42,\n",
    ")\n",
    "\n",
    "lr = LinearRegression()\n",
    "\n",
    "lr.fit(x_train,y_train)\n",
    "\n",
    "pred_y = lr.predict(test_x)\n",
    "\n",
    "mse = metrics.mean_squared_error(test_y, pred_y)\n",
    "print(house.DESCR)"
   ]
  },
  {
   "cell_type": "markdown",
   "id": "ef7dd960-913e-4cc2-bb52-50c850209375",
   "metadata": {},
   "source": [
    "#### Lecture Example"
   ]
  },
  {
   "cell_type": "code",
   "execution_count": 171,
   "id": "754f1c09-3ed3-461e-b514-2ba49b1affaf",
   "metadata": {},
   "outputs": [
    {
     "data": {
      "text/plain": [
       "Index(['YearsExperience', 'Salary'], dtype='object')"
      ]
     },
     "execution_count": 171,
     "metadata": {},
     "output_type": "execute_result"
    }
   ],
   "source": [
    "#Prepare Data Set\n",
    "import os \n",
    "\n",
    "df = pd.read_csv(os.path.join(os.getcwd(),'data','Salary_dataset.csv'))\n",
    "df.drop(['Unnamed: 0'],axis=1,inplace=True)\n",
    "df.columns"
   ]
  },
  {
   "cell_type": "code",
   "execution_count": 172,
   "id": "a9d2359c-14c2-412a-a5df-476cbb3e1ef8",
   "metadata": {},
   "outputs": [
    {
     "data": {
      "image/png": "[encoded data removed]",
      "text/plain": [
       "<Figure size 640x480 with 1 Axes>"
      ]
     },
     "metadata": {},
     "output_type": "display_data"
    }
   ],
   "source": [
    "plt.scatter(df['YearsExperience'],df['Salary'])\n",
    "plt.show()"
   ]
  },
  {
   "cell_type": "code",
   "execution_count": 173,
   "id": "abcbddba-3ede-4421-834e-1c4e099a3366",
   "metadata": {},
   "outputs": [],
   "source": [
    "from sklearn.linear_model import LinearRegression"
   ]
  },
  {
   "cell_type": "code",
   "execution_count": 198,
   "id": "4a2ad5ba-6679-4219-adc7-45e0830b39b4",
   "metadata": {},
   "outputs": [
    {
     "name": "stdout",
     "output_type": "stream",
     "text": [
      "Predicted Sallaries \n",
      " [ 36188.15875227  38078.15121656  39968.14368085  44693.12484158\n",
      "  46583.11730587  53198.09093089  54143.08716303  56033.07962732\n",
      "  56033.07962732  60758.06078805  62648.05325234  63593.04948449\n",
      "  63593.04948449  64538.04571663  68318.03064522  72098.0155738\n",
      "  73988.00803809  75878.00050238  81547.97789525  82492.9741274\n",
      "  90052.94398456  92887.932681   100447.90253816 103282.8912346\n",
      " 108007.87239533 110842.86109176 115567.84225249 116512.83848464\n",
      " 123127.81210966 125017.80457395] \n",
      "****************************************\n",
      " coef_ ==> mx+y   m (slope) = 9449.962321455074\n",
      "****************************************\n",
      " intercept_ ==> mx+y   y = 24848.203966523208\n"
     ]
    }
   ],
   "source": [
    "lr = LinearRegression()\n",
    "lr.fit(df['YearsExperience'].values.reshape(-1,1),df['Salary'])\n",
    "\n",
    "predict = lr.predict(df['YearsExperience'].values.reshape(-1,1))\n",
    "predict\n",
    "\n",
    "print(f'Predicted Sallaries \\n {predict} ')\n",
    "print('*'*40)\n",
    "print(f' coef_ ==> mx+y   m (slope) = { lr.coef_[0] }')\n",
    "print('*'*40)\n",
    "print(f' intercept_ ==> mx+y   y = { lr.intercept_ }')\n",
    "\n"
   ]
  },
  {
   "cell_type": "code",
   "execution_count": 199,
   "id": "2bf2777b-9a6f-4395-96e3-a22cf89600ff",
   "metadata": {},
   "outputs": [
    {
     "data": {
      "image/png": "[encoded data removed]",
      "text/plain": [
       "<Figure size 640x480 with 1 Axes>"
      ]
     },
     "metadata": {},
     "output_type": "display_data"
    }
   ],
   "source": [
    "plt.scatter(df['YearsExperience'],df['Salary'])\n",
    "plt.scatter(df['YearsExperience'],predict)\n",
    "plt.show()"
   ]
  },
  {
   "cell_type": "markdown",
   "id": "16145be5-a68a-4e56-9414-e9b78cee8b7c",
   "metadata": {},
   "source": [
    "### Evaluate Model\n",
    "1 - Mean Square Error (mean_absolute_error)"
   ]
  },
  {
   "cell_type": "code",
   "execution_count": 208,
   "id": "efe7fba8-6e48-4d38-824f-6eaf0916a469",
   "metadata": {},
   "outputs": [],
   "source": [
    "from sklearn.metrics import mean_squared_error,r2_score,mean_absolute_error,mean_absolute_percentage_error"
   ]
  },
  {
   "cell_type": "code",
   "execution_count": 201,
   "id": "6c0a3094-0b6a-424e-ae86-90cc72409623",
   "metadata": {},
   "outputs": [
    {
     "data": {
      "text/plain": [
       "31270951.722280957"
      ]
     },
     "execution_count": 201,
     "metadata": {},
     "output_type": "execute_result"
    }
   ],
   "source": [
    "mean_squared_error(df['Salary'],predict)"
   ]
  },
  {
   "cell_type": "markdown",
   "id": "9ae28cd4-8cb9-4630-b89e-e626223dc81b",
   "metadata": {},
   "source": [
    "- Model Accuracy"
   ]
  },
  {
   "cell_type": "code",
   "execution_count": 202,
   "id": "6608716b-05ed-4efa-94dc-d3ed306e5188",
   "metadata": {},
   "outputs": [
    {
     "data": {
      "text/plain": [
       "0.9569566641435086"
      ]
     },
     "execution_count": 202,
     "metadata": {},
     "output_type": "execute_result"
    }
   ],
   "source": [
    "r2_score(df['Salary'],predict)  # 0.9569566641435086"
   ]
  },
  {
   "cell_type": "markdown",
   "id": "e36af43a-d01a-434c-928a-daf0dc15662a",
   "metadata": {},
   "source": [
    "2 - mean absolute error (mean_absolute_error)"
   ]
  },
  {
   "cell_type": "code",
   "execution_count": 211,
   "id": "abbe7cf9-3c35-443d-a2aa-a977f145316e",
   "metadata": {},
   "outputs": [
    {
     "name": "stdout",
     "output_type": "stream",
     "text": [
      "4644.2012894435375\n",
      "0.07047915917264219\n"
     ]
    }
   ],
   "source": [
    "print(mean_absolute_error(df['Salary'],predict))\n",
    "print(mean_absolute_percentage_error(df['Salary'],predict))"
   ]
  },
  {
   "cell_type": "code",
   "execution_count": null,
   "id": "06df3ec3-daa0-4a8e-9a00-fb57b18a3c83",
   "metadata": {},
   "outputs": [],
   "source": []
  }
 ],
 "metadata": {
  "kernelspec": {
   "display_name": "Python 3 (ipykernel)",
   "language": "python",
   "name": "python3"
  },
  "language_info": {
   "codemirror_mode": {
    "name": "ipython",
    "version": 3
   },
   "file_extension": ".py",
   "mimetype": "text/x-python",
   "name": "python",
   "nbconvert_exporter": "python",
   "pygments_lexer": "ipython3",
   "version": "3.11.3"
  }
 },
 "nbformat": 4,
 "nbformat_minor": 5
}
