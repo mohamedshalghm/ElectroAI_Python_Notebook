{
 "cells": [
  {
   "cell_type": "code",
   "execution_count": 1,
   "id": "9fadf5a8-19d0-46f6-9273-969092789ff3",
   "metadata": {},
   "outputs": [],
   "source": [
    "import numpy as np\n",
    "import pandas as pd\n",
    "import matplotlib.pyplot as plt\n",
    "import seaborn as sns\n",
    "import os\n",
    "%matplotlib inline"
   ]
  },
  {
   "cell_type": "code",
   "execution_count": 3,
   "id": "ef025782-aec7-420c-ae94-1eb1e6c3cf66",
   "metadata": {},
   "outputs": [
    {
     "data": {
      "text/html": [
       "<div>\n",
       "<style scoped>\n",
       "    .dataframe tbody tr th:only-of-type {\n",
       "        vertical-align: middle;\n",
       "    }\n",
       "\n",
       "    .dataframe tbody tr th {\n",
       "        vertical-align: top;\n",
       "    }\n",
       "\n",
       "    .dataframe thead th {\n",
       "        text-align: right;\n",
       "    }\n",
       "</style>\n",
       "<table border=\"1\" class=\"dataframe\">\n",
       "  <thead>\n",
       "    <tr style=\"text-align: right;\">\n",
       "      <th></th>\n",
       "      <th>User ID</th>\n",
       "      <th>Gender</th>\n",
       "      <th>Age</th>\n",
       "      <th>EstimatedSalary</th>\n",
       "      <th>Purchased</th>\n",
       "    </tr>\n",
       "  </thead>\n",
       "  <tbody>\n",
       "    <tr>\n",
       "      <th>0</th>\n",
       "      <td>15624510</td>\n",
       "      <td>Male</td>\n",
       "      <td>19</td>\n",
       "      <td>19000</td>\n",
       "      <td>0</td>\n",
       "    </tr>\n",
       "    <tr>\n",
       "      <th>1</th>\n",
       "      <td>15810944</td>\n",
       "      <td>Male</td>\n",
       "      <td>35</td>\n",
       "      <td>20000</td>\n",
       "      <td>0</td>\n",
       "    </tr>\n",
       "    <tr>\n",
       "      <th>2</th>\n",
       "      <td>15668575</td>\n",
       "      <td>Female</td>\n",
       "      <td>26</td>\n",
       "      <td>43000</td>\n",
       "      <td>0</td>\n",
       "    </tr>\n",
       "    <tr>\n",
       "      <th>3</th>\n",
       "      <td>15603246</td>\n",
       "      <td>Female</td>\n",
       "      <td>27</td>\n",
       "      <td>57000</td>\n",
       "      <td>0</td>\n",
       "    </tr>\n",
       "    <tr>\n",
       "      <th>4</th>\n",
       "      <td>15804002</td>\n",
       "      <td>Male</td>\n",
       "      <td>19</td>\n",
       "      <td>76000</td>\n",
       "      <td>0</td>\n",
       "    </tr>\n",
       "  </tbody>\n",
       "</table>\n",
       "</div>"
      ],
      "text/plain": [
       "    User ID  Gender  Age  EstimatedSalary  Purchased\n",
       "0  15624510    Male   19            19000          0\n",
       "1  15810944    Male   35            20000          0\n",
       "2  15668575  Female   26            43000          0\n",
       "3  15603246  Female   27            57000          0\n",
       "4  15804002    Male   19            76000          0"
      ]
     },
     "execution_count": 3,
     "metadata": {},
     "output_type": "execute_result"
    }
   ],
   "source": [
    "DATA_PATH = os.path.join(os.getcwd(),'data','User_Data.csv')\n",
    "df = pd.read_csv(DATA_PATH)\n",
    "df.head()"
   ]
  },
  {
   "cell_type": "code",
   "execution_count": 4,
   "id": "3e3b0e07-498c-4f61-b2d1-c68a8514bef8",
   "metadata": {},
   "outputs": [],
   "source": [
    "df = df.drop(['User ID','Gender'],axis=1)"
   ]
  },
  {
   "cell_type": "code",
   "execution_count": 11,
   "id": "ad6aff0e-07ff-4358-8ee5-6101206d0c9a",
   "metadata": {},
   "outputs": [],
   "source": [
    "df = df.rename({'EstimatedSalary':'Salary'},axis=1)"
   ]
  },
  {
   "cell_type": "code",
   "execution_count": 14,
   "id": "53d46dce-67f3-4c6a-ae29-cb5a135da59d",
   "metadata": {},
   "outputs": [
    {
     "data": {
      "text/html": [
       "<div>\n",
       "<style scoped>\n",
       "    .dataframe tbody tr th:only-of-type {\n",
       "        vertical-align: middle;\n",
       "    }\n",
       "\n",
       "    .dataframe tbody tr th {\n",
       "        vertical-align: top;\n",
       "    }\n",
       "\n",
       "    .dataframe thead th {\n",
       "        text-align: right;\n",
       "    }\n",
       "</style>\n",
       "<table border=\"1\" class=\"dataframe\">\n",
       "  <thead>\n",
       "    <tr style=\"text-align: right;\">\n",
       "      <th></th>\n",
       "      <th>Age</th>\n",
       "      <th>Salary</th>\n",
       "      <th>Purchased</th>\n",
       "    </tr>\n",
       "  </thead>\n",
       "  <tbody>\n",
       "    <tr>\n",
       "      <th>0</th>\n",
       "      <td>19</td>\n",
       "      <td>19000</td>\n",
       "      <td>0</td>\n",
       "    </tr>\n",
       "    <tr>\n",
       "      <th>1</th>\n",
       "      <td>35</td>\n",
       "      <td>20000</td>\n",
       "      <td>0</td>\n",
       "    </tr>\n",
       "    <tr>\n",
       "      <th>2</th>\n",
       "      <td>26</td>\n",
       "      <td>43000</td>\n",
       "      <td>0</td>\n",
       "    </tr>\n",
       "    <tr>\n",
       "      <th>3</th>\n",
       "      <td>27</td>\n",
       "      <td>57000</td>\n",
       "      <td>0</td>\n",
       "    </tr>\n",
       "    <tr>\n",
       "      <th>4</th>\n",
       "      <td>19</td>\n",
       "      <td>76000</td>\n",
       "      <td>0</td>\n",
       "    </tr>\n",
       "  </tbody>\n",
       "</table>\n",
       "</div>"
      ],
      "text/plain": [
       "   Age  Salary  Purchased\n",
       "0   19   19000          0\n",
       "1   35   20000          0\n",
       "2   26   43000          0\n",
       "3   27   57000          0\n",
       "4   19   76000          0"
      ]
     },
     "execution_count": 14,
     "metadata": {},
     "output_type": "execute_result"
    }
   ],
   "source": [
    "df.head()"
   ]
  },
  {
   "cell_type": "code",
   "execution_count": 17,
   "id": "0e95464d-5e0f-4433-a162-9a80dae7e700",
   "metadata": {},
   "outputs": [
    {
     "name": "stdout",
     "output_type": "stream",
     "text": [
      "<class 'pandas.core.frame.DataFrame'>\n",
      "Index: 400 entries, 0 to 399\n",
      "Data columns (total 3 columns):\n",
      " #   Column     Non-Null Count  Dtype\n",
      "---  ------     --------------  -----\n",
      " 0   Age        400 non-null    int64\n",
      " 1   Salary     400 non-null    int64\n",
      " 2   Purchased  400 non-null    int64\n",
      "dtypes: int64(3)\n",
      "memory usage: 12.5 KB\n"
     ]
    }
   ],
   "source": [
    "df.info()"
   ]
  },
  {
   "cell_type": "code",
   "execution_count": 16,
   "id": "5c4d6f57-bef9-4a0e-9a24-d6da242c2a6d",
   "metadata": {},
   "outputs": [
    {
     "data": {
      "text/plain": [
       "Age          0\n",
       "Salary       0\n",
       "Purchased    0\n",
       "dtype: int64"
      ]
     },
     "execution_count": 16,
     "metadata": {},
     "output_type": "execute_result"
    }
   ],
   "source": [
    "df.isna().sum()"
   ]
  },
  {
   "cell_type": "code",
   "execution_count": 23,
   "id": "2d925b5a-177d-42a7-b640-9e45a4dc5382",
   "metadata": {},
   "outputs": [],
   "source": [
    "x = df.iloc[:,[0,1]].values\n",
    "y = df.iloc[:,[2]].values"
   ]
  },
  {
   "cell_type": "code",
   "execution_count": 49,
   "id": "e7b69a3d-df64-49a6-9595-fb1c85116ccb",
   "metadata": {},
   "outputs": [],
   "source": [
    "def get_purchase_label(p):\n",
    "    if p == 0:\n",
    "        return 'Not Purchased'\n",
    "    else:\n",
    "        return 'Purchased'"
   ]
  },
  {
   "cell_type": "code",
   "execution_count": 34,
   "id": "89f36d08-3879-4f28-b430-26632ff7c0ac",
   "metadata": {},
   "outputs": [],
   "source": [
    "targetdf = df['Purchased'].value_counts().reset_index()"
   ]
  },
  {
   "cell_type": "code",
   "execution_count": 51,
   "id": "01a434e2-e081-49b8-8ced-18d22f39b4e0",
   "metadata": {},
   "outputs": [],
   "source": [
    "targetdf ['Purchased'] = targetdf['Purchased'].map(get_purchase_label)"
   ]
  },
  {
   "cell_type": "code",
   "execution_count": 52,
   "id": "9e6b1288-e283-4a4f-8972-3516d3ee4392",
   "metadata": {},
   "outputs": [
    {
     "data": {
      "text/html": [
       "<div>\n",
       "<style scoped>\n",
       "    .dataframe tbody tr th:only-of-type {\n",
       "        vertical-align: middle;\n",
       "    }\n",
       "\n",
       "    .dataframe tbody tr th {\n",
       "        vertical-align: top;\n",
       "    }\n",
       "\n",
       "    .dataframe thead th {\n",
       "        text-align: right;\n",
       "    }\n",
       "</style>\n",
       "<table border=\"1\" class=\"dataframe\">\n",
       "  <thead>\n",
       "    <tr style=\"text-align: right;\">\n",
       "      <th></th>\n",
       "      <th>Purchased</th>\n",
       "      <th>count</th>\n",
       "    </tr>\n",
       "  </thead>\n",
       "  <tbody>\n",
       "    <tr>\n",
       "      <th>0</th>\n",
       "      <td>Not Purchased</td>\n",
       "      <td>257</td>\n",
       "    </tr>\n",
       "    <tr>\n",
       "      <th>1</th>\n",
       "      <td>Purchased</td>\n",
       "      <td>143</td>\n",
       "    </tr>\n",
       "  </tbody>\n",
       "</table>\n",
       "</div>"
      ],
      "text/plain": [
       "       Purchased  count\n",
       "0  Not Purchased    257\n",
       "1      Purchased    143"
      ]
     },
     "execution_count": 52,
     "metadata": {},
     "output_type": "execute_result"
    }
   ],
   "source": [
    "targetdf"
   ]
  },
  {
   "cell_type": "code",
   "execution_count": 53,
   "id": "be67d63b-b3a3-46bd-a7bd-17662aa14e0e",
   "metadata": {},
   "outputs": [
    {
     "data": {
      "image/png": "[encoded data removed]",
      "text/plain": [
       "<Figure size 640x480 with 1 Axes>"
      ]
     },
     "metadata": {},
     "output_type": "display_data"
    }
   ],
   "source": [
    "sns.barplot(targetdf,y='count',x='Purchased',hue='Purchased');"
   ]
  },
  {
   "cell_type": "code",
   "execution_count": 61,
   "id": "8a2aafe8-5c5f-4c00-8bae-035ed8a2c2fc",
   "metadata": {},
   "outputs": [
    {
     "data": {
      "image/png": "[encoded data removed]",
      "text/plain": [
       "<Figure size 640x480 with 1 Axes>"
      ]
     },
     "metadata": {},
     "output_type": "display_data"
    }
   ],
   "source": [
    "plt.pie(df['Purchased'].value_counts(),labels=['Not Purchased','Purchased'], autopct='%1.0f%%', pctdistance=1.1, labeldistance=1.2);\n",
    "plt.show() "
   ]
  },
  {
   "cell_type": "code",
   "execution_count": 64,
   "id": "874725b2-d1d3-4866-ba5c-533b0885258c",
   "metadata": {},
   "outputs": [],
   "source": [
    "from sklearn.model_selection import train_test_split"
   ]
  },
  {
   "cell_type": "code",
   "execution_count": 65,
   "id": "1fea8a8f-4c76-44ce-87c5-b24ba5369294",
   "metadata": {},
   "outputs": [],
   "source": [
    "X_train,X_test,y_train,y_test = train_test_split(x,y,test_size=0.2,random_state=0)"
   ]
  },
  {
   "cell_type": "code",
   "execution_count": 297,
   "id": "de522bba-d9f8-428b-8feb-2fa9c33cb244",
   "metadata": {},
   "outputs": [
    {
     "name": "stdout",
     "output_type": "stream",
     "text": [
      "(80, 2)\n",
      "(80, 1)\n"
     ]
    }
   ],
   "source": [
    "print(X_test.shape)\n",
    "print(y_test.shape)"
   ]
  },
  {
   "cell_type": "code",
   "execution_count": 69,
   "id": "6d1f7c6e-e8c7-41db-ac03-865d9f2362e6",
   "metadata": {},
   "outputs": [
    {
     "name": "stdout",
     "output_type": "stream",
     "text": [
      "\n",
      " X train\n",
      " [[    58 144000]\n",
      " [    59  83000]\n",
      " [    24  55000]\n",
      " [    26  35000]\n",
      " [    58  38000]\n",
      " [    42  80000]\n",
      " [    40  75000]\n",
      " [    59 130000]\n",
      " [    46  41000]\n",
      " [    41  60000]] \n",
      " y train\n",
      " [[1]\n",
      " [0]\n",
      " [0]\n",
      " [0]\n",
      " [1]\n",
      " [1]\n",
      " [0]\n",
      " [1]\n",
      " [1]\n",
      " [0]]\n"
     ]
    }
   ],
   "source": [
    "print('\\n X train\\n',X_train[:10],'\\n y train\\n',y_train[:10])"
   ]
  },
  {
   "cell_type": "code",
   "execution_count": 70,
   "id": "2d8cadeb-9c99-4e01-85ec-b54eaacc159f",
   "metadata": {},
   "outputs": [],
   "source": [
    "from sklearn.preprocessing import StandardScaler"
   ]
  },
  {
   "cell_type": "code",
   "execution_count": 74,
   "id": "fd0ef6d6-a43a-4444-bcc2-b2f4536e1bd1",
   "metadata": {},
   "outputs": [],
   "source": [
    "scl = StandardScaler()\n",
    "\n",
    "X_train = scl.fit_transform(X_train)\n",
    "X_test = scl.fit_transform(X_test)"
   ]
  },
  {
   "cell_type": "code",
   "execution_count": 75,
   "id": "03db418e-3ac0-42a2-9313-5b795f292ae1",
   "metadata": {},
   "outputs": [
    {
     "name": "stdout",
     "output_type": "stream",
     "text": [
      "Independent class\n",
      " [[ 1.92295008  2.14601566]\n",
      " [ 2.02016082  0.3787193 ]\n",
      " [-1.3822153  -0.4324987 ]\n",
      " [-1.18779381 -1.01194013]\n",
      " [ 1.92295008 -0.92502392]\n",
      " [ 0.36757813  0.29180308]\n",
      " [ 0.17315664  0.14694273]\n",
      " [ 2.02016082  1.74040666]\n",
      " [ 0.75642112 -0.83810771]\n",
      " [ 0.27036739 -0.28763835]]\n"
     ]
    }
   ],
   "source": [
    "print(\"Independent class\\n\", X_train[:10])"
   ]
  },
  {
   "cell_type": "markdown",
   "id": "4dce6b12-91ce-46c6-905b-02764f154cbe",
   "metadata": {},
   "source": [
    "## Training The Model"
   ]
  },
  {
   "cell_type": "code",
   "execution_count": 76,
   "id": "1518c76d-02d1-44a6-a2d8-e722ac33f586",
   "metadata": {},
   "outputs": [],
   "source": [
    "from sklearn.linear_model import LogisticRegression"
   ]
  },
  {
   "cell_type": "code",
   "execution_count": 84,
   "id": "ffb3c206-c6da-4160-9f3e-a29caf428995",
   "metadata": {},
   "outputs": [
    {
     "name": "stderr",
     "output_type": "stream",
     "text": [
      "D:\\Data Science\\ElectorPI-Initiative\\envs\\sklearn_spv\\Lib\\site-packages\\sklearn\\utils\\validation.py:1184: DataConversionWarning: A column-vector y was passed when a 1d array was expected. Please change the shape of y to (n_samples, ), for example using ravel().\n",
      "  y = column_or_1d(y, warn=True)\n"
     ]
    }
   ],
   "source": [
    "clf = LogisticRegression()\n",
    "clf.fit(X_train,y_train)\n",
    "\n",
    "y_train_predict = clf.predict(X_train)\n",
    "y_test_predict = clf.predict(X_test)"
   ]
  },
  {
   "cell_type": "markdown",
   "id": "4ee927ff-a67a-4f85-b053-bb2a5459c49b",
   "metadata": {},
   "source": [
    "## Accuracy of the model"
   ]
  },
  {
   "cell_type": "code",
   "execution_count": 83,
   "id": "c1242234-b77e-4f59-b9a1-f8765429f525",
   "metadata": {},
   "outputs": [],
   "source": [
    "from sklearn.metrics import accuracy_score"
   ]
  },
  {
   "cell_type": "code",
   "execution_count": 88,
   "id": "57198ba8-453b-43f7-953d-32059a9d171d",
   "metadata": {},
   "outputs": [
    {
     "name": "stdout",
     "output_type": "stream",
     "text": [
      " Train ACC :  0.821875\n",
      " Test ACC :  0.8875\n"
     ]
    }
   ],
   "source": [
    "print(f' Train ACC :  {accuracy_score(y_train,y_train_predict)}')\n",
    "print(f' Test ACC :  {accuracy_score(y_test,y_test_predict)}')"
   ]
  },
  {
   "cell_type": "code",
   "execution_count": 89,
   "id": "a4188065-0b32-4dca-96e0-ecb3de5e3fe1",
   "metadata": {},
   "outputs": [],
   "source": [
    "from sklearn.metrics import confusion_matrix,ConfusionMatrixDisplay,recall_score,precision_score"
   ]
  },
  {
   "cell_type": "code",
   "execution_count": 93,
   "id": "5bf1995a-e052-429a-939a-368695653827",
   "metadata": {},
   "outputs": [
    {
     "name": "stdout",
     "output_type": "stream",
     "text": [
      "[[181  18]\n",
      " [ 39  82]]\n",
      "[[52  6]\n",
      " [ 3 19]]\n"
     ]
    }
   ],
   "source": [
    "print(confusion_matrix(y_train,y_train_predict))\n",
    "print(confusion_matrix(y_test,y_test_predict))"
   ]
  },
  {
   "cell_type": "code",
   "execution_count": 94,
   "id": "270f6966-0362-4f0f-805f-f8c60eb9919f",
   "metadata": {},
   "outputs": [
    {
     "name": "stdout",
     "output_type": "stream",
     "text": [
      "0.6776859504132231\n",
      "0.8636363636363636\n"
     ]
    }
   ],
   "source": [
    "print(recall_score(y_train,y_train_predict))\n",
    "print(recall_score(y_test,y_test_predict))"
   ]
  },
  {
   "cell_type": "code",
   "execution_count": 95,
   "id": "4284f11b-d8ee-4c9e-807e-4671db373733",
   "metadata": {},
   "outputs": [
    {
     "name": "stdout",
     "output_type": "stream",
     "text": [
      "0.82\n",
      "0.76\n"
     ]
    }
   ],
   "source": [
    "print(precision_score(y_train,y_train_predict))\n",
    "print(precision_score(y_test,y_test_predict))"
   ]
  },
  {
   "cell_type": "code",
   "execution_count": null,
   "id": "08eed842-77e3-49a6-9787-67a2f7a45f31",
   "metadata": {},
   "outputs": [],
   "source": [
    "print(f' Train ACC :  {accuracy_score(y_train,y_train_predict)}')"
   ]
  },
  {
   "cell_type": "markdown",
   "id": "0864ebbc-c231-43e6-8d1e-863023d60943",
   "metadata": {},
   "source": [
    "<h3> Visualizing training dataset meshgrid <Span style='color:red'>( Finding Decision Boundries )</Span></h3>"
   ]
  },
  {
   "cell_type": "markdown",
   "id": "1f48ae34-23c7-4290-918b-d43ccc964228",
   "metadata": {},
   "source": [
    "- Let’s visualize the training set of our model.\n",
    "-  We will use **ListedColormap** class of the matplotlib module.\n",
    "-  We will create two new variables **x_set** and **y_set** to replace **X_train** and **y_train**.\n",
    "-  We will use the **np.meshgrid** command to create a rectangular grid , which ranges from -1 to 1.\n",
    "-  The pixel points we have taken will be of **0.01 resolution**.\n",
    "-  We will use the **plt.contourf** method to paint **red** and **yellow** regions.\n",
    "-  The **clf.predict** method allows showing the predicted data points predicted by the classifier **( LogisticRegression() )**."
   ]
  },
  {
   "cell_type": "code",
   "execution_count": 96,
   "id": "6a9c1d46-2c8e-48a3-a697-72a81f5309ae",
   "metadata": {},
   "outputs": [],
   "source": [
    "from matplotlib.colors import ListedColormap"
   ]
  },
  {
   "cell_type": "code",
   "execution_count": 166,
   "id": "607dbd14-7658-4c00-b655-0d1929cf677c",
   "metadata": {},
   "outputs": [
    {
     "data": {
      "text/plain": [
       "array([[ 1.92295008,  2.14601566],\n",
       "       [ 2.02016082,  0.3787193 ],\n",
       "       [-1.3822153 , -0.4324987 ]])"
      ]
     },
     "execution_count": 166,
     "metadata": {},
     "output_type": "execute_result"
    }
   ],
   "source": [
    "x_set, y_Set = X_train, y_train\n",
    "x_set[:3]"
   ]
  },
  {
   "cell_type": "code",
   "execution_count": 186,
   "id": "b53af3f8-a31b-4445-b2d4-4ef6bb89ed9b",
   "metadata": {},
   "outputs": [],
   "source": [
    "arr0 = np.arange(start=x_set[:, 0].min()-1,stop=x_set[:,0].max()+1,step=0.01)\n",
    "arr1 = np.arange(start = x_set[:1].min()-1,stop=x_set[:,1].max()+1,step=0.01)"
   ]
  },
  {
   "cell_type": "code",
   "execution_count": 187,
   "id": "322b2855-ffc4-49e0-8bae-cd4dc804699f",
   "metadata": {},
   "outputs": [],
   "source": [
    "X,Y = np.meshgrid(arr0,arr1)"
   ]
  },
  {
   "cell_type": "code",
   "execution_count": 191,
   "id": "6776565a-d870-4a48-abc5-3caf9970738a",
   "metadata": {},
   "outputs": [
    {
     "data": {
      "text/plain": [
       "(240, 609)"
      ]
     },
     "execution_count": 191,
     "metadata": {},
     "output_type": "execute_result"
    }
   ],
   "source": [
    "X.shape"
   ]
  },
  {
   "cell_type": "code",
   "execution_count": 190,
   "id": "5797c230-a386-4627-9245-0eae7b7c1d55",
   "metadata": {},
   "outputs": [
    {
     "data": {
      "text/plain": [
       "(240, 609)"
      ]
     },
     "execution_count": 190,
     "metadata": {},
     "output_type": "execute_result"
    }
   ],
   "source": [
    "Y.shape"
   ]
  },
  {
   "cell_type": "markdown",
   "id": "108416a7-ea1d-4890-a797-946081b54848",
   "metadata": {},
   "source": [
    "### ploting \n",
    "### Z Value ( For Plotting Classes )"
   ]
  },
  {
   "cell_type": "code",
   "execution_count": 193,
   "id": "e8a44bbf-b9f4-44b2-9ab7-0c0980feccb3",
   "metadata": {},
   "outputs": [],
   "source": [
    "#clf.predict(np.array([x1.ravel(), x2.ravel()]).T).reshape(x1.shape)"
   ]
  },
  {
   "cell_type": "code",
   "execution_count": 195,
   "id": "2910e8f5-e410-49e5-be42-ffa11c275325",
   "metadata": {},
   "outputs": [
    {
     "data": {
      "text/plain": [
       "(146160,)"
      ]
     },
     "execution_count": 195,
     "metadata": {},
     "output_type": "execute_result"
    }
   ],
   "source": [
    "X.ravel().shape"
   ]
  },
  {
   "cell_type": "code",
   "execution_count": 196,
   "id": "29d23e46-c4d9-4963-8971-dfb27abf5bee",
   "metadata": {},
   "outputs": [
    {
     "data": {
      "text/plain": [
       "(146160,)"
      ]
     },
     "execution_count": 196,
     "metadata": {},
     "output_type": "execute_result"
    }
   ],
   "source": [
    "Y.ravel().shape"
   ]
  },
  {
   "cell_type": "code",
   "execution_count": 197,
   "id": "f8c1f388-9eee-4ca1-a5aa-115a5300a351",
   "metadata": {},
   "outputs": [
    {
     "data": {
      "text/plain": [
       "(240, 609)"
      ]
     },
     "execution_count": 197,
     "metadata": {},
     "output_type": "execute_result"
    }
   ],
   "source": [
    "X.shape"
   ]
  },
  {
   "cell_type": "markdown",
   "id": "24b050e3-01b0-41ec-b817-b55fd0184aa1",
   "metadata": {},
   "source": [
    "##### We Need Value For Z --> Z_Predict  ( Plotting Classes ) With Shape Look Like X and Y"
   ]
  },
  {
   "cell_type": "code",
   "execution_count": 206,
   "id": "a802a01d-66ec-49a1-b15b-10ece1c22a94",
   "metadata": {},
   "outputs": [],
   "source": [
    "x_new_train = np.array([X.ravel(), Y.ravel()]).T"
   ]
  },
  {
   "cell_type": "code",
   "execution_count": 342,
   "id": "76a1d0a2-a763-4966-997c-b7651c2205b0",
   "metadata": {
    "scrolled": true
   },
   "outputs": [
    {
     "data": {
      "text/plain": [
       "array([[-2.96547978,  0.92295008],\n",
       "       [-2.95547978,  0.92295008],\n",
       "       [-2.94547978,  0.92295008],\n",
       "       ...,\n",
       "       [ 3.09452022,  3.31295008],\n",
       "       [ 3.10452022,  3.31295008],\n",
       "       [ 3.11452022,  3.31295008]])"
      ]
     },
     "execution_count": 342,
     "metadata": {},
     "output_type": "execute_result"
    }
   ],
   "source": [
    "x_new_train"
   ]
  },
  {
   "cell_type": "code",
   "execution_count": 343,
   "id": "48e8b61e-8928-42ef-9143-83b800e36dbf",
   "metadata": {},
   "outputs": [
    {
     "data": {
      "text/plain": [
       "(146160, 2)"
      ]
     },
     "execution_count": 343,
     "metadata": {},
     "output_type": "execute_result"
    }
   ],
   "source": [
    "x_new_train.shape"
   ]
  },
  {
   "cell_type": "code",
   "execution_count": 212,
   "id": "2c93ab10-1f46-4ced-8c7a-3effcd1134a6",
   "metadata": {},
   "outputs": [],
   "source": [
    "Z_Predict = clf.predict(x_new_train).reshape(X.shape)"
   ]
  },
  {
   "cell_type": "code",
   "execution_count": 213,
   "id": "d7068470-10db-4e04-9cf6-07e4687ae728",
   "metadata": {},
   "outputs": [
    {
     "data": {
      "text/plain": [
       "(240, 609)"
      ]
     },
     "execution_count": 213,
     "metadata": {},
     "output_type": "execute_result"
    }
   ],
   "source": [
    "Z_Predict.shape"
   ]
  },
  {
   "cell_type": "markdown",
   "id": "2c33a325-6141-49a7-80f6-34ca1d19e612",
   "metadata": {},
   "source": [
    "##### contourf of matplotlib Draw Grid (mesh x,y,z) \n",
    "- X ( Axis X )\n",
    "- Y (axis Y)\n",
    "- Z ( Predicted Classes result [0 or 1] )\n",
    "- contourf(X, Y, Z,alpha = 0.75, cmap = ListedColormap(('red','yellow')))  "
   ]
  },
  {
   "cell_type": "code",
   "execution_count": 274,
   "id": "aa8712c4-1312-477b-85d4-6e65df3529e1",
   "metadata": {},
   "outputs": [
    {
     "name": "stderr",
     "output_type": "stream",
     "text": [
      "C:\\Users\\userr620\\AppData\\Local\\Temp\\ipykernel_18284\\2165889017.py:9: UserWarning: *c* argument looks like a single numeric RGB or RGBA sequence, which should be avoided as value-mapping will have precedence in case its length matches with *x* & *y*.  Please use the *color* keyword-argument or provide a 2D array with a single row if you intend to specify the same RGB or RGBA value for all points.\n",
      "  plt.scatter(x_set[res.ravel(), 0],x_set[res.ravel(), 1],\n"
     ]
    },
    {
     "data": {
      "image/png": "[encoded data removed]",
      "text/plain": [
       "<Figure size 640x480 with 1 Axes>"
      ]
     },
     "metadata": {},
     "output_type": "display_data"
    }
   ],
   "source": [
    "plt.contourf(X,Y,Z_Predict,alpha = 0.75,cmap=ListedColormap(('yellow','green')))\n",
    "\n",
    "plt.xlim(X.min(), X.max())  \n",
    "plt.ylim(Y.min(), Y.max())  \n",
    "\n",
    "# for loop to iterate the data\n",
    "for i, j in enumerate(np.unique(y_set)):  \n",
    "    res = y_set == j\n",
    "    plt.scatter(x_set[res.ravel(), 0],x_set[res.ravel(), 1],  \n",
    "        c = ListedColormap(('black', 'red'))(i), label = j) \n",
    "# labeling the graph\n",
    "plt.title('Logistic Regression (Training set)')  \n",
    "plt.xlabel('Age')  \n",
    "plt.ylabel('Estimated Salary')  \n",
    "plt.legend()  \n",
    "plt.show()"
   ]
  },
  {
   "cell_type": "markdown",
   "id": "a42a6831-d81c-465d-9d62-d07775acba32",
   "metadata": {},
   "source": [
    "### Plot X_test"
   ]
  },
  {
   "cell_type": "code",
   "execution_count": 312,
   "id": "9cd8bbaf-5f01-4b00-a994-2b59ca77e0bf",
   "metadata": {},
   "outputs": [
    {
     "data": {
      "text/plain": [
       "(621, 586)"
      ]
     },
     "execution_count": 312,
     "metadata": {},
     "output_type": "execute_result"
    }
   ],
   "source": [
    "x_set, y_set = X_test, y_test  \n",
    "XTest, YTest = np.meshgrid(np.arange(start = x_set[:, 0].min() - 1, stop = x_set[:, 0].max() + 1, step  =0.01),  \n",
    "np.arange(start = x_set[:, 1].min() - 1, stop = x_set[:, 1].max() + 1, step = 0.01))\n",
    "XTest.shape"
   ]
  },
  {
   "cell_type": "code",
   "execution_count": 313,
   "id": "acd9ae03-ece9-4c18-984c-6117a78d4249",
   "metadata": {},
   "outputs": [
    {
     "data": {
      "text/plain": [
       "(621, 586)"
      ]
     },
     "execution_count": 313,
     "metadata": {},
     "output_type": "execute_result"
    }
   ],
   "source": [
    "YTest.shape"
   ]
  },
  {
   "cell_type": "code",
   "execution_count": 335,
   "id": "67019813-910e-4ce3-aad5-b98238d0b484",
   "metadata": {},
   "outputs": [],
   "source": [
    "Z_predict = clf.predict(np.array([x1.ravel(), x2.ravel()]).T).reshape(XTest.shape)"
   ]
  },
  {
   "cell_type": "code",
   "execution_count": 336,
   "id": "3625d34b-7eb9-4f85-8435-a596b22a967f",
   "metadata": {},
   "outputs": [
    {
     "data": {
      "text/plain": [
       "(621, 586)"
      ]
     },
     "execution_count": 336,
     "metadata": {},
     "output_type": "execute_result"
    }
   ],
   "source": [
    "Z_predict.shape"
   ]
  },
  {
   "cell_type": "code",
   "execution_count": 339,
   "id": "7a790a9a-b393-415d-b0e0-89ddecd27612",
   "metadata": {},
   "outputs": [
    {
     "name": "stderr",
     "output_type": "stream",
     "text": [
      "C:\\Users\\userr620\\AppData\\Local\\Temp\\ipykernel_18284\\1051197397.py:10: UserWarning: *c* argument looks like a single numeric RGB or RGBA sequence, which should be avoided as value-mapping will have precedence in case its length matches with *x* & *y*.  Please use the *color* keyword-argument or provide a 2D array with a single row if you intend to specify the same RGB or RGBA value for all points.\n",
      "  plt.scatter(x_set[res.ravel(), 0],x_set[res.ravel(), 1],\n"
     ]
    },
    {
     "data": {
      "image/png": "[encoded data removed]",
      "text/plain": [
       "<Figure size 640x480 with 1 Axes>"
      ]
     },
     "metadata": {},
     "output_type": "display_data"
    }
   ],
   "source": [
    "plt.contourf(XTest, YTest, Z_predict,  \n",
    "alpha = 0.75, cmap = ListedColormap(('red','yellow' )))  \n",
    "\n",
    "plt.xlim(XTest.min(), XTest.max())  \n",
    "plt.ylim(YTest.min(), YTest.max())  \n",
    "\n",
    "# for loop to iterate the data\n",
    "for i, j in enumerate(np.unique(y_set)):  \n",
    "    res = y_set == j\n",
    "    plt.scatter(x_set[res.ravel(), 0],x_set[res.ravel(), 1],  \n",
    "        c = ListedColormap(('black', 'green'))(i), label = j) \n",
    "# labeling the graph\n",
    "plt.title('Logistic Regression (Training set)')  \n",
    "plt.xlabel('Age')  \n",
    "plt.ylabel('Estimated Salary')  \n",
    "plt.legend()  \n",
    "plt.show()\n"
   ]
  },
  {
   "cell_type": "code",
   "execution_count": 341,
   "id": "a9dbaafa-ceb2-465b-bf67-33201d1ea155",
   "metadata": {},
   "outputs": [
    {
     "name": "stdout",
     "output_type": "stream",
     "text": [
      "              precision    recall  f1-score   support\n",
      "\n",
      "           0       0.95      0.90      0.92        58\n",
      "           1       0.76      0.86      0.81        22\n",
      "\n",
      "    accuracy                           0.89        80\n",
      "   macro avg       0.85      0.88      0.86        80\n",
      "weighted avg       0.89      0.89      0.89        80\n",
      "\n"
     ]
    }
   ],
   "source": [
    "from sklearn.metrics import classification_report\n",
    "print(classification_report(y_test, y_predict))"
   ]
  },
  {
   "cell_type": "code",
   "execution_count": null,
   "id": "4c1b05b9-8faa-49a3-86bd-4af7513e9723",
   "metadata": {},
   "outputs": [],
   "source": []
  }
 ],
 "metadata": {
  "kernelspec": {
   "display_name": "Python 3 (ipykernel)",
   "language": "python",
   "name": "python3"
  },
  "language_info": {
   "codemirror_mode": {
    "name": "ipython",
    "version": 3
   },
   "file_extension": ".py",
   "mimetype": "text/x-python",
   "name": "python",
   "nbconvert_exporter": "python",
   "pygments_lexer": "ipython3",
   "version": "3.11.3"
  }
 },
 "nbformat": 4,
 "nbformat_minor": 5
}
