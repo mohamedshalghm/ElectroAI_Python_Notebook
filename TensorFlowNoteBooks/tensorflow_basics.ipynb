{
 "cells": [
  {
   "cell_type": "code",
   "execution_count": 3,
   "id": "36e80d24-cbd3-462b-94b7-43a7c64df610",
   "metadata": {},
   "outputs": [],
   "source": [
    "import tensorflow as tf\n",
    "import numpy as np\n",
    "import datetime"
   ]
  },
  {
   "cell_type": "code",
   "execution_count": 47,
   "id": "cc4e6b14-e090-48c1-9651-b7a2f0f1a188",
   "metadata": {},
   "outputs": [],
   "source": [
    "np.random.seed(1)"
   ]
  },
  {
   "cell_type": "code",
   "execution_count": 8,
   "id": "30a8900d-9366-4164-888c-9b65edcb3146",
   "metadata": {},
   "outputs": [
    {
     "name": "stdout",
     "output_type": "stream",
     "text": [
      "Notebook last run (end-to-end): 2024-03-20 10:47:04.921462\n"
     ]
    }
   ],
   "source": [
    "print(f\"Notebook last run (end-to-end): {datetime.datetime.now()}\")"
   ]
  },
  {
   "cell_type": "code",
   "execution_count": 9,
   "id": "31d73bd7-b0ef-4f2d-bd9c-7d0b998d3020",
   "metadata": {},
   "outputs": [
    {
     "name": "stdout",
     "output_type": "stream",
     "text": [
      "2.15.0\n"
     ]
    }
   ],
   "source": [
    "print(tf.__version__)"
   ]
  },
  {
   "cell_type": "code",
   "execution_count": 14,
   "id": "df073e91-cd37-406b-b074-8dcfa7767dd6",
   "metadata": {},
   "outputs": [
    {
     "data": {
      "text/plain": [
       "<tf.Tensor: shape=(), dtype=int32, numpy=10>"
      ]
     },
     "execution_count": 14,
     "metadata": {},
     "output_type": "execute_result"
    }
   ],
   "source": [
    "scaler = tf.constant(10)\n",
    "scaler"
   ]
  },
  {
   "cell_type": "code",
   "execution_count": 16,
   "id": "ee7c13c3-dff6-4096-9d8f-b72f8d45eb84",
   "metadata": {},
   "outputs": [
    {
     "data": {
      "text/plain": [
       "(0, TensorShape([]))"
      ]
     },
     "execution_count": 16,
     "metadata": {},
     "output_type": "execute_result"
    }
   ],
   "source": [
    "scaler.ndim, scaler.shape"
   ]
  },
  {
   "cell_type": "code",
   "execution_count": 17,
   "id": "d9d89d7e-952c-4481-8718-93905665fbda",
   "metadata": {},
   "outputs": [
    {
     "data": {
      "text/plain": [
       "<tf.Tensor: shape=(2,), dtype=int32, numpy=array([2, 5])>"
      ]
     },
     "execution_count": 17,
     "metadata": {},
     "output_type": "execute_result"
    }
   ],
   "source": [
    "vector = tf.constant([2,5])\n",
    "vector"
   ]
  },
  {
   "cell_type": "code",
   "execution_count": 19,
   "id": "37f305d1-f24f-4fa4-8a7b-708c64b823bd",
   "metadata": {},
   "outputs": [
    {
     "data": {
      "text/plain": [
       "(1, TensorShape([2]))"
      ]
     },
     "execution_count": 19,
     "metadata": {},
     "output_type": "execute_result"
    }
   ],
   "source": [
    "vector.ndim, vector.shape"
   ]
  },
  {
   "cell_type": "code",
   "execution_count": 26,
   "id": "9412e92b-3317-4ab3-91fe-2e1092733bd9",
   "metadata": {},
   "outputs": [
    {
     "data": {
      "text/plain": [
       "tf.float32"
      ]
     },
     "execution_count": 26,
     "metadata": {},
     "output_type": "execute_result"
    }
   ],
   "source": [
    "matrix = tf.constant([[1, 2], [3, 4]], dtype=tf.float32)\n",
    "matrix.dtype"
   ]
  },
  {
   "cell_type": "code",
   "execution_count": 27,
   "id": "12030164-d14f-4bff-a014-b7759988e5a3",
   "metadata": {},
   "outputs": [
    {
     "data": {
      "text/plain": [
       "<tf.Tensor: shape=(2, 2), dtype=float32, numpy=\n",
       "array([[1., 2.],\n",
       "       [3., 4.]], dtype=float32)>"
      ]
     },
     "execution_count": 27,
     "metadata": {},
     "output_type": "execute_result"
    }
   ],
   "source": [
    "matrix"
   ]
  },
  {
   "cell_type": "code",
   "execution_count": 22,
   "id": "19543289-c947-46c1-9b49-d0774b400df5",
   "metadata": {},
   "outputs": [
    {
     "data": {
      "text/plain": [
       "(2, TensorShape([2, 2]))"
      ]
     },
     "execution_count": 22,
     "metadata": {},
     "output_type": "execute_result"
    }
   ],
   "source": [
    "matrix.ndim, matrix.shape"
   ]
  },
  {
   "cell_type": "code",
   "execution_count": 28,
   "id": "7df369d6-99c4-4b6d-b9a5-fc2f68120bcf",
   "metadata": {},
   "outputs": [
    {
     "data": {
      "text/plain": [
       "tf.float16"
      ]
     },
     "execution_count": 28,
     "metadata": {},
     "output_type": "execute_result"
    }
   ],
   "source": [
    "another_matrix = tf.constant([\n",
    "    [1.0, 2.0],\n",
    "    [3.0, 4.0],\n",
    "    [5.0, 6.0]\n",
    "], dtype=tf.float16)\n",
    "\n",
    "another_matrix.dtype"
   ]
  },
  {
   "cell_type": "code",
   "execution_count": 30,
   "id": "036f0298-8e6a-4056-8f1e-4a6b55511df5",
   "metadata": {},
   "outputs": [
    {
     "data": {
      "text/plain": [
       "(2, TensorShape([3, 2]))"
      ]
     },
     "execution_count": 30,
     "metadata": {},
     "output_type": "execute_result"
    }
   ],
   "source": [
    "another_matrix.ndim, another_matrix.shape"
   ]
  },
  {
   "cell_type": "code",
   "execution_count": 58,
   "id": "980d9e92-ff3b-4569-90ca-4625d05052bd",
   "metadata": {},
   "outputs": [],
   "source": [
    "rndValues = np.random.randn(100, 3, 2)"
   ]
  },
  {
   "cell_type": "code",
   "execution_count": 59,
   "id": "7d8cd759-7226-4363-b9ea-2f753f0b1a3a",
   "metadata": {},
   "outputs": [],
   "source": [
    "res = tf.constant(rndValues)"
   ]
  },
  {
   "cell_type": "code",
   "execution_count": 62,
   "id": "ae898ef3-129d-4452-b9c5-d607773ab065",
   "metadata": {},
   "outputs": [
    {
     "data": {
      "text/plain": [
       "TensorShape([100, 3, 2])"
      ]
     },
     "execution_count": 62,
     "metadata": {},
     "output_type": "execute_result"
    }
   ],
   "source": [
    "res.shape "
   ]
  },
  {
   "cell_type": "code",
   "execution_count": 63,
   "id": "81458792-c62b-424e-a494-21570551fac9",
   "metadata": {},
   "outputs": [
    {
     "data": {
      "text/plain": [
       "3"
      ]
     },
     "execution_count": 63,
     "metadata": {},
     "output_type": "execute_result"
    }
   ],
   "source": [
    "res.ndim"
   ]
  },
  {
   "cell_type": "code",
   "execution_count": 67,
   "id": "237bef9d-b87e-4c9a-8848-76ca37ec3079",
   "metadata": {},
   "outputs": [
    {
     "data": {
      "text/plain": [
       "(<tf.Variable 'Variable:0' shape=(2,) dtype=int32, numpy=array([10,  5])>,\n",
       " <tf.Tensor: shape=(2,), dtype=int32, numpy=array([10,  5])>)"
      ]
     },
     "execution_count": 67,
     "metadata": {},
     "output_type": "execute_result"
    }
   ],
   "source": [
    "changeable_tensor = tf.Variable([10, 5])\n",
    "unchangeable_tensor = tf.constant([10, 5])\n",
    "changeable_tensor, unchangeable_tensor"
   ]
  },
  {
   "cell_type": "code",
   "execution_count": 71,
   "id": "f337d031-d881-414f-b2b4-31a8dc419446",
   "metadata": {},
   "outputs": [
    {
     "data": {
      "text/plain": [
       "<tf.Variable 'UnreadVariable' shape=(2,) dtype=int32, numpy=array([3, 5])>"
      ]
     },
     "execution_count": 71,
     "metadata": {},
     "output_type": "execute_result"
    }
   ],
   "source": [
    "changeable_tensor[0].assign(3)"
   ]
  },
  {
   "cell_type": "code",
   "execution_count": 72,
   "id": "b052d064-c688-4dcf-a1f7-b35a6f0f3413",
   "metadata": {},
   "outputs": [
    {
     "data": {
      "text/plain": [
       "<tf.Variable 'Variable:0' shape=(2,) dtype=int32, numpy=array([3, 5])>"
      ]
     },
     "execution_count": 72,
     "metadata": {},
     "output_type": "execute_result"
    }
   ],
   "source": [
    "changeable_tensor"
   ]
  },
  {
   "cell_type": "code",
   "execution_count": 76,
   "id": "2d2bcb84-65d5-4e0a-9e40-0c6f65305ad6",
   "metadata": {},
   "outputs": [],
   "source": [
    "#unchangeable_tensor[0].assign(50)"
   ]
  },
  {
   "cell_type": "markdown",
   "id": "55cce67c-60d1-46b9-bc21-92fc453a4db3",
   "metadata": {},
   "source": [
    "#### Creating random tensors\n"
   ]
  },
  {
   "cell_type": "code",
   "execution_count": 95,
   "id": "89a9c1ff-c4d6-445c-a918-4aacc8e3e5cb",
   "metadata": {},
   "outputs": [
    {
     "data": {
      "text/plain": [
       "(<tf.Tensor: shape=(3, 2), dtype=float32, numpy=\n",
       " array([[-0.7565803 , -0.06854702],\n",
       "        [ 0.07595026, -1.2573844 ],\n",
       "        [-0.23193763, -1.8107855 ]], dtype=float32)>,\n",
       " <tf.Tensor: shape=(3, 2), dtype=float32, numpy=\n",
       " array([[-0.7565803 , -0.06854702],\n",
       "        [ 0.07595026, -1.2573844 ],\n",
       "        [-0.23193763, -1.8107855 ]], dtype=float32)>,\n",
       " <tf.Tensor: shape=(3, 2), dtype=bool, numpy=\n",
       " array([[ True,  True],\n",
       "        [ True,  True],\n",
       "        [ True,  True]])>)"
      ]
     },
     "execution_count": 95,
     "metadata": {},
     "output_type": "execute_result"
    }
   ],
   "source": [
    "random_1 = tf.random.Generator.from_seed(42)\n",
    "random_1 = random_1.normal(shape=(3, 2))\n",
    "random_2 = tf.random.Generator.from_seed(42)\n",
    "random_2 = random_2.normal(shape=(3, 2))\n",
    "random_1 , random_2, random_1 == random_2"
   ]
  },
  {
   "cell_type": "code",
   "execution_count": 97,
   "id": "4bfc72dd-91b2-48f4-8b49-14ea9e660596",
   "metadata": {},
   "outputs": [],
   "source": [
    "not_shuffled = tf.constant([[10, 7],\n",
    "                            [3, 4],\n",
    "                            [2, 5]])\n",
    "shuffled = tf.random.shuffle(not_shuffled)"
   ]
  },
  {
   "cell_type": "code",
   "execution_count": 98,
   "id": "4d1da2de-632e-4c62-87df-1b41f2541085",
   "metadata": {},
   "outputs": [
    {
     "data": {
      "text/plain": [
       "(<tf.Tensor: shape=(3, 2), dtype=int32, numpy=\n",
       " array([[10,  7],\n",
       "        [ 3,  4],\n",
       "        [ 2,  5]])>,\n",
       " <tf.Tensor: shape=(3, 2), dtype=int32, numpy=\n",
       " array([[ 2,  5],\n",
       "        [ 3,  4],\n",
       "        [10,  7]])>)"
      ]
     },
     "execution_count": 98,
     "metadata": {},
     "output_type": "execute_result"
    }
   ],
   "source": [
    "not_shuffled, shuffled"
   ]
  },
  {
   "cell_type": "code",
   "execution_count": 101,
   "id": "21bb8c5b-9ed1-47a4-9965-7cd94d0a067d",
   "metadata": {},
   "outputs": [
    {
     "data": {
      "text/plain": [
       "<tf.Tensor: shape=(3, 2), dtype=int32, numpy=\n",
       "array([[ 3,  4],\n",
       "       [ 2,  5],\n",
       "       [10,  7]])>"
      ]
     },
     "execution_count": 101,
     "metadata": {},
     "output_type": "execute_result"
    }
   ],
   "source": [
    "tf.random.shuffle(not_shuffled, seed = 42)"
   ]
  },
  {
   "cell_type": "code",
   "execution_count": 105,
   "id": "aaa4b790-78fe-4b1d-b48d-c4d9d072e8ff",
   "metadata": {},
   "outputs": [
    {
     "data": {
      "text/plain": [
       "<tf.Tensor: shape=(10, 5), dtype=float32, numpy=\n",
       "array([[78.54261 , 43.45498 , 39.939247, 77.78501 , 78.65807 ],\n",
       "       [61.20102 , 96.16909 , 18.339674, 43.427868, 54.593464],\n",
       "       [86.70108 , 66.50231 , 58.07484 , 76.687744, 38.144463],\n",
       "       [48.10109 , 68.84221 , 69.3244  , 71.10289 , 26.238962],\n",
       "       [68.71461 , 49.82866 , 37.671654, 74.084   , 64.47735 ],\n",
       "       [43.95284 , 33.01731 , 66.93768 , 93.01724 , 48.73804 ],\n",
       "       [93.98853 , 81.868805, 62.259926, 38.015053, 59.961056],\n",
       "       [30.560946, 13.137069, 85.38284 , 62.923386, 21.550901],\n",
       "       [28.058197, 53.470627, 64.88353 , 22.97158 , 55.397366],\n",
       "       [93.83836 , 30.57103 , 97.65029 , 56.73155 , 97.729294]],\n",
       "      dtype=float32)>"
      ]
     },
     "execution_count": 105,
     "metadata": {},
     "output_type": "execute_result"
    }
   ],
   "source": [
    "tf.random.uniform(shape=(10, 5), minval=10, maxval=100, seed=42, dtype=tf.float32)"
   ]
  },
  {
   "cell_type": "markdown",
   "id": "81376f1e-6c38-4766-9457-8b6fe3073cf0",
   "metadata": {},
   "source": [
    "#### Anothe Ways To Make Tensors"
   ]
  },
  {
   "cell_type": "code",
   "execution_count": 110,
   "id": "80544fff-7ad3-4034-be4d-e8e6e080e3c1",
   "metadata": {},
   "outputs": [
    {
     "data": {
      "text/plain": [
       "(<tf.Tensor: shape=(5, 3), dtype=float32, numpy=\n",
       " array([[0., 0., 0.],\n",
       "        [0., 0., 0.],\n",
       "        [0., 0., 0.],\n",
       "        [0., 0., 0.],\n",
       "        [0., 0., 0.]], dtype=float32)>,\n",
       " <tf.Tensor: shape=(5, 3), dtype=float32, numpy=\n",
       " array([[1., 1., 1.],\n",
       "        [1., 1., 1.],\n",
       "        [1., 1., 1.],\n",
       "        [1., 1., 1.],\n",
       "        [1., 1., 1.]], dtype=float32)>)"
      ]
     },
     "execution_count": 110,
     "metadata": {},
     "output_type": "execute_result"
    }
   ],
   "source": [
    "tf.zeros(shape = (5, 3)), tf.ones(shape = (5, 3))"
   ]
  },
  {
   "cell_type": "code",
   "execution_count": 116,
   "id": "bcff96c3-0237-4f9b-a50a-d9b9af364d8a",
   "metadata": {},
   "outputs": [
    {
     "data": {
      "text/plain": [
       "<tf.Tensor: shape=(5, 5), dtype=float32, numpy=\n",
       "array([[1., 0., 0., 0., 0.],\n",
       "       [0., 1., 0., 0., 0.],\n",
       "       [0., 0., 1., 0., 0.],\n",
       "       [0., 0., 0., 1., 0.],\n",
       "       [0., 0., 0., 0., 1.]], dtype=float32)>"
      ]
     },
     "execution_count": 116,
     "metadata": {},
     "output_type": "execute_result"
    }
   ],
   "source": [
    "tf.eye(num_rows=5, num_columns=5)"
   ]
  },
  {
   "cell_type": "code",
   "execution_count": 121,
   "id": "033737dc-62f7-4983-aaa6-a0da7c6d043f",
   "metadata": {},
   "outputs": [
    {
     "data": {
      "text/plain": [
       "<tf.Tensor: shape=(2, 4, 3), dtype=float32, numpy=\n",
       "array([[[ 1.,  2.,  3.],\n",
       "        [ 4.,  5.,  6.],\n",
       "        [ 7.,  8.,  9.],\n",
       "        [10., 11., 12.]],\n",
       "\n",
       "       [[13., 14., 15.],\n",
       "        [16., 17., 18.],\n",
       "        [19., 20., 21.],\n",
       "        [22., 23., 24.]]], dtype=float32)>"
      ]
     },
     "execution_count": 121,
     "metadata": {},
     "output_type": "execute_result"
    }
   ],
   "source": [
    "numpy_A = np.arange(1, 25,)\n",
    "tf.constant(numpy_A, dtype=tf.float32, shape=[2, 4, 3])"
   ]
  },
  {
   "cell_type": "markdown",
   "id": "6f735c0d-c838-4be0-b6f9-6a88a26ee2bd",
   "metadata": {},
   "source": [
    "#### <span style='color:#080'> Get Information From tensor </span>"
   ]
  },
  {
   "cell_type": "code",
   "execution_count": 124,
   "id": "250d8e4b-f000-43f6-89da-132ff676c9c8",
   "metadata": {},
   "outputs": [
    {
     "data": {
      "text/plain": [
       "TensorShape([2, 3, 4, 5])"
      ]
     },
     "execution_count": 124,
     "metadata": {},
     "output_type": "execute_result"
    }
   ],
   "source": [
    "rank_4_tensor = tf.zeros([2, 3, 4, 5])\n",
    "rank_4_tensor.shape"
   ]
  },
  {
   "cell_type": "code",
   "execution_count": 125,
   "id": "00b4e082-b05e-4392-86dd-55cca2975819",
   "metadata": {},
   "outputs": [
    {
     "data": {
      "text/plain": [
       "4"
      ]
     },
     "execution_count": 125,
     "metadata": {},
     "output_type": "execute_result"
    }
   ],
   "source": [
    " rank_4_tensor.ndim"
   ]
  },
  {
   "cell_type": "code",
   "execution_count": 126,
   "id": "c03f3c98-d9c2-41e5-a4f8-2e4ef691c7f0",
   "metadata": {},
   "outputs": [
    {
     "data": {
      "text/plain": [
       "<tf.Tensor: shape=(), dtype=int32, numpy=120>"
      ]
     },
     "execution_count": 126,
     "metadata": {},
     "output_type": "execute_result"
    }
   ],
   "source": [
    "tf.size( rank_4_tensor)"
   ]
  },
  {
   "cell_type": "code",
   "execution_count": 128,
   "id": "e3d01873-42c4-48dd-96c6-25e65fb1b397",
   "metadata": {},
   "outputs": [
    {
     "data": {
      "text/plain": [
       "5"
      ]
     },
     "execution_count": 128,
     "metadata": {},
     "output_type": "execute_result"
    }
   ],
   "source": [
    "rank_4_tensor.shape[-1]"
   ]
  },
  {
   "cell_type": "code",
   "execution_count": 130,
   "id": "9e610fe1-b698-4b0f-998f-6f9ec17ff706",
   "metadata": {},
   "outputs": [],
   "source": [
    "m, w, h, c = rank_4_tensor.shape"
   ]
  },
  {
   "cell_type": "code",
   "execution_count": 132,
   "id": "4eab3035-b5af-4c4c-92cd-42ea431e2007",
   "metadata": {},
   "outputs": [
    {
     "data": {
      "text/plain": [
       "(2, 3, 4, 5)"
      ]
     },
     "execution_count": 132,
     "metadata": {},
     "output_type": "execute_result"
    }
   ],
   "source": [
    "m, w, h, c"
   ]
  },
  {
   "cell_type": "markdown",
   "id": "c0f4dc93-8386-4c6a-ab32-bbc766ef2878",
   "metadata": {},
   "source": [
    "#### Slicing"
   ]
  },
  {
   "cell_type": "code",
   "execution_count": 141,
   "id": "352deb22-3670-4522-a556-452e5612157c",
   "metadata": {},
   "outputs": [],
   "source": [
    "t = tf.random.normal(shape=(2, 3, 3))"
   ]
  },
  {
   "cell_type": "code",
   "execution_count": 142,
   "id": "4cc837f2-38cd-4cba-be5d-23de3f88283b",
   "metadata": {},
   "outputs": [
    {
     "data": {
      "text/plain": [
       "<tf.Tensor: shape=(2, 3, 3), dtype=float32, numpy=\n",
       "array([[[-0.35975078,  1.5145855 ,  0.9998955 ],\n",
       "        [-0.83270323,  0.10627943, -1.6242576 ],\n",
       "        [ 1.5322537 , -0.63025033,  0.17648193]],\n",
       "\n",
       "       [[ 0.19940554, -0.31985644,  0.20605735],\n",
       "        [-0.38278538, -0.97199893, -0.33949786],\n",
       "        [ 1.0419518 , -0.37069583, -0.91420484]]], dtype=float32)>"
      ]
     },
     "execution_count": 142,
     "metadata": {},
     "output_type": "execute_result"
    }
   ],
   "source": [
    "t"
   ]
  },
  {
   "cell_type": "code",
   "execution_count": 154,
   "id": "7a21f059-8f09-4b6f-97a1-d59c4a82b9bd",
   "metadata": {},
   "outputs": [
    {
     "data": {
      "text/plain": [
       "<tf.Tensor: shape=(2, 3, 1), dtype=float32, numpy=\n",
       "array([[[-0.35975078],\n",
       "        [-0.83270323],\n",
       "        [ 1.5322537 ]],\n",
       "\n",
       "       [[ 0.19940554],\n",
       "        [-0.38278538],\n",
       "        [ 1.0419518 ]]], dtype=float32)>"
      ]
     },
     "execution_count": 154,
     "metadata": {},
     "output_type": "execute_result"
    }
   ],
   "source": [
    "t[:, :, :1]"
   ]
  },
  {
   "cell_type": "code",
   "execution_count": 160,
   "id": "4dd5e4cf-1b8a-41d0-9f4a-02987b0b416c",
   "metadata": {},
   "outputs": [],
   "source": [
    "tnewaxis = t[..., tf.newaxis]"
   ]
  },
  {
   "cell_type": "code",
   "execution_count": 165,
   "id": "dc6f56e6-3048-40a1-aadf-8062c2218c6b",
   "metadata": {},
   "outputs": [
    {
     "data": {
      "text/plain": [
       "<tf.Tensor: shape=(2, 3, 3, 1, 1), dtype=float32, numpy=\n",
       "array([[[[[-0.35975078]],\n",
       "\n",
       "         [[ 1.5145855 ]],\n",
       "\n",
       "         [[ 0.9998955 ]]],\n",
       "\n",
       "\n",
       "        [[[-0.83270323]],\n",
       "\n",
       "         [[ 0.10627943]],\n",
       "\n",
       "         [[-1.6242576 ]]],\n",
       "\n",
       "\n",
       "        [[[ 1.5322537 ]],\n",
       "\n",
       "         [[-0.63025033]],\n",
       "\n",
       "         [[ 0.17648193]]]],\n",
       "\n",
       "\n",
       "\n",
       "       [[[[ 0.19940554]],\n",
       "\n",
       "         [[-0.31985644]],\n",
       "\n",
       "         [[ 0.20605735]]],\n",
       "\n",
       "\n",
       "        [[[-0.38278538]],\n",
       "\n",
       "         [[-0.97199893]],\n",
       "\n",
       "         [[-0.33949786]]],\n",
       "\n",
       "\n",
       "        [[[ 1.0419518 ]],\n",
       "\n",
       "         [[-0.37069583]],\n",
       "\n",
       "         [[-0.91420484]]]]], dtype=float32)>"
      ]
     },
     "execution_count": 165,
     "metadata": {},
     "output_type": "execute_result"
    }
   ],
   "source": [
    "tnewaxis[..., tf.newaxis]"
   ]
  },
  {
   "cell_type": "code",
   "execution_count": 167,
   "id": "e7c10189-bd2f-4e24-95bd-6aa1dd7dc563",
   "metadata": {},
   "outputs": [
    {
     "data": {
      "text/plain": [
       "TensorShape([2, 3, 3])"
      ]
     },
     "execution_count": 167,
     "metadata": {},
     "output_type": "execute_result"
    }
   ],
   "source": [
    "t.shape"
   ]
  },
  {
   "cell_type": "markdown",
   "id": "17200537-b321-4766-9298-fee74778ac99",
   "metadata": {},
   "source": [
    "#### New Axis At The End Of Tensor"
   ]
  },
  {
   "cell_type": "code",
   "execution_count": 171,
   "id": "d0f1f564-3a7f-451b-9039-88a7c3718d86",
   "metadata": {},
   "outputs": [
    {
     "data": {
      "text/plain": [
       "(<tf.Tensor: shape=(2, 3, 3, 1), dtype=float32, numpy=\n",
       " array([[[[-0.35975078],\n",
       "          [ 1.5145855 ],\n",
       "          [ 0.9998955 ]],\n",
       " \n",
       "         [[-0.83270323],\n",
       "          [ 0.10627943],\n",
       "          [-1.6242576 ]],\n",
       " \n",
       "         [[ 1.5322537 ],\n",
       "          [-0.63025033],\n",
       "          [ 0.17648193]]],\n",
       " \n",
       " \n",
       "        [[[ 0.19940554],\n",
       "          [-0.31985644],\n",
       "          [ 0.20605735]],\n",
       " \n",
       "         [[-0.38278538],\n",
       "          [-0.97199893],\n",
       "          [-0.33949786]],\n",
       " \n",
       "         [[ 1.0419518 ],\n",
       "          [-0.37069583],\n",
       "          [-0.91420484]]]], dtype=float32)>,\n",
       " <tf.Tensor: shape=(2, 3, 3, 1), dtype=float32, numpy=\n",
       " array([[[[-0.35975078],\n",
       "          [ 1.5145855 ],\n",
       "          [ 0.9998955 ]],\n",
       " \n",
       "         [[-0.83270323],\n",
       "          [ 0.10627943],\n",
       "          [-1.6242576 ]],\n",
       " \n",
       "         [[ 1.5322537 ],\n",
       "          [-0.63025033],\n",
       "          [ 0.17648193]]],\n",
       " \n",
       " \n",
       "        [[[ 0.19940554],\n",
       "          [-0.31985644],\n",
       "          [ 0.20605735]],\n",
       " \n",
       "         [[-0.38278538],\n",
       "          [-0.97199893],\n",
       "          [-0.33949786]],\n",
       " \n",
       "         [[ 1.0419518 ],\n",
       "          [-0.37069583],\n",
       "          [-0.91420484]]]], dtype=float32)>)"
      ]
     },
     "execution_count": 171,
     "metadata": {},
     "output_type": "execute_result"
    }
   ],
   "source": [
    "tf.expand_dims(t, axis=-1) , t[..., tf.newaxis]"
   ]
  },
  {
   "cell_type": "code",
   "execution_count": 170,
   "id": "e4c72aaa-8ce9-4c07-bd82-84802b374e1b",
   "metadata": {},
   "outputs": [
    {
     "data": {
      "text/plain": [
       "(TensorShape([2, 3, 3, 1]), TensorShape([2, 3, 3, 1]))"
      ]
     },
     "execution_count": 170,
     "metadata": {},
     "output_type": "execute_result"
    }
   ],
   "source": [
    "tf.expand_dims(t, axis=-1).shape , t[..., tf.newaxis].shape"
   ]
  },
  {
   "cell_type": "markdown",
   "id": "ed4fb172-ba7f-4aa0-aa4e-da9f5a9f968d",
   "metadata": {},
   "source": [
    "#### Manipulating tensors (tensor operations)\n"
   ]
  },
  {
   "cell_type": "code",
   "execution_count": 172,
   "id": "54d16720-d5bd-4aff-9f67-0b5908fee601",
   "metadata": {},
   "outputs": [
    {
     "data": {
      "text/plain": [
       "<tf.Tensor: shape=(2, 2), dtype=int32, numpy=\n",
       "array([[20, 17],\n",
       "       [13, 14]])>"
      ]
     },
     "execution_count": 172,
     "metadata": {},
     "output_type": "execute_result"
    }
   ],
   "source": [
    "tensor = tf.constant([[10, 7], [3, 4]])\n",
    "tensor + 10"
   ]
  },
  {
   "cell_type": "code",
   "execution_count": 173,
   "id": "c05908b4-b639-4c4b-8102-01dc809e6461",
   "metadata": {},
   "outputs": [
    {
     "data": {
      "text/plain": [
       "<tf.Tensor: shape=(2, 2), dtype=int32, numpy=\n",
       "array([[ 5,  2],\n",
       "       [-2, -1]])>"
      ]
     },
     "execution_count": 173,
     "metadata": {},
     "output_type": "execute_result"
    }
   ],
   "source": [
    "tensor - 5"
   ]
  },
  {
   "cell_type": "code",
   "execution_count": 174,
   "id": "2a2c9fe5-61fd-4cd2-b8c9-35f0a7bc6195",
   "metadata": {},
   "outputs": [
    {
     "data": {
      "text/plain": [
       "<tf.Tensor: shape=(2, 2), dtype=int32, numpy=\n",
       "array([[20, 14],\n",
       "       [ 6,  8]])>"
      ]
     },
     "execution_count": 174,
     "metadata": {},
     "output_type": "execute_result"
    }
   ],
   "source": [
    "tensor * 2"
   ]
  },
  {
   "cell_type": "code",
   "execution_count": 177,
   "id": "ff17ffbd-2642-4d40-ab24-5fa19d3f7141",
   "metadata": {},
   "outputs": [
    {
     "data": {
      "text/plain": [
       "<tf.Tensor: shape=(2, 2), dtype=float64, numpy=\n",
       "array([[5. , 3.5],\n",
       "       [1.5, 2. ]])>"
      ]
     },
     "execution_count": 177,
     "metadata": {},
     "output_type": "execute_result"
    }
   ],
   "source": [
    "tensor  / 2"
   ]
  },
  {
   "cell_type": "code",
   "execution_count": 178,
   "id": "c38b20b4-5d43-4ddf-8471-960d671204d7",
   "metadata": {},
   "outputs": [
    {
     "data": {
      "text/plain": [
       "<tf.Tensor: shape=(2, 2), dtype=int32, numpy=\n",
       "array([[0, 1],\n",
       "       [1, 0]])>"
      ]
     },
     "execution_count": 178,
     "metadata": {},
     "output_type": "execute_result"
    }
   ],
   "source": [
    "tensor % 2"
   ]
  },
  {
   "cell_type": "code",
   "execution_count": 179,
   "id": "62043f94-ef82-41a2-9c8f-674a768cff1c",
   "metadata": {},
   "outputs": [
    {
     "data": {
      "text/plain": [
       "<tf.Tensor: shape=(2, 2), dtype=int32, numpy=\n",
       "array([[100,  70],\n",
       "       [ 30,  40]])>"
      ]
     },
     "execution_count": 179,
     "metadata": {},
     "output_type": "execute_result"
    }
   ],
   "source": [
    "tf.multiply(tensor, 10)"
   ]
  },
  {
   "cell_type": "code",
   "execution_count": 180,
   "id": "603c8fa3-f12e-4060-8b96-7ff4b8b77477",
   "metadata": {},
   "outputs": [
    {
     "data": {
      "text/plain": [
       "<tf.Tensor: shape=(2, 2), dtype=int32, numpy=\n",
       "array([[ 0, -3],\n",
       "       [-7, -6]])>"
      ]
     },
     "execution_count": 180,
     "metadata": {},
     "output_type": "execute_result"
    }
   ],
   "source": [
    "tf.subtract(tensor, 10)"
   ]
  },
  {
   "cell_type": "code",
   "execution_count": 181,
   "id": "266be83b-0cfb-4fd1-a0b8-695eadfe361f",
   "metadata": {},
   "outputs": [
    {
     "data": {
      "text/plain": [
       "<tf.Tensor: shape=(2, 2), dtype=int32, numpy=\n",
       "array([[20, 17],\n",
       "       [13, 14]])>"
      ]
     },
     "execution_count": 181,
     "metadata": {},
     "output_type": "execute_result"
    }
   ],
   "source": [
    "tf.add(tensor, 10)"
   ]
  },
  {
   "cell_type": "code",
   "execution_count": 184,
   "id": "c001f8d2-7524-4091-bed1-f23859fc0123",
   "metadata": {},
   "outputs": [
    {
     "data": {
      "text/plain": [
       "<tf.Tensor: shape=(2, 2), dtype=float64, numpy=\n",
       "array([[1. , 0.7],\n",
       "       [0.3, 0.4]])>"
      ]
     },
     "execution_count": 184,
     "metadata": {},
     "output_type": "execute_result"
    }
   ],
   "source": [
    "tf.divide(tensor, 10)"
   ]
  },
  {
   "cell_type": "markdown",
   "id": "e3e4c622-f4ac-45d6-b932-1b98629adb81",
   "metadata": {},
   "source": [
    "#### Matrix mutliplication\n"
   ]
  },
  {
   "cell_type": "code",
   "execution_count": 187,
   "id": "5db8a46a-bbac-4dad-93a7-8a4735f82b7a",
   "metadata": {},
   "outputs": [],
   "source": [
    "t1 = tf.constant([[2, 3], [5, 7]])\n",
    "t2 = tf.constant([[2, 3, 5], [5, 7, 10]])"
   ]
  },
  {
   "cell_type": "code",
   "execution_count": 188,
   "id": "b96f4675-3b14-453e-8883-dd85b49b110b",
   "metadata": {},
   "outputs": [
    {
     "data": {
      "text/plain": [
       "(TensorShape([2, 2]), TensorShape([2, 3]))"
      ]
     },
     "execution_count": 188,
     "metadata": {},
     "output_type": "execute_result"
    }
   ],
   "source": [
    "t1.shape, t2.shape"
   ]
  },
  {
   "cell_type": "code",
   "execution_count": 189,
   "id": "a66f923a-271d-4816-a003-8c67f2360f29",
   "metadata": {},
   "outputs": [
    {
     "data": {
      "text/plain": [
       "<tf.Tensor: shape=(2, 3), dtype=int32, numpy=\n",
       "array([[19, 27, 40],\n",
       "       [45, 64, 95]])>"
      ]
     },
     "execution_count": 189,
     "metadata": {},
     "output_type": "execute_result"
    }
   ],
   "source": [
    "tf.matmul(t1, t2)"
   ]
  },
  {
   "cell_type": "code",
   "execution_count": 190,
   "id": "898c1635-6b97-44c3-a6f7-8ed1fd9badce",
   "metadata": {},
   "outputs": [
    {
     "data": {
      "text/plain": [
       "<tf.Tensor: shape=(2, 3), dtype=int32, numpy=\n",
       "array([[19, 27, 40],\n",
       "       [45, 64, 95]])>"
      ]
     },
     "execution_count": 190,
     "metadata": {},
     "output_type": "execute_result"
    }
   ],
   "source": [
    "t1 @ t2"
   ]
  },
  {
   "cell_type": "code",
   "execution_count": 191,
   "id": "ea465a44-231a-406f-b678-38eea3f53467",
   "metadata": {},
   "outputs": [],
   "source": [
    "X = tf.constant([[1, 2],\n",
    "                 [3, 4],\n",
    "                 [5, 6]])\n",
    "\n",
    "# Create another (3, 2) tensor\n",
    "Y = tf.constant([[7, 8],\n",
    "                 [9, 10],\n",
    "                 [11, 12]])"
   ]
  },
  {
   "cell_type": "code",
   "execution_count": 192,
   "id": "d4f22fb7-bc27-4ecc-a468-59b7ab68706e",
   "metadata": {},
   "outputs": [
    {
     "data": {
      "text/plain": [
       "(<tf.Tensor: shape=(3, 2), dtype=int32, numpy=\n",
       " array([[1, 2],\n",
       "        [3, 4],\n",
       "        [5, 6]])>,\n",
       " <tf.Tensor: shape=(3, 2), dtype=int32, numpy=\n",
       " array([[ 7,  8],\n",
       "        [ 9, 10],\n",
       "        [11, 12]])>)"
      ]
     },
     "execution_count": 192,
     "metadata": {},
     "output_type": "execute_result"
    }
   ],
   "source": [
    "X, Y"
   ]
  },
  {
   "cell_type": "code",
   "execution_count": 194,
   "id": "f6bb3d0b-59b0-4c0c-8236-bfffc9254f90",
   "metadata": {},
   "outputs": [
    {
     "data": {
      "text/plain": [
       "(TensorShape([3, 2]), TensorShape([3, 2]))"
      ]
     },
     "execution_count": 194,
     "metadata": {},
     "output_type": "execute_result"
    }
   ],
   "source": [
    "X.shape, Y.shape"
   ]
  },
  {
   "cell_type": "code",
   "execution_count": 198,
   "id": "8d26b79e-0aa9-4e88-9a31-ad4e061f0d06",
   "metadata": {},
   "outputs": [
    {
     "data": {
      "text/plain": [
       "<tf.Tensor: shape=(2, 2), dtype=int32, numpy=\n",
       "array([[ 89,  98],\n",
       "       [116, 128]])>"
      ]
     },
     "execution_count": 198,
     "metadata": {},
     "output_type": "execute_result"
    }
   ],
   "source": [
    "tf.transpose(X) @Y"
   ]
  },
  {
   "cell_type": "code",
   "execution_count": 201,
   "id": "30070506-0073-4840-9e98-8ef080e7d926",
   "metadata": {},
   "outputs": [
    {
     "data": {
      "text/plain": [
       "<tf.Tensor: shape=(2, 2), dtype=int32, numpy=\n",
       "array([[ 89, 116],\n",
       "       [ 98, 128]])>"
      ]
     },
     "execution_count": 201,
     "metadata": {},
     "output_type": "execute_result"
    }
   ],
   "source": [
    "tf.matmul(tf.transpose(Y), X)"
   ]
  },
  {
   "cell_type": "code",
   "execution_count": 204,
   "id": "c05e5554-345f-45f7-a46c-afa1f4130a0a",
   "metadata": {},
   "outputs": [
    {
     "data": {
      "text/plain": [
       "TensorShape([3, 2])"
      ]
     },
     "execution_count": 204,
     "metadata": {},
     "output_type": "execute_result"
    }
   ],
   "source": [
    "Y.shape"
   ]
  },
  {
   "cell_type": "code",
   "execution_count": 208,
   "id": "84b0ae30-5f21-4ce3-9660-803c7823e7c9",
   "metadata": {},
   "outputs": [
    {
     "data": {
      "text/plain": [
       "TensorShape([2, 3])"
      ]
     },
     "execution_count": 208,
     "metadata": {},
     "output_type": "execute_result"
    }
   ],
   "source": [
    "tf.reshape(tensor=Y, shape=(2, 3)).shape"
   ]
  },
  {
   "cell_type": "code",
   "execution_count": 207,
   "id": "3af23155-2333-4a2a-b6a0-be6a353c2949",
   "metadata": {},
   "outputs": [
    {
     "data": {
      "text/plain": [
       "TensorShape([3, 2])"
      ]
     },
     "execution_count": 207,
     "metadata": {},
     "output_type": "execute_result"
    }
   ],
   "source": [
    "X.shape"
   ]
  },
  {
   "cell_type": "code",
   "execution_count": 206,
   "id": "23bdc9a4-fdf0-401b-8d4d-db7146c447d0",
   "metadata": {},
   "outputs": [
    {
     "data": {
      "text/plain": [
       "<tf.Tensor: shape=(3, 3), dtype=int32, numpy=\n",
       "array([[ 27,  30,  33],\n",
       "       [ 61,  68,  75],\n",
       "       [ 95, 106, 117]])>"
      ]
     },
     "execution_count": 206,
     "metadata": {},
     "output_type": "execute_result"
    }
   ],
   "source": [
    "tf.matmul(X, tf.reshape(tensor=Y, shape=(2, 3)))"
   ]
  },
  {
   "cell_type": "code",
   "execution_count": 209,
   "id": "82dbba9a-a940-4d48-ad33-7db217d78a31",
   "metadata": {},
   "outputs": [
    {
     "data": {
      "text/plain": [
       "(<tf.Tensor: shape=(3, 2), dtype=int32, numpy=\n",
       " array([[1, 2],\n",
       "        [3, 4],\n",
       "        [5, 6]])>,\n",
       " <tf.Tensor: shape=(3, 2), dtype=int32, numpy=\n",
       " array([[ 7,  8],\n",
       "        [ 9, 10],\n",
       "        [11, 12]])>)"
      ]
     },
     "execution_count": 209,
     "metadata": {},
     "output_type": "execute_result"
    }
   ],
   "source": [
    "X, Y"
   ]
  },
  {
   "cell_type": "code",
   "execution_count": 210,
   "id": "9c7e0cf3-0f38-4102-8666-e5b422ca8d76",
   "metadata": {},
   "outputs": [
    {
     "data": {
      "text/plain": [
       "<tf.Tensor: shape=(2, 2), dtype=int32, numpy=\n",
       "array([[ 89,  98],\n",
       "       [116, 128]])>"
      ]
     },
     "execution_count": 210,
     "metadata": {},
     "output_type": "execute_result"
    }
   ],
   "source": [
    "tf.matmul(a = X, b= Y, transpose_a = True, transpose_b = False)"
   ]
  },
  {
   "cell_type": "code",
   "execution_count": 211,
   "id": "fc6e5f31-a74d-47e1-8ae4-829a3c27ef1c",
   "metadata": {},
   "outputs": [
    {
     "data": {
      "text/plain": [
       "(<tf.Tensor: shape=(3, 2), dtype=int32, numpy=\n",
       " array([[1, 2],\n",
       "        [3, 4],\n",
       "        [5, 6]])>,\n",
       " <tf.Tensor: shape=(3, 2), dtype=int32, numpy=\n",
       " array([[ 7,  8],\n",
       "        [ 9, 10],\n",
       "        [11, 12]])>)"
      ]
     },
     "execution_count": 211,
     "metadata": {},
     "output_type": "execute_result"
    }
   ],
   "source": [
    "X, Y"
   ]
  },
  {
   "cell_type": "code",
   "execution_count": 214,
   "id": "9a6712f0-d6e2-435e-87a2-4e4748e198f3",
   "metadata": {},
   "outputs": [
    {
     "data": {
      "text/plain": [
       "<tf.Tensor: shape=(3, 3), dtype=int32, numpy=\n",
       "array([[ 23,  29,  35],\n",
       "       [ 53,  67,  81],\n",
       "       [ 83, 105, 127]])>"
      ]
     },
     "execution_count": 214,
     "metadata": {},
     "output_type": "execute_result"
    }
   ],
   "source": [
    "tf.tensordot(a = X, b = tf.transpose(Y), axes=1) # axes = 1 ( tf.transpose(Y).shape[1] )"
   ]
  },
  {
   "cell_type": "code",
   "execution_count": 218,
   "id": "847dbb33-a43b-4064-b22b-2639e1767146",
   "metadata": {},
   "outputs": [
    {
     "name": "stdout",
     "output_type": "stream",
     "text": [
      "Normal Y:\n",
      "tf.Tensor(\n",
      "[[ 7  8]\n",
      " [ 9 10]\n",
      " [11 12]], shape=(3, 2), dtype=int32) \n",
      "\n",
      "Y reshaped to (2, 3):\n",
      "tf.Tensor(\n",
      "[[ 7  8  9]\n",
      " [10 11 12]], shape=(2, 3), dtype=int32) \n",
      "\n",
      "Y transposed:\n",
      "tf.Tensor(\n",
      "[[ 7  9 11]\n",
      " [ 8 10 12]], shape=(2, 3), dtype=int32)\n"
     ]
    }
   ],
   "source": [
    "# Check values of Y, reshape Y and tranposed Y\n",
    "print(\"Normal Y:\")\n",
    "print(Y, \"\\n\") # \"\\n\" for newline\n",
    "\n",
    "print(\"Y reshaped to (2, 3):\")\n",
    "print(tf.reshape(Y, (2, 3)), \"\\n\")\n",
    "\n",
    "print(\"Y transposed:\")\n",
    "print(tf.transpose(Y))"
   ]
  },
  {
   "cell_type": "markdown",
   "id": "4d655f30-2758-412a-85d1-be36d79da38e",
   "metadata": {},
   "source": [
    "#### Changing the datatype of a tensor\n"
   ]
  },
  {
   "cell_type": "code",
   "execution_count": 220,
   "id": "749bed36-f08f-4e83-b1ff-af02c4a5d30a",
   "metadata": {},
   "outputs": [
    {
     "data": {
      "text/plain": [
       "(<tf.Tensor: shape=(2,), dtype=float32, numpy=array([1.7, 1.2], dtype=float32)>,\n",
       " <tf.Tensor: shape=(2,), dtype=int32, numpy=array([3, 5])>)"
      ]
     },
     "execution_count": 220,
     "metadata": {},
     "output_type": "execute_result"
    }
   ],
   "source": [
    "B = tf.constant([1.7, 1.2])\n",
    "C = tf.constant([3, 5])\n",
    "B, C"
   ]
  },
  {
   "cell_type": "code",
   "execution_count": 221,
   "id": "024e0b70-c859-48fd-a60d-508ca3dd6b2f",
   "metadata": {},
   "outputs": [
    {
     "data": {
      "text/plain": [
       "<tf.Tensor: shape=(2,), dtype=float16, numpy=array([1.7, 1.2], dtype=float16)>"
      ]
     },
     "execution_count": 221,
     "metadata": {},
     "output_type": "execute_result"
    }
   ],
   "source": [
    "B = tf.cast(x = B, dtype = tf.float16)\n",
    "B"
   ]
  },
  {
   "cell_type": "code",
   "execution_count": 222,
   "id": "80f726c5-34ed-4cb9-9fea-43b8e9f2e1cd",
   "metadata": {},
   "outputs": [
    {
     "data": {
      "text/plain": [
       "<tf.Tensor: shape=(2,), dtype=float32, numpy=array([3., 5.], dtype=float32)>"
      ]
     },
     "execution_count": 222,
     "metadata": {},
     "output_type": "execute_result"
    }
   ],
   "source": [
    "C = tf.cast(x = C, dtype = tf.float32)\n",
    "C"
   ]
  },
  {
   "cell_type": "markdown",
   "id": "b47f9f2b-333f-4562-b738-619ca981c292",
   "metadata": {},
   "source": [
    "#### Absolute Value"
   ]
  },
  {
   "cell_type": "code",
   "execution_count": 226,
   "id": "2bd982bc-6651-44d6-992f-c74e1e8880ad",
   "metadata": {},
   "outputs": [
    {
     "data": {
      "text/plain": [
       "<tf.Tensor: shape=(9,), dtype=int32, numpy=array([-10,  -9,  -8,  -7,  -6,  -5,  -4,  -3,  -2])>"
      ]
     },
     "execution_count": 226,
     "metadata": {},
     "output_type": "execute_result"
    }
   ],
   "source": [
    "D = tf.constant(np.arange(-10, -1, 1))\n",
    "D"
   ]
  },
  {
   "cell_type": "code",
   "execution_count": 228,
   "id": "4463d7fe-f9e6-4313-a2cc-a714ffa369f7",
   "metadata": {},
   "outputs": [
    {
     "data": {
      "text/plain": [
       "<tf.Tensor: shape=(9,), dtype=int32, numpy=array([10,  9,  8,  7,  6,  5,  4,  3,  2])>"
      ]
     },
     "execution_count": 228,
     "metadata": {},
     "output_type": "execute_result"
    }
   ],
   "source": [
    "D = tf.abs(x = D)\n",
    "D"
   ]
  },
  {
   "cell_type": "code",
   "execution_count": 229,
   "id": "f930c6eb-7dd9-4d1e-962b-727662a1f99c",
   "metadata": {},
   "outputs": [
    {
     "data": {
      "text/plain": [
       "<tf.Tensor: shape=(2,), dtype=float32, numpy=array([2.25, 3.25], dtype=float32)>"
      ]
     },
     "execution_count": 229,
     "metadata": {},
     "output_type": "execute_result"
    }
   ],
   "source": [
    "tf.abs(tf.constant([-2.25, 3.25]))"
   ]
  },
  {
   "cell_type": "markdown",
   "id": "413b1176-4a14-4ed0-a6c0-0bd5e854235a",
   "metadata": {},
   "source": [
    "#### Finding the min, max, mean, sum (aggregation)"
   ]
  },
  {
   "cell_type": "code",
   "execution_count": 259,
   "id": "ceda777b-1a4d-43cf-b167-3dc6279bec08",
   "metadata": {},
   "outputs": [
    {
     "data": {
      "text/plain": [
       "<tf.Tensor: shape=(50,), dtype=int32, numpy=\n",
       "array([37, 34, 20, 58, 39, 70, 31, 18, 42, 76, 63, 52,  0, 40, 77, 88, 99,\n",
       "       16, 95, 90, 53, 63, 30, 75, 70, 34, 33, 25,  3,  3, 11, 75, 30, 31,\n",
       "       59, 79, 99, 51, 79, 60, 55, 84,  3, 16, 46,  4, 85, 88, 57, 44])>"
      ]
     },
     "execution_count": 259,
     "metadata": {},
     "output_type": "execute_result"
    }
   ],
   "source": [
    "E = tf.constant(np.random.randint(low=0, high=100, size=50))\n",
    "E"
   ]
  },
  {
   "cell_type": "code",
   "execution_count": 244,
   "id": "9a53f065-f936-47c0-9d5a-d9508e6c9fd7",
   "metadata": {},
   "outputs": [
    {
     "data": {
      "text/plain": [
       "<tf.Tensor: shape=(50,), dtype=int32, numpy=\n",
       "array([ 6,  7,  8,  9, 11, 14, 15, 15, 22, 22, 28, 31, 32, 33, 34, 36, 37,\n",
       "       38, 38, 40, 41, 42, 42, 42, 43, 43, 47, 49, 53, 57, 58, 60, 61, 61,\n",
       "       63, 64, 64, 65, 72, 75, 78, 79, 80, 84, 87, 88, 92, 98, 98, 99])>"
      ]
     },
     "execution_count": 244,
     "metadata": {},
     "output_type": "execute_result"
    }
   ],
   "source": [
    "E = tf.sort(E)\n",
    "E"
   ]
  },
  {
   "cell_type": "code",
   "execution_count": 249,
   "id": "74f78f4c-6fea-470e-ba3b-1aa61562d5d2",
   "metadata": {},
   "outputs": [
    {
     "name": "stdout",
     "output_type": "stream",
     "text": [
      "Min Value In E 6\n",
      "Max Value In E 99\n",
      "Mean Value In E 49\n",
      "Sum of Value In E 2461\n"
     ]
    }
   ],
   "source": [
    "print(f'Min Value In E {tf.reduce_min(E)}')\n",
    "print(f'Max Value In E {tf.reduce_max(E)}')\n",
    "print(f'Mean Value In E {tf.reduce_mean(E)}')\n",
    "print(f'Sum of Value In E {tf.reduce_sum(E)}')"
   ]
  },
  {
   "cell_type": "code",
   "execution_count": 252,
   "id": "dab00184-36db-4b64-800b-acea00513d2e",
   "metadata": {},
   "outputs": [
    {
     "name": "stdout",
     "output_type": "stream",
     "text": [
      "standard deviation Value In E 26.271116256713867\n"
     ]
    }
   ],
   "source": [
    "print(f'standard deviation Value In E {tf.math.reduce_std(tf.cast(E, tf.float32))}')"
   ]
  },
  {
   "cell_type": "code",
   "execution_count": 254,
   "id": "61f892dd-25b7-4f50-8c03-08f1e2579b5a",
   "metadata": {},
   "outputs": [
    {
     "name": "stdout",
     "output_type": "stream",
     "text": [
      "Variance Value In E 690.1715698242188\n"
     ]
    }
   ],
   "source": [
    "print(f'Variance Value In E {tf.math.reduce_variance(tf.cast(E, tf.float32))}')"
   ]
  },
  {
   "cell_type": "markdown",
   "id": "627c0dd9-4d40-4c5b-a853-e0651fbfe724",
   "metadata": {},
   "source": [
    "#### Finding the positional maximum and minimum\n",
    " "
   ]
  },
  {
   "cell_type": "code",
   "execution_count": 267,
   "id": "68d46ece-d7a2-44a5-a435-bf5403b9dccb",
   "metadata": {},
   "outputs": [
    {
     "data": {
      "text/plain": [
       "16"
      ]
     },
     "execution_count": 267,
     "metadata": {},
     "output_type": "execute_result"
    }
   ],
   "source": [
    "tf.argmax(E).numpy()"
   ]
  },
  {
   "cell_type": "code",
   "execution_count": 266,
   "id": "3fe3cf22-3d68-4d01-b905-84a182388ee7",
   "metadata": {},
   "outputs": [
    {
     "data": {
      "text/plain": [
       "99"
      ]
     },
     "execution_count": 266,
     "metadata": {},
     "output_type": "execute_result"
    }
   ],
   "source": [
    "E[16].numpy()"
   ]
  },
  {
   "cell_type": "code",
   "execution_count": 265,
   "id": "865fcbf4-59a9-4477-9417-c1eab5e40b8f",
   "metadata": {},
   "outputs": [
    {
     "data": {
      "text/plain": [
       "12"
      ]
     },
     "execution_count": 265,
     "metadata": {},
     "output_type": "execute_result"
    }
   ],
   "source": [
    "tf.argmin(E).numpy()"
   ]
  },
  {
   "cell_type": "code",
   "execution_count": 264,
   "id": "418bf6b8-ce28-4fd5-8bb1-50e78859e7c4",
   "metadata": {},
   "outputs": [
    {
     "data": {
      "text/plain": [
       "0"
      ]
     },
     "execution_count": 264,
     "metadata": {},
     "output_type": "execute_result"
    }
   ],
   "source": [
    "E[12].numpy()"
   ]
  },
  {
   "cell_type": "markdown",
   "id": "4c7ae703-b4d0-4770-b209-419820416077",
   "metadata": {},
   "source": [
    "#### Squeezing a tensor (removing all single dimensions)\n"
   ]
  },
  {
   "cell_type": "code",
   "execution_count": 271,
   "id": "1541fa01-a6b9-4911-96d9-d573ceb91665",
   "metadata": {},
   "outputs": [
    {
     "data": {
      "text/plain": [
       "TensorShape([1, 1, 1, 50])"
      ]
     },
     "execution_count": 271,
     "metadata": {},
     "output_type": "execute_result"
    }
   ],
   "source": [
    "G = tf.constant(np.random.randint(0, 100, 50), shape = (1, 1, 1, 50))\n",
    "G.shape"
   ]
  },
  {
   "cell_type": "code",
   "execution_count": 275,
   "id": "39cc52cf-b1e8-4c76-948b-01655ebd2416",
   "metadata": {},
   "outputs": [
    {
     "data": {
      "text/plain": [
       "(TensorShape([50]), 1)"
      ]
     },
     "execution_count": 275,
     "metadata": {},
     "output_type": "execute_result"
    }
   ],
   "source": [
    "tf.squeeze(G).shape , tf.squeeze(G).ndim"
   ]
  },
  {
   "cell_type": "markdown",
   "id": "7819900e-5108-4ec6-a30a-81edd48c755d",
   "metadata": {},
   "source": [
    "#### One-hot encoding\r\n"
   ]
  },
  {
   "cell_type": "code",
   "execution_count": 295,
   "id": "1f25bdfc-c83c-4e5b-b055-db74ad5eb97d",
   "metadata": {},
   "outputs": [
    {
     "name": "stdout",
     "output_type": "stream",
     "text": [
      "[0 1 2 3 4]\n"
     ]
    },
    {
     "data": {
      "text/plain": [
       "<tf.Tensor: shape=(5, 5), dtype=string, numpy=\n",
       "array([[b'ON', b'OFF', b'OFF', b'OFF', b'OFF'],\n",
       "       [b'OFF', b'ON', b'OFF', b'OFF', b'OFF'],\n",
       "       [b'OFF', b'OFF', b'ON', b'OFF', b'OFF'],\n",
       "       [b'OFF', b'OFF', b'OFF', b'ON', b'OFF'],\n",
       "       [b'OFF', b'OFF', b'OFF', b'OFF', b'ON']], dtype=object)>"
      ]
     },
     "execution_count": 295,
     "metadata": {},
     "output_type": "execute_result"
    }
   ],
   "source": [
    "F = np.arange(0, 5, 1)\n",
    "print(F)\n",
    "tf_F = tf.Variable(F)\n",
    "tf.one_hot(tf_F, depth=len(F), on_value='ON', off_value='OFF')"
   ]
  },
  {
   "cell_type": "code",
   "execution_count": 288,
   "id": "68021bd8-cdf5-4149-a4d5-7049ab7fcbfd",
   "metadata": {},
   "outputs": [
    {
     "data": {
      "text/plain": [
       "<tf.Tensor: shape=(4, 4), dtype=string, numpy=\n",
       "array([[b'ON', b'OFF', b'OFF', b'OFF'],\n",
       "       [b'OFF', b'ON', b'OFF', b'OFF'],\n",
       "       [b'OFF', b'OFF', b'ON', b'OFF'],\n",
       "       [b'OFF', b'OFF', b'OFF', b'ON']], dtype=object)>"
      ]
     },
     "execution_count": 288,
     "metadata": {},
     "output_type": "execute_result"
    }
   ],
   "source": [
    "# Create a list of indices\n",
    "some_list = [0, 1, 2, 3]\n",
    "\n",
    "# One hot encode them\n",
    "tf.one_hot(some_list, depth=4, on_value='ON', off_value='OFF')"
   ]
  },
  {
   "cell_type": "markdown",
   "id": "f5197020-2604-4b33-94bd-6a9f41a7e790",
   "metadata": {},
   "source": [
    "#### Squaring, log, square root\n"
   ]
  },
  {
   "cell_type": "code",
   "execution_count": 296,
   "id": "6293caeb-870c-40e0-8be4-01458200c0c8",
   "metadata": {},
   "outputs": [
    {
     "data": {
      "text/plain": [
       "<tf.Tensor: shape=(9,), dtype=int32, numpy=array([1, 2, 3, 4, 5, 6, 7, 8, 9])>"
      ]
     },
     "execution_count": 296,
     "metadata": {},
     "output_type": "execute_result"
    }
   ],
   "source": [
    "H = tf.constant(np.arange(1, 10))\n",
    "H"
   ]
  },
  {
   "cell_type": "code",
   "execution_count": 299,
   "id": "c3d3eef1-293b-475d-a810-ad50a92e4ae5",
   "metadata": {},
   "outputs": [
    {
     "data": {
      "text/plain": [
       "<tf.Tensor: shape=(9,), dtype=int32, numpy=array([ 1,  4,  9, 16, 25, 36, 49, 64, 81])>"
      ]
     },
     "execution_count": 299,
     "metadata": {},
     "output_type": "execute_result"
    }
   ],
   "source": [
    "res = tf.square(H)\n",
    "res"
   ]
  },
  {
   "cell_type": "code",
   "execution_count": 302,
   "id": "8f115a36-1b54-42fb-9acb-17721f42cad6",
   "metadata": {},
   "outputs": [
    {
     "data": {
      "text/plain": [
       "<tf.Tensor: shape=(9,), dtype=float32, numpy=array([1., 2., 3., 4., 5., 6., 7., 8., 9.], dtype=float32)>"
      ]
     },
     "execution_count": 302,
     "metadata": {},
     "output_type": "execute_result"
    }
   ],
   "source": [
    "tf.sqrt(tf.cast(res, tf.float32))"
   ]
  },
  {
   "cell_type": "code",
   "execution_count": 303,
   "id": "cdd4a6ed-102b-4bc0-b3fd-e72ef2fb5bc0",
   "metadata": {},
   "outputs": [
    {
     "data": {
      "text/plain": [
       "<tf.Tensor: shape=(9,), dtype=float32, numpy=\n",
       "array([0.       , 1.3862944, 2.1972246, 2.7725887, 3.218876 , 3.583519 ,\n",
       "       3.8918204, 4.158883 , 4.394449 ], dtype=float32)>"
      ]
     },
     "execution_count": 303,
     "metadata": {},
     "output_type": "execute_result"
    }
   ],
   "source": [
    "tf.math.log(tf.cast(res, tf.float32))"
   ]
  },
  {
   "cell_type": "markdown",
   "id": "7af11530-627f-41b9-8ad7-8b23aec17888",
   "metadata": {},
   "source": [
    "#### Manipulating tf.Variable tensors"
   ]
  },
  {
   "cell_type": "code",
   "execution_count": 304,
   "id": "60a90130-3245-4b8a-aa76-01ae6a7550e3",
   "metadata": {},
   "outputs": [
    {
     "data": {
      "text/plain": [
       "<tf.Variable 'Variable:0' shape=(5,) dtype=int32, numpy=array([0, 1, 2, 3, 4])>"
      ]
     },
     "execution_count": 304,
     "metadata": {},
     "output_type": "execute_result"
    }
   ],
   "source": [
    "I = tf.Variable(np.arange(0, 5))\n",
    "I"
   ]
  },
  {
   "cell_type": "code",
   "execution_count": 307,
   "id": "48d5c7a3-d737-419a-bc3a-4c67c352c007",
   "metadata": {},
   "outputs": [
    {
     "data": {
      "text/plain": [
       "<tf.Variable 'UnreadVariable' shape=(5,) dtype=int32, numpy=array([ 10,   1,   2,   3, 100])>"
      ]
     },
     "execution_count": 307,
     "metadata": {},
     "output_type": "execute_result"
    }
   ],
   "source": [
    "I.assign([10, 1, 2, 3, 100])"
   ]
  },
  {
   "cell_type": "code",
   "execution_count": 308,
   "id": "c3c5cf99-d416-4592-ac73-d0f7b909cf56",
   "metadata": {},
   "outputs": [
    {
     "data": {
      "text/plain": [
       "<tf.Variable 'Variable:0' shape=(5,) dtype=int32, numpy=array([ 10,   1,   2,   3, 100])>"
      ]
     },
     "execution_count": 308,
     "metadata": {},
     "output_type": "execute_result"
    }
   ],
   "source": [
    "I"
   ]
  },
  {
   "cell_type": "code",
   "execution_count": 309,
   "id": "85230647-a50c-4758-abd7-03f84c5cb75e",
   "metadata": {},
   "outputs": [
    {
     "data": {
      "text/plain": [
       "<tf.Variable 'UnreadVariable' shape=(5,) dtype=int32, numpy=array([ 20,  11,  12,  13, 110])>"
      ]
     },
     "execution_count": 309,
     "metadata": {},
     "output_type": "execute_result"
    }
   ],
   "source": [
    "I.assign_add([10, 10, 10, 10, 10])"
   ]
  },
  {
   "cell_type": "code",
   "execution_count": 310,
   "id": "6eeeaf5a-ce59-4496-aee0-b6ec3099c6b5",
   "metadata": {},
   "outputs": [
    {
     "data": {
      "text/plain": [
       "<tf.Variable 'UnreadVariable' shape=(5,) dtype=int32, numpy=array([ 10,   1,   2,   3, 100])>"
      ]
     },
     "execution_count": 310,
     "metadata": {},
     "output_type": "execute_result"
    }
   ],
   "source": [
    "I.assign_sub([10, 10, 10, 10, 10])"
   ]
  },
  {
   "cell_type": "code",
   "execution_count": 311,
   "id": "33be121f-cd77-48b4-8561-40eb92e29c92",
   "metadata": {},
   "outputs": [
    {
     "data": {
      "text/plain": [
       "<tf.Variable 'Variable:0' shape=(5,) dtype=int32, numpy=array([ 10,   1,   2,   3, 100])>"
      ]
     },
     "execution_count": 311,
     "metadata": {},
     "output_type": "execute_result"
    }
   ],
   "source": [
    "I"
   ]
  },
  {
   "cell_type": "markdown",
   "id": "d590d6f9-81a4-4b32-830b-5a8e61049994",
   "metadata": {},
   "source": [
    "#### Tensors and NumPy"
   ]
  },
  {
   "cell_type": "code",
   "execution_count": 312,
   "id": "790ae35c-1893-4ede-a046-80b59769cc52",
   "metadata": {},
   "outputs": [
    {
     "data": {
      "text/plain": [
       "array([ 10,   1,   2,   3, 100])"
      ]
     },
     "execution_count": 312,
     "metadata": {},
     "output_type": "execute_result"
    }
   ],
   "source": [
    "np.array(I)"
   ]
  },
  {
   "cell_type": "code",
   "execution_count": 314,
   "id": "a508efc5-5989-4093-9e8c-2d445b0bfa70",
   "metadata": {},
   "outputs": [
    {
     "data": {
      "text/plain": [
       "array([ 10,   1,   2,   3, 100])"
      ]
     },
     "execution_count": 314,
     "metadata": {},
     "output_type": "execute_result"
    }
   ],
   "source": [
    "I.numpy()"
   ]
  },
  {
   "cell_type": "markdown",
   "id": "590cf528-4d63-4b1a-8d69-83f8e5ca6213",
   "metadata": {},
   "source": [
    "#### Using @tf.function"
   ]
  },
  {
   "cell_type": "code",
   "execution_count": 316,
   "id": "f901f581-452f-43db-a76c-10251775b953",
   "metadata": {},
   "outputs": [
    {
     "data": {
      "text/plain": [
       "<tf.Tensor: shape=(10,), dtype=int32, numpy=array([ 10,  12,  16,  22,  30,  40,  52,  66,  82, 100])>"
      ]
     },
     "execution_count": 316,
     "metadata": {},
     "output_type": "execute_result"
    }
   ],
   "source": [
    "@tf.function\n",
    "def function(x, y):\n",
    "  return x ** 2 + y\n",
    "\n",
    "x = tf.constant(np.arange(0, 10))\n",
    "y = tf.constant(np.arange(10, 20))\n",
    "function(x, y)"
   ]
  },
  {
   "cell_type": "markdown",
   "id": "167864c3-2191-47b8-bd7f-8f8df17d7afe",
   "metadata": {},
   "source": [
    "#### Finding access to GPUs"
   ]
  },
  {
   "cell_type": "code",
   "execution_count": 321,
   "id": "bb5c49db-17a4-423f-b076-bf05c4928efe",
   "metadata": {},
   "outputs": [
    {
     "data": {
      "text/plain": [
       "[PhysicalDevice(name='/physical_device:CPU:0', device_type='CPU')]"
      ]
     },
     "execution_count": 321,
     "metadata": {},
     "output_type": "execute_result"
    }
   ],
   "source": [
    "tf.config.list_physical_devices()"
   ]
  },
  {
   "cell_type": "markdown",
   "id": "a300ba4f-7022-41eb-a397-07a27e254f35",
   "metadata": {},
   "source": [
    "### Exercises"
   ]
  },
  {
   "cell_type": "markdown",
   "id": "01246575-9458-419f-a7c1-6a511f1d37ab",
   "metadata": {},
   "source": [
    "#### Create a vector, scalar, matrix and tensor with values of your choosing using tf.constant().\r\n"
   ]
  },
  {
   "cell_type": "code",
   "execution_count": 324,
   "id": "10b15ed7-842d-42ae-8a95-fb7c54c3d8b1",
   "metadata": {},
   "outputs": [],
   "source": [
    "t_scl = tf.constant(10)\n",
    "t_vec = tf.constant([10, 20, 30])\n",
    "t_mat = tf.constant([[1, 2], [3, 4]])"
   ]
  },
  {
   "cell_type": "markdown",
   "id": "f2323de2-75de-4f60-a809-6b56f4ea262c",
   "metadata": {},
   "source": [
    "#### Find the shape, rank and size of the tensors you created in 1.\n"
   ]
  },
  {
   "cell_type": "code",
   "execution_count": 326,
   "id": "eb91aa4c-538f-469d-8279-2f9928e11f6d",
   "metadata": {},
   "outputs": [
    {
     "data": {
      "text/plain": [
       "(TensorShape([]), 0, <tf.Tensor: shape=(), dtype=int32, numpy=1>)"
      ]
     },
     "execution_count": 326,
     "metadata": {},
     "output_type": "execute_result"
    }
   ],
   "source": [
    "t_scl.shape, t_scl.ndim, tf.size(t_scl)"
   ]
  },
  {
   "cell_type": "code",
   "execution_count": 327,
   "id": "f59f6e49-d418-436e-96b9-72d20d7f37b4",
   "metadata": {},
   "outputs": [
    {
     "data": {
      "text/plain": [
       "(TensorShape([3]), 1, <tf.Tensor: shape=(), dtype=int32, numpy=3>)"
      ]
     },
     "execution_count": 327,
     "metadata": {},
     "output_type": "execute_result"
    }
   ],
   "source": [
    "t_vec.shape, t_vec.ndim, tf.size(t_vec)"
   ]
  },
  {
   "cell_type": "code",
   "execution_count": 328,
   "id": "62c28948-3a92-4e3f-a04b-546334fab1d8",
   "metadata": {},
   "outputs": [
    {
     "data": {
      "text/plain": [
       "(TensorShape([2, 2]), 2, <tf.Tensor: shape=(), dtype=int32, numpy=4>)"
      ]
     },
     "execution_count": 328,
     "metadata": {},
     "output_type": "execute_result"
    }
   ],
   "source": [
    "t_mat.shape, t_mat.ndim, tf.size(t_mat)"
   ]
  },
  {
   "cell_type": "markdown",
   "id": "89870ec7-c8e8-4a2c-a168-6fffab64c7b0",
   "metadata": {},
   "source": [
    "#### Create two tensors containing random values between 0 and 1 with shape [5, 300].\n"
   ]
  },
  {
   "cell_type": "code",
   "execution_count": 341,
   "id": "82615089-fde8-485e-b521-ec3a77bd4838",
   "metadata": {},
   "outputs": [],
   "source": [
    "t1 = tf.random.uniform([5, 300], minval=0, maxval=1, seed=42)\n",
    "t2 = tf.random.uniform([5, 300], minval=0, maxval=1, seed=42)"
   ]
  },
  {
   "cell_type": "code",
   "execution_count": 340,
   "id": "fe882955-d317-4ffd-93a7-a44d875219e0",
   "metadata": {},
   "outputs": [
    {
     "data": {
      "text/plain": [
       "(<tf.Tensor: shape=(), dtype=float32, numpy=0.00015246868>,\n",
       " <tf.Tensor: shape=(), dtype=float32, numpy=0.99954736>)"
      ]
     },
     "execution_count": 340,
     "metadata": {},
     "output_type": "execute_result"
    }
   ],
   "source": [
    "tf.reduce_min(t1), tf.reduce_max(t1)"
   ]
  },
  {
   "cell_type": "code",
   "execution_count": 342,
   "id": "077f1af7-3fcd-4728-87d2-43819661494e",
   "metadata": {},
   "outputs": [
    {
     "data": {
      "text/plain": [
       "(<tf.Tensor: shape=(), dtype=float32, numpy=0.00016844273>,\n",
       " <tf.Tensor: shape=(), dtype=float32, numpy=0.99952507>)"
      ]
     },
     "execution_count": 342,
     "metadata": {},
     "output_type": "execute_result"
    }
   ],
   "source": [
    "tf.reduce_min(t2), tf.reduce_max(t2)"
   ]
  },
  {
   "cell_type": "markdown",
   "id": "25e29d9f-1487-45d8-956a-832d771e81d8",
   "metadata": {},
   "source": [
    "#### Multiply the two tensors you created in 3 using matrix multiplication.\n"
   ]
  },
  {
   "cell_type": "code",
   "execution_count": 344,
   "id": "a247319d-a9b1-442b-a8d5-340034c29e89",
   "metadata": {},
   "outputs": [
    {
     "data": {
      "text/plain": [
       "(<tf.Tensor: shape=(5, 300), dtype=float32, numpy=\n",
       " array([[0.7143688 , 0.7297647 , 1.5155847 , ..., 1.6727597 , 2.0946229 ,\n",
       "         0.356138  ],\n",
       "        [0.7382884 , 1.8569291 , 2.5679002 , ..., 0.3564037 , 1.8816737 ,\n",
       "         1.711171  ],\n",
       "        [2.5221496 , 2.1224256 , 2.8150592 , ..., 0.7001785 , 2.1603518 ,\n",
       "         1.8427913 ],\n",
       "        [2.6163025 , 0.9960036 , 0.8335655 , ..., 1.1320299 , 2.718802  ,\n",
       "         0.1737138 ],\n",
       "        [1.761181  , 2.5487545 , 0.1593436 , ..., 0.21921408, 1.8565543 ,\n",
       "         1.1532365 ]], dtype=float32)>,\n",
       " <tf.Tensor: shape=(5, 300), dtype=float32, numpy=\n",
       " array([[1.6566786 , 2.2440472 , 2.572056  , ..., 0.0537411 , 1.190202  ,\n",
       "         2.7168982 ],\n",
       "        [1.9937285 , 0.29867435, 0.83128417, ..., 0.43139005, 0.00849438,\n",
       "         0.48126805],\n",
       "        [2.02928   , 2.8318934 , 2.5649493 , ..., 0.5722332 , 1.9645107 ,\n",
       "         0.15373743],\n",
       "        [1.7644336 , 1.3071431 , 2.3853614 , ..., 1.8798015 , 0.18877244,\n",
       "         0.8775351 ],\n",
       "        [2.943933  , 0.91932285, 1.585311  , ..., 2.7243397 , 2.7716982 ,\n",
       "         0.6226033 ]], dtype=float32)>)"
      ]
     },
     "execution_count": 344,
     "metadata": {},
     "output_type": "execute_result"
    }
   ],
   "source": [
    "t1 *3 , t2 *3"
   ]
  },
  {
   "cell_type": "code",
   "execution_count": 346,
   "id": "8fc9f84f-6a10-447d-a9f3-6c15609f614d",
   "metadata": {},
   "outputs": [
    {
     "data": {
      "text/plain": [
       "(<tf.Tensor: shape=(5, 300), dtype=float32, numpy=\n",
       " array([[0.7143688 , 0.7297647 , 1.5155847 , ..., 1.6727597 , 2.0946229 ,\n",
       "         0.356138  ],\n",
       "        [0.7382884 , 1.8569291 , 2.5679002 , ..., 0.3564037 , 1.8816737 ,\n",
       "         1.711171  ],\n",
       "        [2.5221496 , 2.1224256 , 2.8150592 , ..., 0.7001785 , 2.1603518 ,\n",
       "         1.8427913 ],\n",
       "        [2.6163025 , 0.9960036 , 0.8335655 , ..., 1.1320299 , 2.718802  ,\n",
       "         0.1737138 ],\n",
       "        [1.761181  , 2.5487545 , 0.1593436 , ..., 0.21921408, 1.8565543 ,\n",
       "         1.1532365 ]], dtype=float32)>,\n",
       " <tf.Tensor: shape=(5, 300), dtype=float32, numpy=\n",
       " array([[1.6566786 , 2.2440472 , 2.572056  , ..., 0.0537411 , 1.190202  ,\n",
       "         2.7168982 ],\n",
       "        [1.9937285 , 0.29867435, 0.83128417, ..., 0.43139005, 0.00849438,\n",
       "         0.48126805],\n",
       "        [2.02928   , 2.8318934 , 2.5649493 , ..., 0.5722332 , 1.9645107 ,\n",
       "         0.15373743],\n",
       "        [1.7644336 , 1.3071431 , 2.3853614 , ..., 1.8798015 , 0.18877244,\n",
       "         0.8775351 ],\n",
       "        [2.943933  , 0.91932285, 1.585311  , ..., 2.7243397 , 2.7716982 ,\n",
       "         0.6226033 ]], dtype=float32)>)"
      ]
     },
     "execution_count": 346,
     "metadata": {},
     "output_type": "execute_result"
    }
   ],
   "source": [
    "tf.multiply(t1, 3), tf.multiply(t2, 3)"
   ]
  },
  {
   "cell_type": "markdown",
   "id": "9462edd4-d08c-4f3e-8cab-5bf1160465b5",
   "metadata": {},
   "source": [
    "#### Multiply the two tensors you created in 3 using dot product."
   ]
  },
  {
   "cell_type": "code",
   "execution_count": 348,
   "id": "b1de1aeb-4c0d-4dbf-b2d6-2f6f5cb2b84c",
   "metadata": {},
   "outputs": [
    {
     "data": {
      "text/plain": [
       "<tf.Tensor: shape=(300, 300), dtype=float32, numpy=\n",
       "array([[1.9527406 , 1.5561132 , 1.9947951 , ..., 1.2795916 , 1.2429614 ,\n",
       "        0.67514944],\n",
       "       [2.0532153 , 1.3164194 , 1.6978825 , ..., 1.2078626 , 1.3673627 ,\n",
       "        0.6292849 ],\n",
       "       [1.6981049 , 1.4862261 , 1.7215858 , ..., 0.5334588 , 0.8838761 ,\n",
       "        0.7352232 ],\n",
       "       ...,\n",
       "       [0.8383776 , 0.8360316 , 1.049161  , ..., 0.3743906 , 0.46563876,\n",
       "        0.6615296 ],\n",
       "       [2.4298153 , 1.8489958 , 2.435714  , ..., 1.3699133 , 1.3791205 ,\n",
       "        1.1633705 ],\n",
       "       [1.2714126 , 0.8684586 , 1.0341946 , ..., 0.586687  , 0.80975676,\n",
       "        0.3272086 ]], dtype=float32)>"
      ]
     },
     "execution_count": 348,
     "metadata": {},
     "output_type": "execute_result"
    }
   ],
   "source": [
    "tf.matmul(t1, t2, transpose_a=True, transpose_b=False)"
   ]
  },
  {
   "cell_type": "code",
   "execution_count": 352,
   "id": "0430bfbe-95fc-43c4-a1c7-c96850dcb5c0",
   "metadata": {},
   "outputs": [
    {
     "data": {
      "text/plain": [
       "<tf.Tensor: shape=(5, 300, 5, 300), dtype=float32, numpy=\n",
       "array([[[[1.31497726e-01, 1.78119719e-01, 2.04155177e-01, ...,\n",
       "          4.26566275e-03, 9.44714695e-02, 2.15651929e-01],\n",
       "         [1.58250839e-01, 2.37070713e-02, 6.59826100e-02, ...,\n",
       "          3.42412889e-02, 6.74235343e-04, 3.82003225e-02],\n",
       "         [1.61072701e-01, 2.24779591e-01, 2.03591093e-01, ...,\n",
       "          4.54206169e-02, 1.55931681e-01, 1.22028030e-02],\n",
       "         [1.40050709e-01, 1.03753589e-01, 1.89336419e-01, ...,\n",
       "          1.49207950e-01, 1.49836829e-02, 6.96537495e-02],\n",
       "         [2.33672649e-01, 7.29706213e-02, 1.25832975e-01, ...,\n",
       "          2.16242597e-01, 2.20001638e-01, 4.94187102e-02]],\n",
       "\n",
       "        [[1.34331733e-01, 1.81958497e-01, 2.08555073e-01, ...,\n",
       "          4.35759500e-03, 9.65074897e-02, 2.20299602e-01],\n",
       "         [1.61661416e-01, 2.42179986e-02, 6.74046502e-02, ...,\n",
       "          3.49792466e-02, 6.88766304e-04, 3.90236042e-02],\n",
       "         [1.64544091e-01, 2.29623988e-01, 2.07978830e-01, ...,\n",
       "          4.63995114e-02, 1.59292281e-01, 1.24657936e-02],\n",
       "         [1.43069044e-01, 1.05989657e-01, 1.93416953e-01, ...,\n",
       "          1.52423650e-01, 1.53066069e-02, 7.11549073e-02],\n",
       "         [2.38708705e-01, 7.45432600e-02, 1.28544897e-01, ...,\n",
       "          2.20902994e-01, 2.24743053e-01, 5.04837669e-02]],\n",
       "\n",
       "        [[2.78981864e-01, 3.77893746e-01, 4.33129877e-01, ...,\n",
       "          9.04990919e-03, 2.00427994e-01, 4.57521051e-01],\n",
       "         [3.35740507e-01, 5.02962507e-02, 1.39986843e-01, ...,\n",
       "          7.26453513e-02, 1.43043872e-03, 8.10447186e-02],\n",
       "         [3.41727287e-01, 4.76886034e-01, 4.31933105e-01, ...,\n",
       "          9.63630974e-02, 3.30820262e-01, 2.58891210e-02],\n",
       "         [2.97127634e-01, 2.20120668e-01, 4.01690811e-01, ...,\n",
       "          3.16555381e-01, 3.17889564e-02, 1.47775427e-01],\n",
       "         [4.95753288e-01, 1.54812410e-01, 2.66963691e-01, ...,\n",
       "          4.58774179e-01, 4.66749281e-01, 1.04845338e-01]],\n",
       "\n",
       "        ...,\n",
       "\n",
       "        [[3.07913899e-01, 4.17083532e-01, 4.78047967e-01, ...,\n",
       "          9.98843741e-03, 2.21213549e-01, 5.04968643e-01],\n",
       "         [3.70558739e-01, 5.55122644e-02, 1.54504284e-01, ...,\n",
       "          8.01790953e-02, 1.57878350e-03, 8.94495323e-02],\n",
       "         [3.77166390e-01, 5.26341915e-01, 4.76727068e-01, ...,\n",
       "          1.06356509e-01, 3.65128249e-01, 2.85739731e-02],\n",
       "         [3.27941477e-01, 2.42948472e-01, 4.43348497e-01, ...,\n",
       "          3.49384010e-01, 3.50856595e-02, 1.63100585e-01],\n",
       "         [5.47165811e-01, 1.70867354e-01, 2.94649363e-01, ...,\n",
       "          5.06351709e-01, 5.15153885e-01, 1.15718409e-01]],\n",
       "\n",
       "        [[3.85568529e-01, 5.22270322e-01, 5.98609686e-01, ...,\n",
       "          1.25074815e-02, 2.77002692e-01, 6.32319689e-01],\n",
       "         [4.64012146e-01, 6.95122331e-02, 1.93469644e-01, ...,\n",
       "          1.00399941e-01, 1.97694637e-03, 1.12008341e-01],\n",
       "         [4.72286224e-01, 6.59083188e-01, 5.96955717e-01, ...,\n",
       "          1.33179188e-01, 4.57212120e-01, 3.57802138e-02],\n",
       "         [4.10647005e-01, 3.04219097e-01, 5.55159152e-01, ...,\n",
       "          4.37497258e-01, 4.39341180e-02, 2.04233900e-01],\n",
       "         [6.85158789e-01, 2.13959411e-01, 3.68958741e-01, ...,\n",
       "          6.34051561e-01, 6.45073593e-01, 1.44902125e-01]],\n",
       "\n",
       "        [[6.55562431e-02, 8.87989402e-02, 1.01778544e-01, ...,\n",
       "          2.12658290e-03, 4.70973514e-02, 1.07510075e-01],\n",
       "         [7.88936093e-02, 1.18188094e-02, 3.28946523e-02, ...,\n",
       "          1.70704871e-02, 3.36130033e-04, 1.90442037e-02],\n",
       "         [8.03004056e-02, 1.12060539e-01, 1.01497322e-01, ...,\n",
       "          2.26437766e-02, 7.77374282e-02, 6.08352665e-03],\n",
       "         [6.98202029e-02, 5.17248139e-02, 9.43908691e-02, ...,\n",
       "          7.43854120e-02, 7.46989297e-03, 3.47248428e-02],\n",
       "         [1.16494037e-01, 3.63784209e-02, 6.27321675e-02, ...,\n",
       "          1.07804544e-01, 1.09678559e-01, 2.46369652e-02]]],\n",
       "\n",
       "\n",
       "       [[[1.35900736e-01, 1.84083790e-01, 2.10991010e-01, ...,\n",
       "          4.40849224e-03, 9.76347029e-02, 2.22872719e-01],\n",
       "         [1.63549632e-01, 2.45008674e-02, 6.81919381e-02, ...,\n",
       "          3.53878066e-02, 6.96811127e-04, 3.94794010e-02],\n",
       "         [1.66465983e-01, 2.32306004e-01, 2.10408032e-01, ...,\n",
       "          4.69414592e-02, 1.61152825e-01, 1.26113957e-02],\n",
       "         [1.44740105e-01, 1.07227623e-01, 1.95676073e-01, ...,\n",
       "          1.54203966e-01, 1.54853892e-02, 7.19859973e-02],\n",
       "         [2.41496831e-01, 7.54139349e-02, 1.30046308e-01, ...,\n",
       "          2.23483160e-01, 2.27368072e-01, 5.10734208e-02]],\n",
       "\n",
       "        [[3.41814965e-01, 4.63004082e-01, 5.30680656e-01, ...,\n",
       "          1.10881561e-02, 2.45568961e-01, 5.60565233e-01],\n",
       "         [4.11356926e-01, 6.16241209e-02, 1.71515077e-01, ...,\n",
       "          8.90067443e-02, 1.75260624e-03, 9.92978439e-02],\n",
       "         [4.18692112e-01, 5.84291697e-01, 5.29214323e-01, ...,\n",
       "          1.18066274e-01, 4.05328542e-01, 3.17199454e-02],\n",
       "         [3.64047557e-01, 2.69696891e-01, 4.92160767e-01, ...,\n",
       "          3.87850910e-01, 3.89485583e-02, 1.81057826e-01],\n",
       "         [6.07408285e-01, 1.89679697e-01, 3.27090025e-01, ...,\n",
       "          5.62100649e-01, 5.71871877e-01, 1.28458902e-01]],\n",
       "\n",
       "        [[4.72687215e-01, 6.40276551e-01, 7.33864784e-01, ...,\n",
       "          1.53335296e-02, 3.39591086e-01, 7.75191426e-01],\n",
       "         [5.68855047e-01, 8.52184296e-02, 2.37183854e-01, ...,\n",
       "          1.23085171e-01, 2.42363452e-03, 1.37316465e-01],\n",
       "         [5.78998685e-01, 8.08002174e-01, 7.31837034e-01, ...,\n",
       "          1.63270846e-01, 5.60518563e-01, 4.38647047e-02],\n",
       "         [5.03432155e-01, 3.72956991e-01, 6.80596650e-01, ...,\n",
       "          5.36349177e-01, 5.38609736e-02, 2.50380278e-01],\n",
       "         [8.39969516e-01, 2.62303233e-01, 4.52324480e-01, ...,\n",
       "          7.77314663e-01, 7.90827096e-01, 1.77642554e-01]],\n",
       "\n",
       "        ...,\n",
       "\n",
       "        [[6.56051561e-02, 8.88651982e-02, 1.01854481e-01, ...,\n",
       "          2.12816964e-03, 4.71324883e-02, 1.07590288e-01],\n",
       "         [7.89524689e-02, 1.18276272e-02, 3.29191945e-02, ...,\n",
       "          1.70832239e-02, 3.36380821e-04, 1.90584138e-02],\n",
       "         [8.03603232e-02, 1.12144150e-01, 1.01573050e-01, ...,\n",
       "          2.26606708e-02, 7.77954310e-02, 6.08806545e-03],\n",
       "         [6.98722973e-02, 5.17634042e-02, 9.44612920e-02, ...,\n",
       "          7.44409114e-02, 7.47546647e-03, 3.47507522e-02],\n",
       "         [1.16580956e-01, 3.64055634e-02, 6.27789721e-02, ...,\n",
       "          1.07884973e-01, 1.09760389e-01, 2.46553477e-02]],\n",
       "\n",
       "        [[3.46369833e-01, 4.69173849e-01, 5.37752271e-01, ...,\n",
       "          1.12359123e-02, 2.48841316e-01, 5.68035126e-01],\n",
       "         [4.16838497e-01, 6.24452941e-02, 1.73800617e-01, ...,\n",
       "          9.01928097e-02, 1.77596067e-03, 1.00621045e-01],\n",
       "         [4.24271405e-01, 5.92077732e-01, 5.36266387e-01, ...,\n",
       "          1.19639575e-01, 4.10729796e-01, 3.21426317e-02],\n",
       "         [3.68898690e-01, 2.73290753e-01, 4.98719096e-01, ...,\n",
       "          3.93019229e-01, 3.94675694e-02, 1.83470517e-01],\n",
       "         [6.15502357e-01, 1.92207292e-01, 3.31448674e-01, ...,\n",
       "          5.69590926e-01, 5.79492390e-01, 1.30170688e-01]],\n",
       "\n",
       "        [[3.14984471e-01, 4.26660955e-01, 4.89025325e-01, ...,\n",
       "          1.02178007e-02, 2.26293236e-01, 5.16564190e-01],\n",
       "         [3.79067838e-01, 5.67869879e-02, 1.58052146e-01, ...,\n",
       "          8.20202380e-02, 1.61503686e-03, 9.15035456e-02],\n",
       "         [3.85827243e-01, 5.38428247e-01, 4.87674087e-01, ...,\n",
       "          1.08798765e-01, 3.73512626e-01, 2.92301141e-02],\n",
       "         [3.35471958e-01, 2.48527259e-01, 4.53529030e-01, ...,\n",
       "          3.57406884e-01, 3.58913243e-02, 1.66845843e-01],\n",
       "         [5.59730291e-01, 1.74790964e-01, 3.01415384e-01, ...,\n",
       "          5.17979026e-01, 5.26983321e-01, 1.18375637e-01]]],\n",
       "\n",
       "\n",
       "       [[[4.64265645e-01, 6.28869176e-01, 7.20789969e-01, ...,\n",
       "          1.50603419e-02, 3.33540797e-01, 7.61380374e-01],\n",
       "         [5.58720112e-01, 8.37001503e-02, 2.32958093e-01, ...,\n",
       "          1.20892242e-01, 2.38045421e-03, 1.34869993e-01],\n",
       "         [5.68683028e-01, 7.93606520e-01, 7.18798399e-01, ...,\n",
       "          1.60361961e-01, 5.50532162e-01, 4.30831946e-02],\n",
       "         [4.94462818e-01, 3.66312236e-01, 6.68470919e-01, ...,\n",
       "          5.26793361e-01, 5.29013686e-02, 2.45919406e-01],\n",
       "         [8.25004280e-01, 2.57629961e-01, 4.44265723e-01, ...,\n",
       "          7.63465762e-01, 7.76737452e-01, 1.74477622e-01]],\n",
       "\n",
       "        [[3.90686333e-01, 5.29202580e-01, 6.06555283e-01, ...,\n",
       "          1.26734972e-02, 2.80679464e-01, 6.40712678e-01],\n",
       "         [4.70171154e-01, 7.04348981e-02, 1.96037635e-01, ...,\n",
       "          1.01732582e-01, 2.00318708e-03, 1.13495067e-01],\n",
       "         [4.78555083e-01, 6.67831421e-01, 6.04879320e-01, ...,\n",
       "          1.34946927e-01, 4.63280857e-01, 3.62551361e-02],\n",
       "         [4.16097671e-01, 3.08257103e-01, 5.62528014e-01, ...,\n",
       "          4.43304300e-01, 4.45172712e-02, 2.06944764e-01],\n",
       "         [6.94253147e-01, 2.16799363e-01, 3.73856068e-01, ...,\n",
       "          6.42467558e-01, 6.53635919e-01, 1.46825463e-01]],\n",
       "\n",
       "        [[5.18183112e-01, 7.01902866e-01, 8.04498911e-01, ...,\n",
       "          1.68093741e-02, 3.72276574e-01, 8.49803269e-01],\n",
       "         [6.23607099e-01, 9.34206620e-02, 2.60012686e-01, ...,\n",
       "          1.34932056e-01, 2.65690824e-03, 1.50533110e-01],\n",
       "         [6.34727001e-01, 8.85771990e-01, 8.02276015e-01, ...,\n",
       "          1.78985596e-01, 6.14468217e-01, 4.80866618e-02],\n",
       "         [5.51887214e-01, 4.08853918e-01, 7.46103764e-01, ...,\n",
       "          5.87972522e-01, 5.90450652e-02, 2.74479240e-01],\n",
       "         [9.20816123e-01, 2.87549794e-01, 4.95860487e-01, ...,\n",
       "          8.52130830e-01, 8.66943836e-01, 1.94740564e-01]],\n",
       "\n",
       "        ...,\n",
       "\n",
       "        [[1.28885642e-01, 1.74581513e-01, 2.00099811e-01, ...,\n",
       "          4.18092916e-03, 9.25948694e-02, 2.11368188e-01],\n",
       "         [1.55107319e-01, 2.32361499e-02, 6.46719262e-02, ...,\n",
       "          3.35611142e-02, 6.60842226e-04, 3.74415033e-02],\n",
       "         [1.57873139e-01, 2.20314547e-01, 1.99546933e-01, ...,\n",
       "          4.45183776e-02, 1.52834237e-01, 1.19604049e-02],\n",
       "         [1.37268722e-01, 1.01692609e-01, 1.85575426e-01, ...,\n",
       "          1.46244064e-01, 1.46860452e-02, 6.82701319e-02],\n",
       "         [2.29030952e-01, 7.15211183e-02, 1.23333417e-01, ...,\n",
       "          2.11947128e-01, 2.15631500e-01, 4.84370477e-02]],\n",
       "\n",
       "        [[3.97667587e-01, 5.38659036e-01, 6.17393970e-01, ...,\n",
       "          1.28999632e-02, 2.85694987e-01, 6.52161717e-01],\n",
       "         [4.78572726e-01, 7.16935098e-02, 1.99540675e-01, ...,\n",
       "          1.03550464e-01, 2.03898246e-03, 1.15523137e-01],\n",
       "         [4.87106472e-01, 6.79765046e-01, 6.15688026e-01, ...,\n",
       "          1.37358323e-01, 4.71559316e-01, 3.69029902e-02],\n",
       "         [4.23532993e-01, 3.13765407e-01, 5.72579920e-01, ...,\n",
       "          4.51225817e-01, 4.53127623e-02, 2.10642710e-01],\n",
       "         [7.06658900e-01, 2.20673397e-01, 3.80536586e-01, ...,\n",
       "          6.53947949e-01, 6.65315866e-01, 1.49449110e-01]],\n",
       "\n",
       "        [[3.39212537e-01, 4.59478974e-01, 5.26640296e-01, ...,\n",
       "          1.10037364e-02, 2.43699327e-01, 5.56297362e-01],\n",
       "         [4.08225060e-01, 6.11549430e-02, 1.70209244e-01, ...,\n",
       "          8.83290917e-02, 1.73926272e-03, 9.85418409e-02],\n",
       "         [4.15504396e-01, 5.79843163e-01, 5.25185168e-01, ...,\n",
       "          1.17167376e-01, 4.02242571e-01, 3.14784423e-02],\n",
       "         [3.61275882e-01, 2.67643541e-01, 4.88413692e-01, ...,\n",
       "          3.84897977e-01, 3.86520252e-02, 1.79679334e-01],\n",
       "         [6.02783799e-01, 1.88235581e-01, 3.24599713e-01, ...,\n",
       "          5.57821095e-01, 5.67517936e-01, 1.27480879e-01]]],\n",
       "\n",
       "\n",
       "       [[[4.81596917e-01, 6.52345181e-01, 7.47697413e-01, ...,\n",
       "          1.56225516e-02, 3.45992059e-01, 7.89803088e-01],\n",
       "         [5.79577446e-01, 8.68247151e-02, 2.41654530e-01, ...,\n",
       "          1.25405207e-01, 2.46931775e-03, 1.39904752e-01],\n",
       "         [5.89912236e-01, 8.23232234e-01, 7.45631456e-01, ...,\n",
       "          1.66348353e-01, 5.71083784e-01, 4.46915105e-02],\n",
       "         [5.12921333e-01, 3.79986852e-01, 6.93425238e-01, ...,\n",
       "          5.46458840e-01, 5.48762009e-02, 2.55099684e-01],\n",
       "         [8.55802119e-01, 2.67247409e-01, 4.60850358e-01, ...,\n",
       "          7.91966319e-01, 8.05733442e-01, 1.80990949e-01]],\n",
       "\n",
       "        [[1.83339760e-01, 2.48342142e-01, 2.84641922e-01, ...,\n",
       "          5.94736962e-03, 1.31716162e-01, 3.00671160e-01],\n",
       "         [2.20640093e-01, 3.30534130e-02, 9.19957832e-02, ...,\n",
       "          4.77406718e-02, 9.40047845e-04, 5.32605238e-02],\n",
       "         [2.24574462e-01, 3.13397348e-01, 2.83855408e-01, ...,\n",
       "          6.33273721e-02, 2.17406645e-01, 1.70136709e-02],\n",
       "         [1.95264697e-01, 1.44657701e-01, 2.63980955e-01, ...,\n",
       "          2.08032131e-01, 2.08908934e-02, 9.71142352e-02],\n",
       "         [3.25796425e-01, 1.01738766e-01, 1.75441727e-01, ...,\n",
       "          3.01494688e-01, 3.06735724e-01, 6.89016804e-02]],\n",
       "\n",
       "        [[1.53438896e-01, 2.07840040e-01, 2.38219678e-01, ...,\n",
       "          4.97741392e-03, 1.10234588e-01, 2.51634717e-01],\n",
       "         [1.84655920e-01, 2.76627354e-02, 7.69921988e-02, ...,\n",
       "          3.99546511e-02, 7.86735502e-04, 4.45742682e-02],\n",
       "         [1.87948629e-01, 2.62285411e-01, 2.37561464e-01, ...,\n",
       "          5.29993139e-02, 1.81949809e-01, 1.42389126e-02],\n",
       "         [1.63418993e-01, 1.21065482e-01, 2.20928326e-01, ...,\n",
       "          1.74104184e-01, 1.74837988e-02, 8.12758878e-02],\n",
       "         [2.72662312e-01, 8.51461962e-02, 1.46828949e-01, ...,\n",
       "          2.52323955e-01, 2.56710231e-01, 5.76645136e-02]],\n",
       "\n",
       "        ...,\n",
       "\n",
       "        [[2.08378851e-01, 2.82258719e-01, 3.23516041e-01, ...,\n",
       "          6.75961422e-03, 1.49704918e-01, 3.41734439e-01],\n",
       "         [2.50773370e-01, 3.75675857e-02, 1.04559839e-01, ...,\n",
       "          5.42607158e-02, 1.06843212e-03, 6.05344251e-02],\n",
       "         [2.55245060e-01, 3.56198668e-01, 3.22622150e-01, ...,\n",
       "          7.19761178e-02, 2.47098312e-01, 1.93372630e-02],\n",
       "         [2.21932396e-01, 1.64413899e-01, 3.00033391e-01, ...,\n",
       "          2.36443505e-01, 2.37440057e-02, 1.10377327e-01],\n",
       "         [3.70291114e-01, 1.15633436e-01, 1.99402168e-01, ...,\n",
       "          3.42670441e-01, 3.48627239e-01, 7.83117265e-02]],\n",
       "\n",
       "        [[5.00464499e-01, 6.77902222e-01, 7.76990116e-01, ...,\n",
       "          1.62345991e-02, 3.59547049e-01, 8.20745349e-01],\n",
       "         [6.02283657e-01, 9.02262628e-02, 2.51121879e-01, ...,\n",
       "          1.30318224e-01, 2.56605865e-03, 1.45385832e-01],\n",
       "         [6.13023341e-01, 8.55484128e-01, 7.74843216e-01, ...,\n",
       "          1.72865406e-01, 5.93457282e-01, 4.64424007e-02],\n",
       "         [5.33016145e-01, 3.94873679e-01, 7.20591664e-01, ...,\n",
       "          5.67867517e-01, 5.70260957e-02, 2.65093774e-01],\n",
       "         [8.89330029e-01, 2.77717412e-01, 4.78905171e-01, ...,\n",
       "          8.22993338e-01, 8.37299824e-01, 1.88081667e-01]],\n",
       "\n",
       "        [[3.19764353e-02, 4.33135554e-02, 4.96446267e-02, ...,\n",
       "          1.03728555e-03, 2.29727235e-02, 5.24403006e-02],\n",
       "         [3.84820178e-02, 5.76487277e-03, 1.60450600e-02, ...,\n",
       "          8.32648948e-03, 1.63954508e-04, 9.28921159e-03],\n",
       "         [3.91682163e-02, 5.46598881e-02, 4.95074540e-02, ...,\n",
       "          1.10449782e-02, 3.79180685e-02, 2.96736811e-03],\n",
       "         [3.40562761e-02, 2.52298657e-02, 4.60411347e-02, ...,\n",
       "          3.62830535e-02, 3.64359771e-03, 1.69377737e-02],\n",
       "         [5.68224192e-02, 1.77443419e-02, 3.05989347e-02, ...,\n",
       "          5.25839366e-02, 5.34980260e-02, 1.20171988e-02]]],\n",
       "\n",
       "\n",
       "       [[[3.24190080e-01, 4.39130396e-01, 5.03317356e-01, ...,\n",
       "          1.05164219e-02, 2.32906789e-01, 5.31661034e-01],\n",
       "         [3.90146315e-01, 5.84466197e-02, 1.62671313e-01, ...,\n",
       "          8.44173282e-02, 1.66223734e-03, 9.41777900e-02],\n",
       "         [3.97103250e-01, 5.54164112e-01, 5.01926661e-01, ...,\n",
       "          1.11978471e-01, 3.84428769e-01, 3.00843809e-02],\n",
       "         [3.45276326e-01, 2.55790621e-01, 4.66783702e-01, ...,\n",
       "          3.67852300e-01, 3.69402692e-02, 1.71722010e-01],\n",
       "         [5.76088727e-01, 1.79899320e-01, 3.10224414e-01, ...,\n",
       "          5.33117235e-01, 5.42384684e-01, 1.21835232e-01]],\n",
       "\n",
       "        [[4.69162971e-01, 6.35502815e-01, 7.28393257e-01, ...,\n",
       "          1.52192069e-02, 3.37059170e-01, 7.69411802e-01],\n",
       "         [5.64613819e-01, 8.45830664e-02, 2.35415474e-01, ...,\n",
       "          1.22167476e-01, 2.40556453e-03, 1.36292681e-01],\n",
       "         [5.74681818e-01, 8.01977873e-01, 7.26380646e-01, ...,\n",
       "          1.62053540e-01, 5.56339502e-01, 4.35376614e-02],\n",
       "         [4.99678671e-01, 3.70176315e-01, 6.75522268e-01, ...,\n",
       "          5.32350302e-01, 5.34593984e-02, 2.48513505e-01],\n",
       "         [8.33706915e-01, 2.60347575e-01, 4.48952079e-01, ...,\n",
       "          7.71519244e-01, 7.84930885e-01, 1.76318109e-01]],\n",
       "\n",
       "        [[2.93312371e-02, 3.97305079e-02, 4.55378518e-02, ...,\n",
       "          9.51477792e-04, 2.10723411e-02, 4.81022596e-02],\n",
       "         [3.52986529e-02, 5.28798299e-03, 1.47177568e-02, ...,\n",
       "          7.63769355e-03, 1.50391628e-04, 8.52077641e-03],\n",
       "         [3.59280854e-02, 5.01382314e-02, 4.54120263e-02, ...,\n",
       "          1.01312995e-02, 3.47813554e-02, 2.72189733e-03],\n",
       "         [3.12390234e-02, 2.31427643e-02, 4.22324538e-02, ...,\n",
       "          3.32815945e-02, 3.34218680e-03, 1.55366221e-02],\n",
       "         [5.21218739e-02, 1.62764676e-02, 2.80676857e-02, ...,\n",
       "          4.82340120e-02, 4.90724854e-02, 1.10230949e-02]],\n",
       "\n",
       "        ...,\n",
       "\n",
       "        [[4.03519198e-02, 5.46585284e-02, 6.26478791e-02, ...,\n",
       "          1.30897842e-03, 2.89898925e-02, 6.61758184e-02],\n",
       "         [4.85614836e-02, 7.27484701e-03, 2.02476885e-02, ...,\n",
       "          1.05074188e-02, 2.06898563e-04, 1.17223039e-02],\n",
       "         [4.94274162e-02, 6.89767674e-02, 6.24747761e-02, ...,\n",
       "          1.39379529e-02, 4.78498228e-02, 3.74460104e-03],\n",
       "         [4.29765210e-02, 3.18382420e-02, 5.81005365e-02, ...,\n",
       "          4.57865521e-02, 4.59795306e-03, 2.13742275e-02],\n",
       "         [7.17057288e-02, 2.23920569e-02, 3.86136137e-02, ...,\n",
       "          6.63570687e-02, 6.75105900e-02, 1.51648233e-02]],\n",
       "\n",
       "        [[3.41745973e-01, 4.62910622e-01, 5.30573487e-01, ...,\n",
       "          1.10859182e-02, 2.45519400e-01, 5.60452104e-01],\n",
       "         [4.11273897e-01, 6.16116822e-02, 1.71480462e-01, ...,\n",
       "          8.89887810e-02, 1.75225246e-03, 9.92778093e-02],\n",
       "         [4.18607593e-01, 5.84173739e-01, 5.29107511e-01, ...,\n",
       "          1.18042447e-01, 4.05246735e-01, 3.17135416e-02],\n",
       "         [3.63974094e-01, 2.69642442e-01, 4.92061436e-01, ...,\n",
       "          3.87772620e-01, 3.89406979e-02, 1.81021288e-01],\n",
       "         [6.07285678e-01, 1.89641416e-01, 3.27024013e-01, ...,\n",
       "          5.61987162e-01, 5.71756482e-01, 1.28432974e-01]],\n",
       "\n",
       "        [[2.12282464e-01, 2.87546366e-01, 3.29576552e-01, ...,\n",
       "          6.88624382e-03, 1.52509376e-01, 3.48136246e-01],\n",
       "         [2.55471170e-01, 3.82713526e-02, 1.06518582e-01, ...,\n",
       "          5.52771948e-02, 1.08844729e-03, 6.16684332e-02],\n",
       "         [2.60026634e-01, 3.62871438e-01, 3.28665912e-01, ...,\n",
       "          7.33244717e-02, 2.51727283e-01, 1.96995120e-02],\n",
       "         [2.26089925e-01, 1.67493910e-01, 3.05653989e-01, ...,\n",
       "          2.40872860e-01, 2.41888072e-02, 1.12445056e-01],\n",
       "         [3.77227873e-01, 1.17799632e-01, 2.03137621e-01, ...,\n",
       "          3.49089772e-01, 3.55158180e-01, 7.97787607e-02]]]],\n",
       "      dtype=float32)>"
      ]
     },
     "execution_count": 352,
     "metadata": {},
     "output_type": "execute_result"
    }
   ],
   "source": [
    "tf.tensordot(t1, t2, axes=0)"
   ]
  },
  {
   "cell_type": "code",
   "execution_count": 355,
   "id": "ed180e8e-a392-451e-8f3d-5fc6f8e49639",
   "metadata": {},
   "outputs": [
    {
     "data": {
      "text/plain": [
       "<tf.Tensor: shape=(5, 5), dtype=float32, numpy=\n",
       "array([[79.030685, 74.670074, 75.07764 , 76.993385, 74.927216],\n",
       "       [76.31954 , 73.21771 , 76.789154, 76.33877 , 73.77394 ],\n",
       "       [81.67772 , 77.26543 , 81.0172  , 80.13854 , 75.490486],\n",
       "       [83.385765, 78.209274, 81.091965, 80.96176 , 77.287224],\n",
       "       [79.06482 , 77.02017 , 80.67801 , 83.15093 , 81.244705]],\n",
       "      dtype=float32)>"
      ]
     },
     "execution_count": 355,
     "metadata": {},
     "output_type": "execute_result"
    }
   ],
   "source": [
    "t1 @ tf.transpose(t2)"
   ]
  },
  {
   "cell_type": "markdown",
   "id": "340e6689-038f-46d7-9625-a91d7c31963b",
   "metadata": {},
   "source": [
    "#### Create a tensor with random values between 0 and 1 with shape [224, 224, 3]"
   ]
  },
  {
   "cell_type": "code",
   "execution_count": 357,
   "id": "5e89afb2-b159-46c1-b2e6-54cfa5feb1a6",
   "metadata": {},
   "outputs": [
    {
     "data": {
      "text/plain": [
       "<tf.Tensor: shape=(224, 224, 3), dtype=float32, numpy=\n",
       "array([[[0.41944146, 0.60903394, 0.71607816],\n",
       "        [0.858606  , 0.21797061, 0.9450581 ],\n",
       "        [0.6909996 , 0.37632883, 0.7943243 ],\n",
       "        ...,\n",
       "        [0.8606609 , 0.5759177 , 0.47045183],\n",
       "        [0.23429692, 0.9270003 , 0.7069298 ],\n",
       "        [0.08124423, 0.74872947, 0.09985197]],\n",
       "\n",
       "       [[0.01154613, 0.13842511, 0.09963918],\n",
       "        [0.28309202, 0.47965026, 0.9722712 ],\n",
       "        [0.03141236, 0.43445945, 0.88618433],\n",
       "        ...,\n",
       "        [0.442999  , 0.06895947, 0.13286304],\n",
       "        [0.17474627, 0.19555521, 0.59531105],\n",
       "        [0.24203098, 0.6120472 , 0.20349836]],\n",
       "\n",
       "       [[0.21718132, 0.7927556 , 0.01837313],\n",
       "        [0.19925857, 0.352324  , 0.16757154],\n",
       "        [0.78222907, 0.61229587, 0.0013783 ],\n",
       "        ...,\n",
       "        [0.5328376 , 0.84509146, 0.00360966],\n",
       "        [0.816821  , 0.8881712 , 0.65912855],\n",
       "        [0.24904537, 0.23792958, 0.29897308]],\n",
       "\n",
       "       ...,\n",
       "\n",
       "       [[0.25376642, 0.89619505, 0.01317263],\n",
       "        [0.6123278 , 0.27851415, 0.8966278 ],\n",
       "        [0.23341405, 0.33323264, 0.77691305],\n",
       "        ...,\n",
       "        [0.32129025, 0.4777882 , 0.29089904],\n",
       "        [0.45646405, 0.74436104, 0.8797077 ],\n",
       "        [0.86792004, 0.48708963, 0.53515315]],\n",
       "\n",
       "       [[0.59016573, 0.6120535 , 0.16508722],\n",
       "        [0.938848  , 0.3723874 , 0.705436  ],\n",
       "        [0.34792423, 0.49538565, 0.74068177],\n",
       "        ...,\n",
       "        [0.04835308, 0.29421687, 0.73615026],\n",
       "        [0.96603143, 0.326846  , 0.09407628],\n",
       "        [0.2733426 , 0.9317311 , 0.5675031 ]],\n",
       "\n",
       "       [[0.5744033 , 0.8183037 , 0.76843095],\n",
       "        [0.9667982 , 0.13629258, 0.12740219],\n",
       "        [0.45314717, 0.92807734, 0.31108403],\n",
       "        ...,\n",
       "        [0.713946  , 0.32265985, 0.9074305 ],\n",
       "        [0.09598005, 0.68043244, 0.9119545 ],\n",
       "        [0.3994298 , 0.05717981, 0.3919121 ]]], dtype=float32)>"
      ]
     },
     "execution_count": 357,
     "metadata": {},
     "output_type": "execute_result"
    }
   ],
   "source": [
    "t3 = tf.random.uniform(minval=0, maxval=1, shape=[224, 224, 3])\n",
    "t3"
   ]
  },
  {
   "cell_type": "markdown",
   "id": "2c8aecac-5d0b-469a-b560-7445c6022c6a",
   "metadata": {},
   "source": [
    "#### Find the min and max values of the tensor you created in \n"
   ]
  },
  {
   "cell_type": "code",
   "execution_count": 361,
   "id": "221a7dab-46d0-4eb7-884d-6c836fb756c9",
   "metadata": {},
   "outputs": [
    {
     "data": {
      "text/plain": [
       "(1.0967255e-05, 0.99999917)"
      ]
     },
     "execution_count": 361,
     "metadata": {},
     "output_type": "execute_result"
    }
   ],
   "source": [
    "tf.reduce_min(t3).numpy(), tf.reduce_max(t3).numpy()"
   ]
  },
  {
   "cell_type": "markdown",
   "id": "b5ffc796-3cc3-4a39-a3c6-000f1dfec625",
   "metadata": {},
   "source": [
    "#### Created a tensor with random values of shape [1, 224, 224, 3] then squeeze it to change the shape to [224, 224, 3]"
   ]
  },
  {
   "cell_type": "code",
   "execution_count": 364,
   "id": "e6153739-85e6-4b80-b436-3dde0cd28a8e",
   "metadata": {},
   "outputs": [
    {
     "data": {
      "text/plain": [
       "(<tf.Tensor: shape=(1, 224, 224, 3), dtype=float32, numpy=\n",
       " array([[[[ 2.260564  , -0.6558232 , -0.46591297],\n",
       "          [ 0.4690215 ,  1.026158  , -0.11631647],\n",
       "          [ 0.18181528, -0.8653291 ,  0.34823856],\n",
       "          ...,\n",
       "          [-0.35340056, -0.8719383 , -0.9461825 ],\n",
       "          [ 0.18835995, -0.98673624,  1.3287827 ],\n",
       "          [-0.39012754, -0.3299349 , -0.48902255]],\n",
       " \n",
       "         [[ 0.22111776, -0.3160937 ,  0.49287724],\n",
       "          [ 0.7204182 , -2.4069533 ,  0.9773641 ],\n",
       "          [ 1.3312837 ,  0.30342764, -0.6479191 ],\n",
       "          ...,\n",
       "          [ 1.8883672 ,  0.6237269 , -2.147329  ],\n",
       "          [-0.7488012 , -0.17227246, -1.0924058 ],\n",
       "          [-0.26205307,  1.2801088 ,  2.063088  ]],\n",
       " \n",
       "         [[-0.28480947,  0.29857916,  1.7683946 ],\n",
       "          [-0.1380807 , -0.21737191, -1.2778177 ],\n",
       "          [-0.66610944,  2.6026862 , -0.43811208],\n",
       "          ...,\n",
       "          [ 0.39251983, -1.119603  ,  0.8051878 ],\n",
       "          [-0.09851501, -1.6679809 , -1.5212544 ],\n",
       "          [-1.0076456 ,  0.4887375 , -0.4767197 ]],\n",
       " \n",
       "         ...,\n",
       " \n",
       "         [[ 0.1147475 ,  0.47889754, -0.34533978],\n",
       "          [ 0.23184201, -0.22858715, -1.8549708 ],\n",
       "          [-1.5828112 ,  0.5154828 , -0.4097053 ],\n",
       "          ...,\n",
       "          [ 0.988988  , -0.55225056,  0.86464006],\n",
       "          [-0.5108183 ,  1.4227275 , -0.58964044],\n",
       "          [ 2.0915437 , -0.03712893,  1.3832304 ]],\n",
       " \n",
       "         [[-1.5550871 , -0.07613731,  1.6138458 ],\n",
       "          [ 0.89224005,  2.0283854 , -0.13091308],\n",
       "          [-0.0948396 , -0.1549421 ,  1.5750986 ],\n",
       "          ...,\n",
       "          [ 1.5156441 , -0.0256559 ,  0.42920327],\n",
       "          [-0.93641704, -0.2282113 ,  0.20378421],\n",
       "          [-0.39308855, -0.9020583 , -1.1275724 ]],\n",
       " \n",
       "         [[ 0.5725055 ,  0.3240202 ,  1.1183648 ],\n",
       "          [ 0.40308717,  2.157556  ,  0.5048358 ],\n",
       "          [-0.5920436 ,  0.36058864, -0.25717807],\n",
       "          ...,\n",
       "          [ 0.03780243,  0.7825244 , -1.0949093 ],\n",
       "          [ 0.18614887, -1.2461098 , -0.78051096],\n",
       "          [ 1.0924672 , -0.5442346 ,  1.5377061 ]]]], dtype=float32)>,\n",
       " TensorShape([1, 224, 224, 3]))"
      ]
     },
     "execution_count": 364,
     "metadata": {},
     "output_type": "execute_result"
    }
   ],
   "source": [
    "t4 = tf.random.normal(shape=(1, 224, 224, 3))\n",
    "t4, t4.shape"
   ]
  },
  {
   "cell_type": "code",
   "execution_count": 366,
   "id": "f8eacaf5-b4e7-4325-a9ec-3691a3437773",
   "metadata": {},
   "outputs": [
    {
     "data": {
      "text/plain": [
       "TensorShape([224, 224, 3])"
      ]
     },
     "execution_count": 366,
     "metadata": {},
     "output_type": "execute_result"
    }
   ],
   "source": [
    "tf.squeeze(t4).shape"
   ]
  },
  {
   "cell_type": "markdown",
   "id": "7d629b2c-1dc1-4766-8403-b9056c46dd8f",
   "metadata": {},
   "source": [
    "#### Create a tensor with shape [10] using your own choice of values, then find the index which has the maximum value"
   ]
  },
  {
   "cell_type": "code",
   "execution_count": 373,
   "id": "3493bd96-451a-4e58-826a-2641ec6340af",
   "metadata": {},
   "outputs": [
    {
     "data": {
      "text/plain": [
       "TensorShape([10])"
      ]
     },
     "execution_count": 373,
     "metadata": {},
     "output_type": "execute_result"
    }
   ],
   "source": [
    "t5 = tf.constant(np.random.random(10))\n",
    "t5.shape"
   ]
  },
  {
   "cell_type": "code",
   "execution_count": 374,
   "id": "02e96f5b-dd7d-43f5-af5a-1ae753e70ae2",
   "metadata": {},
   "outputs": [
    {
     "data": {
      "text/plain": [
       "<tf.Tensor: shape=(10,), dtype=float64, numpy=\n",
       "array([0.13512338, 0.73631264, 0.53125562, 0.18444603, 0.17353226,\n",
       "       0.11001621, 0.30554796, 0.62743499, 0.37161748, 0.07290226])>"
      ]
     },
     "execution_count": 374,
     "metadata": {},
     "output_type": "execute_result"
    }
   ],
   "source": [
    "t5"
   ]
  },
  {
   "cell_type": "code",
   "execution_count": 376,
   "id": "b87497a7-4e72-437c-a907-bb6e87e9e2f4",
   "metadata": {},
   "outputs": [
    {
     "data": {
      "text/plain": [
       "1"
      ]
     },
     "execution_count": 376,
     "metadata": {},
     "output_type": "execute_result"
    }
   ],
   "source": [
    "tf.argmax(t5).numpy()"
   ]
  },
  {
   "cell_type": "code",
   "execution_count": 377,
   "id": "deae7ff2-88f1-4283-a2eb-e6dea1d467e1",
   "metadata": {},
   "outputs": [
    {
     "data": {
      "text/plain": [
       "9"
      ]
     },
     "execution_count": 377,
     "metadata": {},
     "output_type": "execute_result"
    }
   ],
   "source": [
    "tf.argmin(t5).numpy()"
   ]
  },
  {
   "cell_type": "markdown",
   "id": "83aac452-bf4b-4ab0-80aa-32d465fa0266",
   "metadata": {},
   "source": [
    "#### One-hot encode the tensor you created in"
   ]
  },
  {
   "cell_type": "code",
   "execution_count": 379,
   "id": "6dab545c-1cc6-4d3e-8af0-74bd5387c995",
   "metadata": {},
   "outputs": [
    {
     "data": {
      "text/plain": [
       "10"
      ]
     },
     "execution_count": 379,
     "metadata": {},
     "output_type": "execute_result"
    }
   ],
   "source": [
    "tf.size(t5).numpy()"
   ]
  },
  {
   "cell_type": "code",
   "execution_count": 383,
   "id": "cc448d33-68a7-4594-a80f-ff80956a4d43",
   "metadata": {},
   "outputs": [
    {
     "data": {
      "text/plain": [
       "<tf.Tensor: shape=(10,), dtype=float64, numpy=\n",
       "array([0.13512338, 0.73631264, 0.53125562, 0.18444603, 0.17353226,\n",
       "       0.11001621, 0.30554796, 0.62743499, 0.37161748, 0.07290226])>"
      ]
     },
     "execution_count": 383,
     "metadata": {},
     "output_type": "execute_result"
    }
   ],
   "source": [
    "t5"
   ]
  },
  {
   "cell_type": "code",
   "execution_count": 384,
   "id": "3d1c0e8f-f2b2-45ca-9cf6-504a7bf037c5",
   "metadata": {},
   "outputs": [
    {
     "data": {
      "text/plain": [
       "10"
      ]
     },
     "execution_count": 384,
     "metadata": {},
     "output_type": "execute_result"
    }
   ],
   "source": [
    "len(t5)"
   ]
  },
  {
   "cell_type": "code",
   "execution_count": 388,
   "id": "0a34a5b2-bfab-40a5-ab89-d789a5bb65cd",
   "metadata": {},
   "outputs": [
    {
     "data": {
      "text/plain": [
       "<tf.Tensor: shape=(10, 10), dtype=float32, numpy=\n",
       "array([[1., 0., 0., 0., 0., 0., 0., 0., 0., 0.],\n",
       "       [0., 1., 0., 0., 0., 0., 0., 0., 0., 0.],\n",
       "       [0., 0., 1., 0., 0., 0., 0., 0., 0., 0.],\n",
       "       [0., 0., 0., 1., 0., 0., 0., 0., 0., 0.],\n",
       "       [0., 0., 0., 0., 1., 0., 0., 0., 0., 0.],\n",
       "       [0., 0., 0., 0., 0., 1., 0., 0., 0., 0.],\n",
       "       [0., 0., 0., 0., 0., 0., 1., 0., 0., 0.],\n",
       "       [0., 0., 0., 0., 0., 0., 0., 1., 0., 0.],\n",
       "       [0., 0., 0., 0., 0., 0., 0., 0., 1., 0.],\n",
       "       [0., 0., 0., 0., 0., 0., 0., 0., 0., 1.]], dtype=float32)>"
      ]
     },
     "execution_count": 388,
     "metadata": {},
     "output_type": "execute_result"
    }
   ],
   "source": [
    "indicies = np.arange(0,10,1)\n",
    "indicies\n",
    "tf.one_hot(indicies, depth=10)"
   ]
  },
  {
   "cell_type": "code",
   "execution_count": null,
   "id": "83a109ca-a9b7-4889-88bc-c1114e318f98",
   "metadata": {},
   "outputs": [],
   "source": []
  }
 ],
 "metadata": {
  "kernelspec": {
   "display_name": "Python 3 (ipykernel)",
   "language": "python",
   "name": "python3"
  },
  "language_info": {
   "codemirror_mode": {
    "name": "ipython",
    "version": 3
   },
   "file_extension": ".py",
   "mimetype": "text/x-python",
   "name": "python",
   "nbconvert_exporter": "python",
   "pygments_lexer": "ipython3",
   "version": "3.11.0"
  }
 },
 "nbformat": 4,
 "nbformat_minor": 5
}
