{
 "cells": [
  {
   "cell_type": "code",
   "execution_count": 1,
   "id": "f86e994c-8213-497b-b2f1-b881b37feb97",
   "metadata": {},
   "outputs": [],
   "source": [
    "import numpy as np\n",
    "import pandas as pd\n",
    "import matplotlib.pyplot as plt\n",
    "import seaborn as sns\n",
    "import os\n",
    "import warnings\n",
    "import string\n",
    "import nltk\n",
    "from nltk.corpus import stopwords\n",
    "%matplotlib inline\n",
    "warnings.filterwarnings('ignore')"
   ]
  },
  {
   "cell_type": "code",
   "execution_count": 2,
   "id": "0b2e0560-dec8-409c-aaea-d655401e763c",
   "metadata": {},
   "outputs": [],
   "source": [
    "filePath = os.path.join(os.getcwd(), 'data', 'yelp.csv')"
   ]
  },
  {
   "cell_type": "code",
   "execution_count": 3,
   "id": "f5d2b9cd-7c91-47e2-8ed2-9d3e586f36be",
   "metadata": {},
   "outputs": [
    {
     "data": {
      "text/html": [
       "<div>\n",
       "<style scoped>\n",
       "    .dataframe tbody tr th:only-of-type {\n",
       "        vertical-align: middle;\n",
       "    }\n",
       "\n",
       "    .dataframe tbody tr th {\n",
       "        vertical-align: top;\n",
       "    }\n",
       "\n",
       "    .dataframe thead th {\n",
       "        text-align: right;\n",
       "    }\n",
       "</style>\n",
       "<table border=\"1\" class=\"dataframe\">\n",
       "  <thead>\n",
       "    <tr style=\"text-align: right;\">\n",
       "      <th></th>\n",
       "      <th>business_id</th>\n",
       "      <th>date</th>\n",
       "      <th>review_id</th>\n",
       "      <th>stars</th>\n",
       "      <th>text</th>\n",
       "      <th>type</th>\n",
       "      <th>user_id</th>\n",
       "      <th>cool</th>\n",
       "      <th>useful</th>\n",
       "      <th>funny</th>\n",
       "    </tr>\n",
       "  </thead>\n",
       "  <tbody>\n",
       "    <tr>\n",
       "      <th>9923</th>\n",
       "      <td>bgTB6MgdVQssXhkNJ7qIfw</td>\n",
       "      <td>2011-07-21</td>\n",
       "      <td>IcwlOBfr3lPLQ8BzhLdmIA</td>\n",
       "      <td>5</td>\n",
       "      <td>My favorite sushi restaurant ever! I love thei...</td>\n",
       "      <td>review</td>\n",
       "      <td>59pVYStY0yKpRmODFIfDww</td>\n",
       "      <td>2</td>\n",
       "      <td>2</td>\n",
       "      <td>1</td>\n",
       "    </tr>\n",
       "    <tr>\n",
       "      <th>6909</th>\n",
       "      <td>vwZ15OkVO6PemAe87k0M-Q</td>\n",
       "      <td>2011-08-01</td>\n",
       "      <td>j-PuuOJDnyBf2AqSMZslFA</td>\n",
       "      <td>4</td>\n",
       "      <td>Great spot, but it get's wayyyy too packed! So...</td>\n",
       "      <td>review</td>\n",
       "      <td>fJ_sUnZfUX6aCnqOXookig</td>\n",
       "      <td>1</td>\n",
       "      <td>2</td>\n",
       "      <td>1</td>\n",
       "    </tr>\n",
       "    <tr>\n",
       "      <th>9421</th>\n",
       "      <td>eR5-nFI0Vp7EG2pIXQM3bw</td>\n",
       "      <td>2012-04-21</td>\n",
       "      <td>r-hzNCrugr1hG9m-zSWokA</td>\n",
       "      <td>1</td>\n",
       "      <td>Cheap!  Cheap!  Beware!  If you order Chicken ...</td>\n",
       "      <td>review</td>\n",
       "      <td>Er4F-PTME7RsIwKainiR0Q</td>\n",
       "      <td>0</td>\n",
       "      <td>1</td>\n",
       "      <td>0</td>\n",
       "    </tr>\n",
       "    <tr>\n",
       "      <th>3013</th>\n",
       "      <td>HhNY3X0kyrN5682La6N6Cg</td>\n",
       "      <td>2010-10-08</td>\n",
       "      <td>4VIFaT_UzgvQ1CICcHBxWA</td>\n",
       "      <td>3</td>\n",
       "      <td>Not a big fan of the Boba Tea House by Lee Lee...</td>\n",
       "      <td>review</td>\n",
       "      <td>e9HWnHUYlt9758oileaISw</td>\n",
       "      <td>1</td>\n",
       "      <td>1</td>\n",
       "      <td>1</td>\n",
       "    </tr>\n",
       "    <tr>\n",
       "      <th>3534</th>\n",
       "      <td>G6EKYSP1RMbaBDlU8F72ww</td>\n",
       "      <td>2012-07-12</td>\n",
       "      <td>NgYwRhl39AsTi4FExDJMHg</td>\n",
       "      <td>4</td>\n",
       "      <td>They do small engine repair here, so I took my...</td>\n",
       "      <td>review</td>\n",
       "      <td>d1zJj49Q5ikgvqQX0534RQ</td>\n",
       "      <td>0</td>\n",
       "      <td>0</td>\n",
       "      <td>0</td>\n",
       "    </tr>\n",
       "  </tbody>\n",
       "</table>\n",
       "</div>"
      ],
      "text/plain": [
       "                 business_id        date               review_id  stars  \\\n",
       "9923  bgTB6MgdVQssXhkNJ7qIfw  2011-07-21  IcwlOBfr3lPLQ8BzhLdmIA      5   \n",
       "6909  vwZ15OkVO6PemAe87k0M-Q  2011-08-01  j-PuuOJDnyBf2AqSMZslFA      4   \n",
       "9421  eR5-nFI0Vp7EG2pIXQM3bw  2012-04-21  r-hzNCrugr1hG9m-zSWokA      1   \n",
       "3013  HhNY3X0kyrN5682La6N6Cg  2010-10-08  4VIFaT_UzgvQ1CICcHBxWA      3   \n",
       "3534  G6EKYSP1RMbaBDlU8F72ww  2012-07-12  NgYwRhl39AsTi4FExDJMHg      4   \n",
       "\n",
       "                                                   text    type  \\\n",
       "9923  My favorite sushi restaurant ever! I love thei...  review   \n",
       "6909  Great spot, but it get's wayyyy too packed! So...  review   \n",
       "9421  Cheap!  Cheap!  Beware!  If you order Chicken ...  review   \n",
       "3013  Not a big fan of the Boba Tea House by Lee Lee...  review   \n",
       "3534  They do small engine repair here, so I took my...  review   \n",
       "\n",
       "                     user_id  cool  useful  funny  \n",
       "9923  59pVYStY0yKpRmODFIfDww     2       2      1  \n",
       "6909  fJ_sUnZfUX6aCnqOXookig     1       2      1  \n",
       "9421  Er4F-PTME7RsIwKainiR0Q     0       1      0  \n",
       "3013  e9HWnHUYlt9758oileaISw     1       1      1  \n",
       "3534  d1zJj49Q5ikgvqQX0534RQ     0       0      0  "
      ]
     },
     "execution_count": 3,
     "metadata": {},
     "output_type": "execute_result"
    }
   ],
   "source": [
    "df = pd.read_csv(filePath)\n",
    "df.sample(5)"
   ]
  },
  {
   "cell_type": "code",
   "execution_count": 4,
   "id": "ec096533-7214-4af2-8583-27958e1c24ef",
   "metadata": {},
   "outputs": [
    {
     "data": {
      "text/plain": [
       "(10000, 10)"
      ]
     },
     "execution_count": 4,
     "metadata": {},
     "output_type": "execute_result"
    }
   ],
   "source": [
    "df.shape"
   ]
  },
  {
   "cell_type": "code",
   "execution_count": 5,
   "id": "2d1db366-aa7e-4a68-97c3-a8f6a6f5fb47",
   "metadata": {},
   "outputs": [
    {
     "name": "stdout",
     "output_type": "stream",
     "text": [
      "<class 'pandas.core.frame.DataFrame'>\n",
      "RangeIndex: 10000 entries, 0 to 9999\n",
      "Data columns (total 10 columns):\n",
      " #   Column       Non-Null Count  Dtype \n",
      "---  ------       --------------  ----- \n",
      " 0   business_id  10000 non-null  object\n",
      " 1   date         10000 non-null  object\n",
      " 2   review_id    10000 non-null  object\n",
      " 3   stars        10000 non-null  int64 \n",
      " 4   text         10000 non-null  object\n",
      " 5   type         10000 non-null  object\n",
      " 6   user_id      10000 non-null  object\n",
      " 7   cool         10000 non-null  int64 \n",
      " 8   useful       10000 non-null  int64 \n",
      " 9   funny        10000 non-null  int64 \n",
      "dtypes: int64(4), object(6)\n",
      "memory usage: 781.4+ KB\n"
     ]
    }
   ],
   "source": [
    "df.info()"
   ]
  },
  {
   "cell_type": "code",
   "execution_count": 6,
   "id": "cab8f522-5acf-4ace-9287-e1b097ea0afd",
   "metadata": {},
   "outputs": [
    {
     "data": {
      "text/plain": [
       "business_id    0\n",
       "date           0\n",
       "review_id      0\n",
       "stars          0\n",
       "text           0\n",
       "type           0\n",
       "user_id        0\n",
       "cool           0\n",
       "useful         0\n",
       "funny          0\n",
       "dtype: int64"
      ]
     },
     "execution_count": 6,
     "metadata": {},
     "output_type": "execute_result"
    }
   ],
   "source": [
    "df.isna().sum()"
   ]
  },
  {
   "cell_type": "code",
   "execution_count": 7,
   "id": "0f04015b-4bcc-4cda-80fc-64867173c446",
   "metadata": {},
   "outputs": [],
   "source": [
    "df['text_length'] = df['text'].apply(len)"
   ]
  },
  {
   "cell_type": "code",
   "execution_count": 8,
   "id": "678300af-8f1d-4d0b-bf5a-b7a483f9b10e",
   "metadata": {},
   "outputs": [
    {
     "data": {
      "text/html": [
       "<div>\n",
       "<style scoped>\n",
       "    .dataframe tbody tr th:only-of-type {\n",
       "        vertical-align: middle;\n",
       "    }\n",
       "\n",
       "    .dataframe tbody tr th {\n",
       "        vertical-align: top;\n",
       "    }\n",
       "\n",
       "    .dataframe thead th {\n",
       "        text-align: right;\n",
       "    }\n",
       "</style>\n",
       "<table border=\"1\" class=\"dataframe\">\n",
       "  <thead>\n",
       "    <tr style=\"text-align: right;\">\n",
       "      <th></th>\n",
       "      <th>business_id</th>\n",
       "      <th>date</th>\n",
       "      <th>review_id</th>\n",
       "      <th>stars</th>\n",
       "      <th>text</th>\n",
       "      <th>type</th>\n",
       "      <th>user_id</th>\n",
       "      <th>cool</th>\n",
       "      <th>useful</th>\n",
       "      <th>funny</th>\n",
       "      <th>text_length</th>\n",
       "    </tr>\n",
       "  </thead>\n",
       "  <tbody>\n",
       "    <tr>\n",
       "      <th>2655</th>\n",
       "      <td>EFFIduf9WaUNbDy_O7yQjA</td>\n",
       "      <td>2012-07-18</td>\n",
       "      <td>fQvwelk-AnTMcmkcfEkc2A</td>\n",
       "      <td>4</td>\n",
       "      <td>Great fast service! Friendly girls that carrie...</td>\n",
       "      <td>review</td>\n",
       "      <td>pGaRAiCRfGs715VbgXf-yg</td>\n",
       "      <td>0</td>\n",
       "      <td>0</td>\n",
       "      <td>0</td>\n",
       "      <td>130</td>\n",
       "    </tr>\n",
       "    <tr>\n",
       "      <th>3281</th>\n",
       "      <td>noLH_u4MJzfXYYHqcByjnA</td>\n",
       "      <td>2011-08-31</td>\n",
       "      <td>Ip9XDe8g2SkJlNpkEVTXbg</td>\n",
       "      <td>4</td>\n",
       "      <td>It has been awhile since I have visited the Du...</td>\n",
       "      <td>review</td>\n",
       "      <td>4E_nPWw89FLFHdNsEgMH-g</td>\n",
       "      <td>1</td>\n",
       "      <td>3</td>\n",
       "      <td>2</td>\n",
       "      <td>578</td>\n",
       "    </tr>\n",
       "    <tr>\n",
       "      <th>237</th>\n",
       "      <td>OFiQ34TNKEE5a00Vd8Kwsg</td>\n",
       "      <td>2008-11-03</td>\n",
       "      <td>N9lNmpiOD0bQQTDUvPAMew</td>\n",
       "      <td>2</td>\n",
       "      <td>My first visit was roughly two weeks ago when ...</td>\n",
       "      <td>review</td>\n",
       "      <td>EO5Q9yRT7LP00iQYpSNuhw</td>\n",
       "      <td>0</td>\n",
       "      <td>0</td>\n",
       "      <td>0</td>\n",
       "      <td>514</td>\n",
       "    </tr>\n",
       "    <tr>\n",
       "      <th>6951</th>\n",
       "      <td>QzXFdjIbFRGhzL83goPPLA</td>\n",
       "      <td>2012-06-05</td>\n",
       "      <td>IyDWAs6SXTDSrqN8dfQjFw</td>\n",
       "      <td>3</td>\n",
       "      <td>ordered the steak sandwich (medium rare).  Cam...</td>\n",
       "      <td>review</td>\n",
       "      <td>4ijNZcDq3jiXF10K9lDRZg</td>\n",
       "      <td>0</td>\n",
       "      <td>1</td>\n",
       "      <td>0</td>\n",
       "      <td>212</td>\n",
       "    </tr>\n",
       "    <tr>\n",
       "      <th>3206</th>\n",
       "      <td>yc5AH9H71xJidA_J2mChLA</td>\n",
       "      <td>2010-01-30</td>\n",
       "      <td>NmSjR-oql5BKxoB1dZQWLw</td>\n",
       "      <td>4</td>\n",
       "      <td>I went on a Friday night after work with 3 of ...</td>\n",
       "      <td>review</td>\n",
       "      <td>_PzSNcfrCjeBxSLXRoMmgQ</td>\n",
       "      <td>1</td>\n",
       "      <td>0</td>\n",
       "      <td>0</td>\n",
       "      <td>864</td>\n",
       "    </tr>\n",
       "  </tbody>\n",
       "</table>\n",
       "</div>"
      ],
      "text/plain": [
       "                 business_id        date               review_id  stars  \\\n",
       "2655  EFFIduf9WaUNbDy_O7yQjA  2012-07-18  fQvwelk-AnTMcmkcfEkc2A      4   \n",
       "3281  noLH_u4MJzfXYYHqcByjnA  2011-08-31  Ip9XDe8g2SkJlNpkEVTXbg      4   \n",
       "237   OFiQ34TNKEE5a00Vd8Kwsg  2008-11-03  N9lNmpiOD0bQQTDUvPAMew      2   \n",
       "6951  QzXFdjIbFRGhzL83goPPLA  2012-06-05  IyDWAs6SXTDSrqN8dfQjFw      3   \n",
       "3206  yc5AH9H71xJidA_J2mChLA  2010-01-30  NmSjR-oql5BKxoB1dZQWLw      4   \n",
       "\n",
       "                                                   text    type  \\\n",
       "2655  Great fast service! Friendly girls that carrie...  review   \n",
       "3281  It has been awhile since I have visited the Du...  review   \n",
       "237   My first visit was roughly two weeks ago when ...  review   \n",
       "6951  ordered the steak sandwich (medium rare).  Cam...  review   \n",
       "3206  I went on a Friday night after work with 3 of ...  review   \n",
       "\n",
       "                     user_id  cool  useful  funny  text_length  \n",
       "2655  pGaRAiCRfGs715VbgXf-yg     0       0      0          130  \n",
       "3281  4E_nPWw89FLFHdNsEgMH-g     1       3      2          578  \n",
       "237   EO5Q9yRT7LP00iQYpSNuhw     0       0      0          514  \n",
       "6951  4ijNZcDq3jiXF10K9lDRZg     0       1      0          212  \n",
       "3206  _PzSNcfrCjeBxSLXRoMmgQ     1       0      0          864  "
      ]
     },
     "execution_count": 8,
     "metadata": {},
     "output_type": "execute_result"
    }
   ],
   "source": [
    "df.sample(5)"
   ]
  },
  {
   "cell_type": "code",
   "execution_count": 9,
   "id": "6bd3d18c-e9aa-4558-8033-718b412f6030",
   "metadata": {},
   "outputs": [
    {
     "data": {
      "image/png": "[encoded data removed]",
      "text/plain": [
       "<Figure size 1500x300 with 5 Axes>"
      ]
     },
     "metadata": {},
     "output_type": "display_data"
    }
   ],
   "source": [
    "g = sns.FacetGrid(data=df, col='stars')\n",
    "g.map(plt.hist, 'text_length', bins=50, label='Text length')\n",
    "plt.show()"
   ]
  },
  {
   "cell_type": "code",
   "execution_count": 10,
   "id": "4037923e-9272-4090-a7b3-951ccc442e22",
   "metadata": {},
   "outputs": [
    {
     "data": {
      "image/png": "[encoded data removed]",
      "text/plain": [
       "<Figure size 640x480 with 1 Axes>"
      ]
     },
     "metadata": {},
     "output_type": "display_data"
    }
   ],
   "source": [
    "sns.boxenplot(data=df, x = 'stars', y='text_length')\n",
    "plt.show()"
   ]
  },
  {
   "cell_type": "code",
   "execution_count": 11,
   "id": "62979d7e-8021-48fa-adc3-3e3566d93e59",
   "metadata": {},
   "outputs": [
    {
     "data": {
      "text/plain": [
       "<BarContainer object of 10000 artists>"
      ]
     },
     "execution_count": 11,
     "metadata": {},
     "output_type": "execute_result"
    },
    {
     "data": {
      "image/png": "[encoded data removed]",
      "text/plain": [
       "<Figure size 640x480 with 1 Axes>"
      ]
     },
     "metadata": {},
     "output_type": "display_data"
    }
   ],
   "source": [
    "plt.bar(df['stars'], df['text_length'])"
   ]
  },
  {
   "cell_type": "markdown",
   "id": "248a4445-1617-421e-b406-5c68c1cb2b2c",
   "metadata": {},
   "source": [
    "#### Predict Whether Cool Or Funny"
   ]
  },
  {
   "cell_type": "code",
   "execution_count": 12,
   "id": "1cfd897d-a52e-4b1e-a139-06b25af2bfa3",
   "metadata": {},
   "outputs": [],
   "source": [
    "df_class = df[(df['stars'] == 1)|(df['stars'] == 5)]"
   ]
  },
  {
   "cell_type": "code",
   "execution_count": 13,
   "id": "6476edc9-e1a9-460e-a9d1-e628a32a5129",
   "metadata": {},
   "outputs": [],
   "source": [
    "X = df_class['text']\n",
    "y = df_class['stars']"
   ]
  },
  {
   "cell_type": "code",
   "execution_count": 14,
   "id": "6aa7469d-fdfa-45b6-9518-c70165d90c71",
   "metadata": {},
   "outputs": [
    {
     "data": {
      "text/plain": [
       "((4086,), (4086,))"
      ]
     },
     "execution_count": 14,
     "metadata": {},
     "output_type": "execute_result"
    }
   ],
   "source": [
    "X.shape, y.shape"
   ]
  },
  {
   "cell_type": "code",
   "execution_count": 15,
   "id": "5e572cc5-467b-4c6f-8f2b-010d7030ad7d",
   "metadata": {},
   "outputs": [
    {
     "data": {
      "text/plain": [
       "'My wife took me here on my birthday for breakfast and it was excellent.  The weather was perfect which made sitting outside overlooking their grounds an absolute pleasure.  Our waitress was excellent and our food arrived quickly on the semi-busy Saturday morning.  It looked like the place fills up pretty quickly so the earlier you get here the better.\\n\\nDo yourself a favor and get their Bloody Mary.  It was phenomenal and simply the best I\\'ve ever had.  I\\'m pretty sure they only use ingredients from their garden and blend them fresh when you order it.  It was amazing.\\n\\nWhile EVERYTHING on the menu looks excellent, I had the white truffle scrambled eggs vegetable skillet and it was tasty and delicious.  It came with 2 pieces of their griddled bread with was amazing and it absolutely made the meal complete.  It was the best \"toast\" I\\'ve ever had.\\n\\nAnyway, I can\\'t wait to go back!'"
      ]
     },
     "execution_count": 15,
     "metadata": {},
     "output_type": "execute_result"
    }
   ],
   "source": [
    "X[0]"
   ]
  },
  {
   "cell_type": "code",
   "execution_count": 16,
   "id": "cefe797e-0ba0-4cb1-a09e-31b079ffdf97",
   "metadata": {},
   "outputs": [],
   "source": [
    "def text_process(text):\n",
    "    non_punc_txt = [word for word in text if word not in string.punctuation]\n",
    "    non_punc_txt = ''.join(non_punc_txt)\n",
    "    non_punc_txt_wd_tokonize = nltk.word_tokenize(non_punc_txt)\n",
    "    non_punc_txt_wd_tokonize_no_stopwords = [w for w in non_punc_txt_wd_tokonize if w.lower() not in nltk.corpus.stopwords.words('english')]\n",
    "    return non_punc_txt_wd_tokonize_no_stopwords"
   ]
  },
  {
   "cell_type": "markdown",
   "id": "1598fffe-a423-4d2c-85af-68982e95701e",
   "metadata": {},
   "source": [
    "#### CountVectorizer "
   ]
  },
  {
   "cell_type": "code",
   "execution_count": 17,
   "id": "b5ba6d04-bc1c-4a9e-8577-444ee315c894",
   "metadata": {},
   "outputs": [],
   "source": [
    "from sklearn.feature_extraction.text import CountVectorizer"
   ]
  },
  {
   "cell_type": "code",
   "execution_count": 18,
   "id": "53c74820-9eff-48d9-a0ed-073ccbf49314",
   "metadata": {},
   "outputs": [],
   "source": [
    "count_vctorizer = CountVectorizer(analyzer=text_process).fit(X)"
   ]
  },
  {
   "cell_type": "code",
   "execution_count": 24,
   "id": "ef4326aa-b19b-4f1e-9d30-fcdd12f55759",
   "metadata": {},
   "outputs": [
    {
     "data": {
      "text/plain": [
       "26430"
      ]
     },
     "execution_count": 24,
     "metadata": {},
     "output_type": "execute_result"
    }
   ],
   "source": [
    "len(count_vctorizer.vocabulary_)"
   ]
  },
  {
   "cell_type": "code",
   "execution_count": 25,
   "id": "c13d2547-baa5-4749-bdfc-50bf039aec26",
   "metadata": {},
   "outputs": [
    {
     "data": {
      "text/plain": [
       "\"I love this place! I have been coming here for ages.\\nMy favorites: Elsa's Chicken sandwich, any of their burgers, dragon chicken wings, china's little chicken sandwich, and the hot pepper chicken sandwich. The atmosphere is always fun and the art they display is very abstract but totally cool!\""
      ]
     },
     "execution_count": 25,
     "metadata": {},
     "output_type": "execute_result"
    }
   ],
   "source": [
    "review_25 = X[24]\n",
    "review_25"
   ]
  },
  {
   "cell_type": "code",
   "execution_count": 28,
   "id": "e6ea4103-d0a8-4657-af4f-1c6b4df8a38b",
   "metadata": {},
   "outputs": [
    {
     "name": "stdout",
     "output_type": "stream",
     "text": [
      "  (0, 2097)\t1\n",
      "  (0, 3004)\t1\n",
      "  (0, 8906)\t1\n",
      "  (0, 9148)\t1\n",
      "  (0, 9292)\t1\n",
      "  (0, 9613)\t1\n",
      "  (0, 9724)\t1\n",
      "  (0, 10844)\t1\n",
      "  (0, 11439)\t3\n",
      "  (0, 11488)\t1\n",
      "  (0, 11874)\t1\n",
      "  (0, 12217)\t1\n",
      "  (0, 13319)\t1\n",
      "  (0, 13516)\t1\n",
      "  (0, 14477)\t1\n",
      "  (0, 15161)\t1\n",
      "  (0, 16373)\t1\n",
      "  (0, 17806)\t1\n",
      "  (0, 17945)\t1\n",
      "  (0, 20038)\t1\n",
      "  (0, 20292)\t1\n",
      "  (0, 22071)\t3\n",
      "  (0, 24792)\t1\n",
      "  (0, 26097)\t1\n"
     ]
    }
   ],
   "source": [
    "print(count_vctorizer.transform([review_25]))"
   ]
  },
  {
   "cell_type": "code",
   "execution_count": 32,
   "id": "1e744fc0-ec46-4aad-a263-a154f2c0f057",
   "metadata": {},
   "outputs": [
    {
     "data": {
      "text/plain": [
       "'chicken'"
      ]
     },
     "execution_count": 32,
     "metadata": {},
     "output_type": "execute_result"
    }
   ],
   "source": [
    "count_vctorizer.get_feature_names_out()[11439]"
   ]
  },
  {
   "cell_type": "code",
   "execution_count": 33,
   "id": "a2436ba0-eb8e-4375-85e3-b5ad3abecb34",
   "metadata": {},
   "outputs": [],
   "source": [
    "X = count_vctorizer.transform(X)"
   ]
  },
  {
   "cell_type": "code",
   "execution_count": 35,
   "id": "486b50c9-3371-4547-b68d-f5ca62489453",
   "metadata": {},
   "outputs": [
    {
     "name": "stdout",
     "output_type": "stream",
     "text": [
      "X Shape (4086, 26430)\n",
      "Zero Count In Vectorization 222352\n"
     ]
    }
   ],
   "source": [
    "print(f'X Shape {X.shape}')\n",
    "print(f'Zero Count In Vectorization {X.nnz}')"
   ]
  },
  {
   "cell_type": "code",
   "execution_count": 45,
   "id": "870ac330-7941-4eba-944e-dd6ded53f8cb",
   "metadata": {},
   "outputs": [],
   "source": [
    "ZeroDenstity = 100 * X.nnz / (X.shape[0] * X.shape[1])"
   ]
  },
  {
   "cell_type": "code",
   "execution_count": 46,
   "id": "ecc53434-6208-49e6-bd6f-d037c2d92ccc",
   "metadata": {},
   "outputs": [
    {
     "data": {
      "text/plain": [
       "0.20589486464768358"
      ]
     },
     "execution_count": 46,
     "metadata": {},
     "output_type": "execute_result"
    }
   ],
   "source": [
    "ZeroDenstity"
   ]
  },
  {
   "cell_type": "code",
   "execution_count": 56,
   "id": "ad9dd4f4-f411-4e67-a99b-3b47b0a33b84",
   "metadata": {},
   "outputs": [
    {
     "data": {
      "text/html": [
       "<div>\n",
       "<style scoped>\n",
       "    .dataframe tbody tr th:only-of-type {\n",
       "        vertical-align: middle;\n",
       "    }\n",
       "\n",
       "    .dataframe tbody tr th {\n",
       "        vertical-align: top;\n",
       "    }\n",
       "\n",
       "    .dataframe thead th {\n",
       "        text-align: right;\n",
       "    }\n",
       "</style>\n",
       "<table border=\"1\" class=\"dataframe\">\n",
       "  <thead>\n",
       "    <tr style=\"text-align: right;\">\n",
       "      <th></th>\n",
       "      <th>0</th>\n",
       "      <th>00s</th>\n",
       "      <th>01042012</th>\n",
       "      <th>022010</th>\n",
       "      <th>03342</th>\n",
       "      <th>05</th>\n",
       "      <th>050</th>\n",
       "      <th>06</th>\n",
       "      <th>07092008</th>\n",
       "      <th>075</th>\n",
       "      <th>...</th>\n",
       "      <th>zoo</th>\n",
       "      <th>zoom</th>\n",
       "      <th>zucchini</th>\n",
       "      <th>zuccini</th>\n",
       "      <th>zuchinni</th>\n",
       "      <th>zupa</th>\n",
       "      <th>zwiebelkräuter</th>\n",
       "      <th>École</th>\n",
       "      <th>éclairs</th>\n",
       "      <th>ém</th>\n",
       "    </tr>\n",
       "  </thead>\n",
       "  <tbody>\n",
       "    <tr>\n",
       "      <th>3129</th>\n",
       "      <td>0</td>\n",
       "      <td>0</td>\n",
       "      <td>0</td>\n",
       "      <td>0</td>\n",
       "      <td>0</td>\n",
       "      <td>0</td>\n",
       "      <td>0</td>\n",
       "      <td>0</td>\n",
       "      <td>0</td>\n",
       "      <td>0</td>\n",
       "      <td>...</td>\n",
       "      <td>0</td>\n",
       "      <td>0</td>\n",
       "      <td>0</td>\n",
       "      <td>0</td>\n",
       "      <td>0</td>\n",
       "      <td>0</td>\n",
       "      <td>0</td>\n",
       "      <td>0</td>\n",
       "      <td>0</td>\n",
       "      <td>0</td>\n",
       "    </tr>\n",
       "    <tr>\n",
       "      <th>494</th>\n",
       "      <td>0</td>\n",
       "      <td>0</td>\n",
       "      <td>0</td>\n",
       "      <td>0</td>\n",
       "      <td>0</td>\n",
       "      <td>0</td>\n",
       "      <td>0</td>\n",
       "      <td>0</td>\n",
       "      <td>0</td>\n",
       "      <td>0</td>\n",
       "      <td>...</td>\n",
       "      <td>0</td>\n",
       "      <td>0</td>\n",
       "      <td>0</td>\n",
       "      <td>0</td>\n",
       "      <td>0</td>\n",
       "      <td>0</td>\n",
       "      <td>0</td>\n",
       "      <td>0</td>\n",
       "      <td>0</td>\n",
       "      <td>0</td>\n",
       "    </tr>\n",
       "    <tr>\n",
       "      <th>431</th>\n",
       "      <td>0</td>\n",
       "      <td>0</td>\n",
       "      <td>0</td>\n",
       "      <td>0</td>\n",
       "      <td>0</td>\n",
       "      <td>0</td>\n",
       "      <td>0</td>\n",
       "      <td>0</td>\n",
       "      <td>0</td>\n",
       "      <td>0</td>\n",
       "      <td>...</td>\n",
       "      <td>0</td>\n",
       "      <td>0</td>\n",
       "      <td>0</td>\n",
       "      <td>0</td>\n",
       "      <td>0</td>\n",
       "      <td>0</td>\n",
       "      <td>0</td>\n",
       "      <td>0</td>\n",
       "      <td>0</td>\n",
       "      <td>0</td>\n",
       "    </tr>\n",
       "    <tr>\n",
       "      <th>983</th>\n",
       "      <td>0</td>\n",
       "      <td>0</td>\n",
       "      <td>0</td>\n",
       "      <td>0</td>\n",
       "      <td>0</td>\n",
       "      <td>0</td>\n",
       "      <td>0</td>\n",
       "      <td>0</td>\n",
       "      <td>0</td>\n",
       "      <td>0</td>\n",
       "      <td>...</td>\n",
       "      <td>0</td>\n",
       "      <td>0</td>\n",
       "      <td>0</td>\n",
       "      <td>0</td>\n",
       "      <td>0</td>\n",
       "      <td>0</td>\n",
       "      <td>0</td>\n",
       "      <td>0</td>\n",
       "      <td>0</td>\n",
       "      <td>0</td>\n",
       "    </tr>\n",
       "    <tr>\n",
       "      <th>2212</th>\n",
       "      <td>0</td>\n",
       "      <td>0</td>\n",
       "      <td>0</td>\n",
       "      <td>0</td>\n",
       "      <td>0</td>\n",
       "      <td>0</td>\n",
       "      <td>0</td>\n",
       "      <td>0</td>\n",
       "      <td>0</td>\n",
       "      <td>0</td>\n",
       "      <td>...</td>\n",
       "      <td>0</td>\n",
       "      <td>0</td>\n",
       "      <td>0</td>\n",
       "      <td>0</td>\n",
       "      <td>0</td>\n",
       "      <td>0</td>\n",
       "      <td>0</td>\n",
       "      <td>0</td>\n",
       "      <td>0</td>\n",
       "      <td>0</td>\n",
       "    </tr>\n",
       "    <tr>\n",
       "      <th>4045</th>\n",
       "      <td>0</td>\n",
       "      <td>0</td>\n",
       "      <td>0</td>\n",
       "      <td>0</td>\n",
       "      <td>0</td>\n",
       "      <td>0</td>\n",
       "      <td>0</td>\n",
       "      <td>0</td>\n",
       "      <td>0</td>\n",
       "      <td>0</td>\n",
       "      <td>...</td>\n",
       "      <td>0</td>\n",
       "      <td>0</td>\n",
       "      <td>0</td>\n",
       "      <td>0</td>\n",
       "      <td>0</td>\n",
       "      <td>0</td>\n",
       "      <td>0</td>\n",
       "      <td>0</td>\n",
       "      <td>0</td>\n",
       "      <td>0</td>\n",
       "    </tr>\n",
       "    <tr>\n",
       "      <th>3642</th>\n",
       "      <td>0</td>\n",
       "      <td>0</td>\n",
       "      <td>0</td>\n",
       "      <td>0</td>\n",
       "      <td>0</td>\n",
       "      <td>0</td>\n",
       "      <td>0</td>\n",
       "      <td>0</td>\n",
       "      <td>0</td>\n",
       "      <td>0</td>\n",
       "      <td>...</td>\n",
       "      <td>0</td>\n",
       "      <td>0</td>\n",
       "      <td>0</td>\n",
       "      <td>0</td>\n",
       "      <td>0</td>\n",
       "      <td>0</td>\n",
       "      <td>0</td>\n",
       "      <td>0</td>\n",
       "      <td>0</td>\n",
       "      <td>0</td>\n",
       "    </tr>\n",
       "    <tr>\n",
       "      <th>1919</th>\n",
       "      <td>0</td>\n",
       "      <td>0</td>\n",
       "      <td>0</td>\n",
       "      <td>0</td>\n",
       "      <td>0</td>\n",
       "      <td>0</td>\n",
       "      <td>0</td>\n",
       "      <td>0</td>\n",
       "      <td>0</td>\n",
       "      <td>0</td>\n",
       "      <td>...</td>\n",
       "      <td>0</td>\n",
       "      <td>0</td>\n",
       "      <td>0</td>\n",
       "      <td>0</td>\n",
       "      <td>0</td>\n",
       "      <td>0</td>\n",
       "      <td>0</td>\n",
       "      <td>0</td>\n",
       "      <td>0</td>\n",
       "      <td>0</td>\n",
       "    </tr>\n",
       "    <tr>\n",
       "      <th>2932</th>\n",
       "      <td>0</td>\n",
       "      <td>0</td>\n",
       "      <td>0</td>\n",
       "      <td>0</td>\n",
       "      <td>0</td>\n",
       "      <td>0</td>\n",
       "      <td>0</td>\n",
       "      <td>0</td>\n",
       "      <td>0</td>\n",
       "      <td>0</td>\n",
       "      <td>...</td>\n",
       "      <td>0</td>\n",
       "      <td>0</td>\n",
       "      <td>0</td>\n",
       "      <td>0</td>\n",
       "      <td>0</td>\n",
       "      <td>0</td>\n",
       "      <td>0</td>\n",
       "      <td>0</td>\n",
       "      <td>0</td>\n",
       "      <td>0</td>\n",
       "    </tr>\n",
       "    <tr>\n",
       "      <th>1479</th>\n",
       "      <td>0</td>\n",
       "      <td>0</td>\n",
       "      <td>0</td>\n",
       "      <td>0</td>\n",
       "      <td>0</td>\n",
       "      <td>0</td>\n",
       "      <td>0</td>\n",
       "      <td>0</td>\n",
       "      <td>0</td>\n",
       "      <td>0</td>\n",
       "      <td>...</td>\n",
       "      <td>0</td>\n",
       "      <td>0</td>\n",
       "      <td>0</td>\n",
       "      <td>0</td>\n",
       "      <td>0</td>\n",
       "      <td>0</td>\n",
       "      <td>0</td>\n",
       "      <td>0</td>\n",
       "      <td>0</td>\n",
       "      <td>0</td>\n",
       "    </tr>\n",
       "    <tr>\n",
       "      <th>966</th>\n",
       "      <td>0</td>\n",
       "      <td>0</td>\n",
       "      <td>0</td>\n",
       "      <td>0</td>\n",
       "      <td>0</td>\n",
       "      <td>0</td>\n",
       "      <td>0</td>\n",
       "      <td>0</td>\n",
       "      <td>0</td>\n",
       "      <td>0</td>\n",
       "      <td>...</td>\n",
       "      <td>0</td>\n",
       "      <td>0</td>\n",
       "      <td>0</td>\n",
       "      <td>0</td>\n",
       "      <td>0</td>\n",
       "      <td>0</td>\n",
       "      <td>0</td>\n",
       "      <td>0</td>\n",
       "      <td>0</td>\n",
       "      <td>0</td>\n",
       "    </tr>\n",
       "    <tr>\n",
       "      <th>1380</th>\n",
       "      <td>0</td>\n",
       "      <td>0</td>\n",
       "      <td>0</td>\n",
       "      <td>0</td>\n",
       "      <td>0</td>\n",
       "      <td>0</td>\n",
       "      <td>0</td>\n",
       "      <td>0</td>\n",
       "      <td>0</td>\n",
       "      <td>0</td>\n",
       "      <td>...</td>\n",
       "      <td>0</td>\n",
       "      <td>0</td>\n",
       "      <td>0</td>\n",
       "      <td>0</td>\n",
       "      <td>0</td>\n",
       "      <td>0</td>\n",
       "      <td>0</td>\n",
       "      <td>0</td>\n",
       "      <td>0</td>\n",
       "      <td>0</td>\n",
       "    </tr>\n",
       "    <tr>\n",
       "      <th>1546</th>\n",
       "      <td>0</td>\n",
       "      <td>0</td>\n",
       "      <td>0</td>\n",
       "      <td>0</td>\n",
       "      <td>0</td>\n",
       "      <td>0</td>\n",
       "      <td>0</td>\n",
       "      <td>0</td>\n",
       "      <td>0</td>\n",
       "      <td>0</td>\n",
       "      <td>...</td>\n",
       "      <td>0</td>\n",
       "      <td>0</td>\n",
       "      <td>0</td>\n",
       "      <td>0</td>\n",
       "      <td>0</td>\n",
       "      <td>0</td>\n",
       "      <td>0</td>\n",
       "      <td>0</td>\n",
       "      <td>0</td>\n",
       "      <td>0</td>\n",
       "    </tr>\n",
       "    <tr>\n",
       "      <th>3660</th>\n",
       "      <td>0</td>\n",
       "      <td>0</td>\n",
       "      <td>0</td>\n",
       "      <td>0</td>\n",
       "      <td>0</td>\n",
       "      <td>0</td>\n",
       "      <td>0</td>\n",
       "      <td>0</td>\n",
       "      <td>0</td>\n",
       "      <td>0</td>\n",
       "      <td>...</td>\n",
       "      <td>0</td>\n",
       "      <td>0</td>\n",
       "      <td>0</td>\n",
       "      <td>0</td>\n",
       "      <td>0</td>\n",
       "      <td>0</td>\n",
       "      <td>0</td>\n",
       "      <td>0</td>\n",
       "      <td>0</td>\n",
       "      <td>0</td>\n",
       "    </tr>\n",
       "    <tr>\n",
       "      <th>3899</th>\n",
       "      <td>0</td>\n",
       "      <td>0</td>\n",
       "      <td>0</td>\n",
       "      <td>0</td>\n",
       "      <td>0</td>\n",
       "      <td>0</td>\n",
       "      <td>0</td>\n",
       "      <td>0</td>\n",
       "      <td>0</td>\n",
       "      <td>0</td>\n",
       "      <td>...</td>\n",
       "      <td>0</td>\n",
       "      <td>0</td>\n",
       "      <td>0</td>\n",
       "      <td>0</td>\n",
       "      <td>0</td>\n",
       "      <td>0</td>\n",
       "      <td>0</td>\n",
       "      <td>0</td>\n",
       "      <td>0</td>\n",
       "      <td>0</td>\n",
       "    </tr>\n",
       "    <tr>\n",
       "      <th>1216</th>\n",
       "      <td>0</td>\n",
       "      <td>0</td>\n",
       "      <td>0</td>\n",
       "      <td>0</td>\n",
       "      <td>0</td>\n",
       "      <td>0</td>\n",
       "      <td>0</td>\n",
       "      <td>0</td>\n",
       "      <td>0</td>\n",
       "      <td>0</td>\n",
       "      <td>...</td>\n",
       "      <td>0</td>\n",
       "      <td>0</td>\n",
       "      <td>0</td>\n",
       "      <td>0</td>\n",
       "      <td>0</td>\n",
       "      <td>0</td>\n",
       "      <td>0</td>\n",
       "      <td>0</td>\n",
       "      <td>0</td>\n",
       "      <td>0</td>\n",
       "    </tr>\n",
       "    <tr>\n",
       "      <th>2982</th>\n",
       "      <td>0</td>\n",
       "      <td>0</td>\n",
       "      <td>0</td>\n",
       "      <td>0</td>\n",
       "      <td>0</td>\n",
       "      <td>0</td>\n",
       "      <td>0</td>\n",
       "      <td>0</td>\n",
       "      <td>0</td>\n",
       "      <td>0</td>\n",
       "      <td>...</td>\n",
       "      <td>0</td>\n",
       "      <td>0</td>\n",
       "      <td>0</td>\n",
       "      <td>0</td>\n",
       "      <td>0</td>\n",
       "      <td>0</td>\n",
       "      <td>0</td>\n",
       "      <td>0</td>\n",
       "      <td>0</td>\n",
       "      <td>0</td>\n",
       "    </tr>\n",
       "    <tr>\n",
       "      <th>3626</th>\n",
       "      <td>0</td>\n",
       "      <td>0</td>\n",
       "      <td>0</td>\n",
       "      <td>0</td>\n",
       "      <td>0</td>\n",
       "      <td>0</td>\n",
       "      <td>0</td>\n",
       "      <td>0</td>\n",
       "      <td>0</td>\n",
       "      <td>0</td>\n",
       "      <td>...</td>\n",
       "      <td>0</td>\n",
       "      <td>0</td>\n",
       "      <td>0</td>\n",
       "      <td>0</td>\n",
       "      <td>0</td>\n",
       "      <td>0</td>\n",
       "      <td>0</td>\n",
       "      <td>0</td>\n",
       "      <td>0</td>\n",
       "      <td>0</td>\n",
       "    </tr>\n",
       "    <tr>\n",
       "      <th>848</th>\n",
       "      <td>0</td>\n",
       "      <td>0</td>\n",
       "      <td>0</td>\n",
       "      <td>0</td>\n",
       "      <td>0</td>\n",
       "      <td>0</td>\n",
       "      <td>0</td>\n",
       "      <td>0</td>\n",
       "      <td>0</td>\n",
       "      <td>0</td>\n",
       "      <td>...</td>\n",
       "      <td>0</td>\n",
       "      <td>0</td>\n",
       "      <td>0</td>\n",
       "      <td>0</td>\n",
       "      <td>0</td>\n",
       "      <td>0</td>\n",
       "      <td>0</td>\n",
       "      <td>0</td>\n",
       "      <td>0</td>\n",
       "      <td>0</td>\n",
       "    </tr>\n",
       "    <tr>\n",
       "      <th>1588</th>\n",
       "      <td>0</td>\n",
       "      <td>0</td>\n",
       "      <td>0</td>\n",
       "      <td>0</td>\n",
       "      <td>0</td>\n",
       "      <td>0</td>\n",
       "      <td>0</td>\n",
       "      <td>0</td>\n",
       "      <td>0</td>\n",
       "      <td>0</td>\n",
       "      <td>...</td>\n",
       "      <td>0</td>\n",
       "      <td>0</td>\n",
       "      <td>0</td>\n",
       "      <td>0</td>\n",
       "      <td>0</td>\n",
       "      <td>0</td>\n",
       "      <td>0</td>\n",
       "      <td>0</td>\n",
       "      <td>0</td>\n",
       "      <td>0</td>\n",
       "    </tr>\n",
       "  </tbody>\n",
       "</table>\n",
       "<p>20 rows × 26430 columns</p>\n",
       "</div>"
      ],
      "text/plain": [
       "      0  00s  01042012  022010  03342  05  050  06  07092008  075  ...  zoo  \\\n",
       "3129  0    0         0       0      0   0    0   0         0    0  ...    0   \n",
       "494   0    0         0       0      0   0    0   0         0    0  ...    0   \n",
       "431   0    0         0       0      0   0    0   0         0    0  ...    0   \n",
       "983   0    0         0       0      0   0    0   0         0    0  ...    0   \n",
       "2212  0    0         0       0      0   0    0   0         0    0  ...    0   \n",
       "4045  0    0         0       0      0   0    0   0         0    0  ...    0   \n",
       "3642  0    0         0       0      0   0    0   0         0    0  ...    0   \n",
       "1919  0    0         0       0      0   0    0   0         0    0  ...    0   \n",
       "2932  0    0         0       0      0   0    0   0         0    0  ...    0   \n",
       "1479  0    0         0       0      0   0    0   0         0    0  ...    0   \n",
       "966   0    0         0       0      0   0    0   0         0    0  ...    0   \n",
       "1380  0    0         0       0      0   0    0   0         0    0  ...    0   \n",
       "1546  0    0         0       0      0   0    0   0         0    0  ...    0   \n",
       "3660  0    0         0       0      0   0    0   0         0    0  ...    0   \n",
       "3899  0    0         0       0      0   0    0   0         0    0  ...    0   \n",
       "1216  0    0         0       0      0   0    0   0         0    0  ...    0   \n",
       "2982  0    0         0       0      0   0    0   0         0    0  ...    0   \n",
       "3626  0    0         0       0      0   0    0   0         0    0  ...    0   \n",
       "848   0    0         0       0      0   0    0   0         0    0  ...    0   \n",
       "1588  0    0         0       0      0   0    0   0         0    0  ...    0   \n",
       "\n",
       "      zoom  zucchini  zuccini  zuchinni  zupa  zwiebelkräuter  École  éclairs  \\\n",
       "3129     0         0        0         0     0               0      0        0   \n",
       "494      0         0        0         0     0               0      0        0   \n",
       "431      0         0        0         0     0               0      0        0   \n",
       "983      0         0        0         0     0               0      0        0   \n",
       "2212     0         0        0         0     0               0      0        0   \n",
       "4045     0         0        0         0     0               0      0        0   \n",
       "3642     0         0        0         0     0               0      0        0   \n",
       "1919     0         0        0         0     0               0      0        0   \n",
       "2932     0         0        0         0     0               0      0        0   \n",
       "1479     0         0        0         0     0               0      0        0   \n",
       "966      0         0        0         0     0               0      0        0   \n",
       "1380     0         0        0         0     0               0      0        0   \n",
       "1546     0         0        0         0     0               0      0        0   \n",
       "3660     0         0        0         0     0               0      0        0   \n",
       "3899     0         0        0         0     0               0      0        0   \n",
       "1216     0         0        0         0     0               0      0        0   \n",
       "2982     0         0        0         0     0               0      0        0   \n",
       "3626     0         0        0         0     0               0      0        0   \n",
       "848      0         0        0         0     0               0      0        0   \n",
       "1588     0         0        0         0     0               0      0        0   \n",
       "\n",
       "      ém  \n",
       "3129   0  \n",
       "494    0  \n",
       "431    0  \n",
       "983    0  \n",
       "2212   0  \n",
       "4045   0  \n",
       "3642   0  \n",
       "1919   0  \n",
       "2932   0  \n",
       "1479   0  \n",
       "966    0  \n",
       "1380   0  \n",
       "1546   0  \n",
       "3660   0  \n",
       "3899   0  \n",
       "1216   0  \n",
       "2982   0  \n",
       "3626   0  \n",
       "848    0  \n",
       "1588   0  \n",
       "\n",
       "[20 rows x 26430 columns]"
      ]
     },
     "execution_count": 56,
     "metadata": {},
     "output_type": "execute_result"
    }
   ],
   "source": [
    "vdf = pd.DataFrame(X.toarray(), columns=count_vctorizer.get_feature_names_out())\n",
    "vdf.sample(20)"
   ]
  },
  {
   "cell_type": "markdown",
   "id": "0ff071d2-e008-444b-afdf-4fd28978c777",
   "metadata": {},
   "source": [
    "#### Training data and test data\n"
   ]
  },
  {
   "cell_type": "code",
   "execution_count": 70,
   "id": "c91de1e5-79b8-431e-bff4-8164ec067b13",
   "metadata": {},
   "outputs": [],
   "source": [
    "from sklearn.model_selection import train_test_split\n",
    "from sklearn.ensemble import RandomForestClassifier\n",
    "from sklearn.metrics import ConfusionMatrixDisplay, confusion_matrix, accuracy_score, classification_report"
   ]
  },
  {
   "cell_type": "code",
   "execution_count": 58,
   "id": "7158acb0-1265-4e46-9fc7-8db40425f44d",
   "metadata": {},
   "outputs": [],
   "source": [
    "X_train, X_test, y_train, y_test = train_test_split(X, y, test_size=0.3, random_state=101)"
   ]
  },
  {
   "cell_type": "code",
   "execution_count": 64,
   "id": "c7ff1ab3-9c92-49fb-838d-bfbcb81a57de",
   "metadata": {},
   "outputs": [],
   "source": [
    "rfClsf = RandomForestClassifier()"
   ]
  },
  {
   "cell_type": "code",
   "execution_count": 65,
   "id": "e8da41dc-5ea0-4097-a99d-6e3332b1480b",
   "metadata": {},
   "outputs": [
    {
     "data": {
      "text/html": [
       "<style>#sk-container-id-2 {color: black;}#sk-container-id-2 pre{padding: 0;}#sk-container-id-2 div.sk-toggleable {background-color: white;}#sk-container-id-2 label.sk-toggleable__label {cursor: pointer;display: block;width: 100%;margin-bottom: 0;padding: 0.3em;box-sizing: border-box;text-align: center;}#sk-container-id-2 label.sk-toggleable__label-arrow:before {content: \"▸\";float: left;margin-right: 0.25em;color: #696969;}#sk-container-id-2 label.sk-toggleable__label-arrow:hover:before {color: black;}#sk-container-id-2 div.sk-estimator:hover label.sk-toggleable__label-arrow:before {color: black;}#sk-container-id-2 div.sk-toggleable__content {max-height: 0;max-width: 0;overflow: hidden;text-align: left;background-color: #f0f8ff;}#sk-container-id-2 div.sk-toggleable__content pre {margin: 0.2em;color: black;border-radius: 0.25em;background-color: #f0f8ff;}#sk-container-id-2 input.sk-toggleable__control:checked~div.sk-toggleable__content {max-height: 200px;max-width: 100%;overflow: auto;}#sk-container-id-2 input.sk-toggleable__control:checked~label.sk-toggleable__label-arrow:before {content: \"▾\";}#sk-container-id-2 div.sk-estimator input.sk-toggleable__control:checked~label.sk-toggleable__label {background-color: #d4ebff;}#sk-container-id-2 div.sk-label input.sk-toggleable__control:checked~label.sk-toggleable__label {background-color: #d4ebff;}#sk-container-id-2 input.sk-hidden--visually {border: 0;clip: rect(1px 1px 1px 1px);clip: rect(1px, 1px, 1px, 1px);height: 1px;margin: -1px;overflow: hidden;padding: 0;position: absolute;width: 1px;}#sk-container-id-2 div.sk-estimator {font-family: monospace;background-color: #f0f8ff;border: 1px dotted black;border-radius: 0.25em;box-sizing: border-box;margin-bottom: 0.5em;}#sk-container-id-2 div.sk-estimator:hover {background-color: #d4ebff;}#sk-container-id-2 div.sk-parallel-item::after {content: \"\";width: 100%;border-bottom: 1px solid gray;flex-grow: 1;}#sk-container-id-2 div.sk-label:hover label.sk-toggleable__label {background-color: #d4ebff;}#sk-container-id-2 div.sk-serial::before {content: \"\";position: absolute;border-left: 1px solid gray;box-sizing: border-box;top: 0;bottom: 0;left: 50%;z-index: 0;}#sk-container-id-2 div.sk-serial {display: flex;flex-direction: column;align-items: center;background-color: white;padding-right: 0.2em;padding-left: 0.2em;position: relative;}#sk-container-id-2 div.sk-item {position: relative;z-index: 1;}#sk-container-id-2 div.sk-parallel {display: flex;align-items: stretch;justify-content: center;background-color: white;position: relative;}#sk-container-id-2 div.sk-item::before, #sk-container-id-2 div.sk-parallel-item::before {content: \"\";position: absolute;border-left: 1px solid gray;box-sizing: border-box;top: 0;bottom: 0;left: 50%;z-index: -1;}#sk-container-id-2 div.sk-parallel-item {display: flex;flex-direction: column;z-index: 1;position: relative;background-color: white;}#sk-container-id-2 div.sk-parallel-item:first-child::after {align-self: flex-end;width: 50%;}#sk-container-id-2 div.sk-parallel-item:last-child::after {align-self: flex-start;width: 50%;}#sk-container-id-2 div.sk-parallel-item:only-child::after {width: 0;}#sk-container-id-2 div.sk-dashed-wrapped {border: 1px dashed gray;margin: 0 0.4em 0.5em 0.4em;box-sizing: border-box;padding-bottom: 0.4em;background-color: white;}#sk-container-id-2 div.sk-label label {font-family: monospace;font-weight: bold;display: inline-block;line-height: 1.2em;}#sk-container-id-2 div.sk-label-container {text-align: center;}#sk-container-id-2 div.sk-container {/* jupyter's `normalize.less` sets `[hidden] { display: none; }` but bootstrap.min.css set `[hidden] { display: none !important; }` so we also need the `!important` here to be able to override the default hidden behavior on the sphinx rendered scikit-learn.org. See: https://github.com/scikit-learn/scikit-learn/issues/21755 */display: inline-block !important;position: relative;}#sk-container-id-2 div.sk-text-repr-fallback {display: none;}</style><div id=\"sk-container-id-2\" class=\"sk-top-container\"><div class=\"sk-text-repr-fallback\"><pre>RandomForestClassifier()</pre><b>In a Jupyter environment, please rerun this cell to show the HTML representation or trust the notebook. <br />On GitHub, the HTML representation is unable to render, please try loading this page with nbviewer.org.</b></div><div class=\"sk-container\" hidden><div class=\"sk-item\"><div class=\"sk-estimator sk-toggleable\"><input class=\"sk-toggleable__control sk-hidden--visually\" id=\"sk-estimator-id-2\" type=\"checkbox\" checked><label for=\"sk-estimator-id-2\" class=\"sk-toggleable__label sk-toggleable__label-arrow\">RandomForestClassifier</label><div class=\"sk-toggleable__content\"><pre>RandomForestClassifier()</pre></div></div></div></div></div>"
      ],
      "text/plain": [
       "RandomForestClassifier()"
      ]
     },
     "execution_count": 65,
     "metadata": {},
     "output_type": "execute_result"
    }
   ],
   "source": [
    "rfClsf.fit(X_train, y_train)"
   ]
  },
  {
   "cell_type": "code",
   "execution_count": 66,
   "id": "1054b56b-be46-4a4d-ae39-23e43f1d3eee",
   "metadata": {},
   "outputs": [],
   "source": [
    "preds = rfClsf.predict(X_test)"
   ]
  },
  {
   "cell_type": "code",
   "execution_count": 67,
   "id": "2abcd0cb-2331-4ac7-a24c-2a48aa77add5",
   "metadata": {},
   "outputs": [
    {
     "data": {
      "text/plain": [
       "array([5, 5, 5, ..., 5, 5, 5], dtype=int64)"
      ]
     },
     "execution_count": 67,
     "metadata": {},
     "output_type": "execute_result"
    }
   ],
   "source": [
    "preds"
   ]
  },
  {
   "cell_type": "code",
   "execution_count": 68,
   "id": "a2a69159-614e-49fa-af3f-c2b9e7f7e053",
   "metadata": {},
   "outputs": [
    {
     "data": {
      "text/plain": [
       "array([[ 66, 162],\n",
       "       [  5, 993]], dtype=int64)"
      ]
     },
     "execution_count": 68,
     "metadata": {},
     "output_type": "execute_result"
    }
   ],
   "source": [
    "confusion_matrix(y_test, preds)"
   ]
  },
  {
   "cell_type": "code",
   "execution_count": 69,
   "id": "3ad129cb-65dd-4d58-a22e-7c5190563304",
   "metadata": {},
   "outputs": [
    {
     "data": {
      "text/plain": [
       "<sklearn.metrics._plot.confusion_matrix.ConfusionMatrixDisplay at 0x1dfe0469ed0>"
      ]
     },
     "execution_count": 69,
     "metadata": {},
     "output_type": "execute_result"
    },
    {
     "data": {
      "image/png": "[encoded data removed]",
      "text/plain": [
       "<Figure size 640x480 with 2 Axes>"
      ]
     },
     "metadata": {},
     "output_type": "display_data"
    }
   ],
   "source": [
    "ConfusionMatrixDisplay(confusion_matrix(y_test, preds)).plot()"
   ]
  },
  {
   "cell_type": "code",
   "execution_count": 74,
   "id": "7562c999-90e8-4959-b161-143c26c01b76",
   "metadata": {},
   "outputs": [
    {
     "name": "stdout",
     "output_type": "stream",
     "text": [
      "              precision    recall  f1-score   support\n",
      "\n",
      "           1       0.93      0.29      0.44       228\n",
      "           5       0.86      0.99      0.92       998\n",
      "\n",
      "    accuracy                           0.86      1226\n",
      "   macro avg       0.89      0.64      0.68      1226\n",
      "weighted avg       0.87      0.86      0.83      1226\n",
      "\n"
     ]
    }
   ],
   "source": [
    "print(classification_report(y_test, preds))"
   ]
  },
  {
   "cell_type": "code",
   "execution_count": 75,
   "id": "c65ef7bf-8675-4bfc-8188-8d1a9fcfc5e4",
   "metadata": {},
   "outputs": [
    {
     "data": {
      "text/plain": [
       "\"This restaurant is incredible, and has the best pasta carbonara and the best tiramisu I've had in my life. All the food is wonderful, though. The calamari is not fried. The bread served with dinner comes right out of the oven, and the tomatoes are the freshest I've tasted outside of my mom's own garden. This is great attention to detail.\\n\\nI can no longer eat at any other Italian restaurant without feeling slighted. This is the first place I want take out-of-town visitors I'm looking to impress.\\n\\nThe owner, Jon, is helpful, friendly, and really cares about providing a positive dining experience. He's spot on with his wine recommendations, and he organizes wine tasting events which you can find out about by joining the mailing list or Facebook page.\""
      ]
     },
     "execution_count": 75,
     "metadata": {},
     "output_type": "execute_result"
    }
   ],
   "source": [
    "positive_review = df_class['text'][59]\n",
    "positive_review"
   ]
  },
  {
   "cell_type": "code",
   "execution_count": 77,
   "id": "2cdd6335-2034-4f54-95b7-e8ed86a76310",
   "metadata": {},
   "outputs": [],
   "source": [
    "positive_review_transformed = count_vctorizer.transform([positive_review])"
   ]
  },
  {
   "cell_type": "code",
   "execution_count": 84,
   "id": "56f1f18b-b441-436d-8243-a7dec2a8dcf2",
   "metadata": {},
   "outputs": [
    {
     "data": {
      "text/plain": [
       "5"
      ]
     },
     "execution_count": 84,
     "metadata": {},
     "output_type": "execute_result"
    }
   ],
   "source": [
    "rfClsf.predict(positive_review_transformed)[0]"
   ]
  },
  {
   "cell_type": "code",
   "execution_count": 85,
   "id": "e37a92e8-e345-44c2-b5c8-7b2dfa4cbfaf",
   "metadata": {},
   "outputs": [
    {
     "data": {
      "text/plain": [
       "'Still quite poor both in service and food. maybe I made a mistake and ordered Sichuan Gong Bao ji ding for what seemed like people from canton district. Unfortunately to get the good service U have to speak Mandarin/Cantonese. I do speak a smattering but try not to use it as I never feel confident about the intonation. \\n\\nThe dish came out with zichini and bell peppers (what!??)  Where is the peanuts the dried fried red peppers and the large pieces of scallion. On pointing this out all I got was \" Oh you like peanuts.. ok I will put some on\" and she then proceeded to get some peanuts and sprinkle it on the chicken.\\n\\nWell at that point I was happy that atleast the chicken pieces were present else she would probably end up sprinkling raw chicken pieces on it like the raw peanuts she dumped on top of the food. \\n\\nWell then  I spoke a few chinese words and the scowl turned into a smile and she then became a bit more friendlier. \\n\\nUnfortunately I do not condone this type of behavior. It is all in poor taste...'"
      ]
     },
     "execution_count": 85,
     "metadata": {},
     "output_type": "execute_result"
    }
   ],
   "source": [
    "negative_review = df_class['text'][281]\n",
    "negative_review"
   ]
  },
  {
   "cell_type": "code",
   "execution_count": 88,
   "id": "979215e6-12ed-4d83-8850-88e4c078712b",
   "metadata": {},
   "outputs": [
    {
     "data": {
      "text/plain": [
       "1"
      ]
     },
     "execution_count": 88,
     "metadata": {},
     "output_type": "execute_result"
    }
   ],
   "source": [
    "negative_review_transformed = count_vctorizer.transform([negative_review])\n",
    "rfClsf.predict(negative_review_transformed)[0]"
   ]
  },
  {
   "cell_type": "code",
   "execution_count": 90,
   "id": "7b04e60a-d199-47e0-8d67-85f2cdbf1c6c",
   "metadata": {},
   "outputs": [
    {
     "data": {
      "text/plain": [
       "\"Other than the really great happy hour prices, its hit or miss with this place. More often a miss. :(\\n\\nThe food is less than average, the drinks NOT strong ( at least they are inexpensive) , but the service is truly hit or miss.\\n\\nI'll pass.\""
      ]
     },
     "execution_count": 90,
     "metadata": {},
     "output_type": "execute_result"
    }
   ],
   "source": [
    "another_negative_review = df_class['text'][140]\n",
    "another_negative_review"
   ]
  },
  {
   "cell_type": "code",
   "execution_count": 91,
   "id": "2ab5ebac-4704-4a3d-8197-0a1c8736e1ca",
   "metadata": {},
   "outputs": [
    {
     "data": {
      "text/plain": [
       "1"
      ]
     },
     "execution_count": 91,
     "metadata": {},
     "output_type": "execute_result"
    }
   ],
   "source": [
    "another_negative_review_transformed = count_vctorizer.transform([another_negative_review])\n",
    "rfClsf.predict(another_negative_review_transformed)[0]"
   ]
  },
  {
   "cell_type": "code",
   "execution_count": null,
   "id": "1b93b739-de53-4745-a249-19cb9f92c9b9",
   "metadata": {},
   "outputs": [],
   "source": []
  }
 ],
 "metadata": {
  "kernelspec": {
   "display_name": "Python 3 (ipykernel)",
   "language": "python",
   "name": "python3"
  },
  "language_info": {
   "codemirror_mode": {
    "name": "ipython",
    "version": 3
   },
   "file_extension": ".py",
   "mimetype": "text/x-python",
   "name": "python",
   "nbconvert_exporter": "python",
   "pygments_lexer": "ipython3",
   "version": "3.11.0"
  }
 },
 "nbformat": 4,
 "nbformat_minor": 5
}
