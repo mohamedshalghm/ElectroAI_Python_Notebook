{
 "cells": [
  {
   "cell_type": "code",
   "execution_count": 1,
   "id": "66e9a80f-ee6a-4a1f-a6ea-abd845065170",
   "metadata": {},
   "outputs": [],
   "source": [
    "import nltk"
   ]
  },
  {
   "cell_type": "code",
   "execution_count": 3,
   "id": "952ee622-93ca-4a96-902c-dab5f0f2e703",
   "metadata": {},
   "outputs": [],
   "source": [
    "#nltk.download()"
   ]
  },
  {
   "cell_type": "markdown",
   "id": "3e59465a-f70e-4d4e-af4c-fab95bcec64e",
   "metadata": {},
   "source": [
    "#### Sentence Tokenization ( Segmentation )"
   ]
  },
  {
   "cell_type": "code",
   "execution_count": 9,
   "id": "000a5339-c889-410c-9fe6-e49cccf18ffc",
   "metadata": {},
   "outputs": [],
   "source": [
    "text = 'Backgammon is one of the oldest known board games. Its history can be traced back nearly 5,000 years to archeological discoveries in the Middle East. It is a two player game where each player has fifteen checkers which move between twenty-four points according to the roll of two dice.'"
   ]
  },
  {
   "cell_type": "code",
   "execution_count": 10,
   "id": "8a919668-5c12-421a-bdfa-08c8a7b8c3e4",
   "metadata": {},
   "outputs": [
    {
     "data": {
      "text/plain": [
       "'Backgammon is one of the oldest known board games. Its history can be traced back nearly 5,000 years to archeological discoveries in the Middle East. It is a two player game where each player has fifteen checkers which move between twenty-four points according to the roll of two dice.'"
      ]
     },
     "execution_count": 10,
     "metadata": {},
     "output_type": "execute_result"
    }
   ],
   "source": [
    "text"
   ]
  },
  {
   "cell_type": "code",
   "execution_count": 35,
   "id": "56d8b673-5515-404f-84a4-a0ed6e1dbb1e",
   "metadata": {},
   "outputs": [
    {
     "name": "stdout",
     "output_type": "stream",
     "text": [
      "1 : Backgammon is one of the oldest known board games.\n",
      "\n",
      "2 : Its history can be traced back nearly 5,000 years to archeological discoveries in the Middle East.\n",
      "\n",
      "3 : It is a two player game where each player has fifteen checkers which move between twenty-four points according to the roll of two dice.\n",
      "\n"
     ]
    }
   ],
   "source": [
    "sentences = nltk.sent_tokenize(text)\n",
    "for idx, sent in enumerate(sentences, start=1):\n",
    "    print(idx, \":\", sent, end=\"\\n\\n\")"
   ]
  },
  {
   "cell_type": "markdown",
   "id": "bdf3b543-d068-473e-8be6-4cfef0d9b7e4",
   "metadata": {},
   "source": [
    "#### Word Tokenization ( Segmentation )"
   ]
  },
  {
   "cell_type": "code",
   "execution_count": 36,
   "id": "19735609-230d-42e0-ab02-bdc82221431c",
   "metadata": {},
   "outputs": [
    {
     "name": "stdout",
     "output_type": "stream",
     "text": [
      "1 : Backgammon is one of the oldest known board games.\n",
      " ['Backgammon', 'is', 'one', 'of', 'the', 'oldest', 'known', 'board', 'games', '.']\n",
      "\n",
      "2 : Its history can be traced back nearly 5,000 years to archeological discoveries in the Middle East.\n",
      " ['Its', 'history', 'can', 'be', 'traced', 'back', 'nearly', '5,000', 'years', 'to', 'archeological', 'discoveries', 'in', 'the', 'Middle', 'East', '.']\n",
      "\n",
      "3 : It is a two player game where each player has fifteen checkers which move between twenty-four points according to the roll of two dice.\n",
      " ['It', 'is', 'a', 'two', 'player', 'game', 'where', 'each', 'player', 'has', 'fifteen', 'checkers', 'which', 'move', 'between', 'twenty-four', 'points', 'according', 'to', 'the', 'roll', 'of', 'two', 'dice', '.']\n",
      "\n"
     ]
    }
   ],
   "source": [
    "sentences = nltk.sent_tokenize(text)\n",
    "for idx, sent in enumerate(sentences, start=1):\n",
    "    sentence_word = nltk.word_tokenize(sent)\n",
    "    print(idx, \":\", sent, end=\"\")\n",
    "    print(\"\\n\", sentence_word, end=\"\\n\\n\")"
   ]
  },
  {
   "cell_type": "markdown",
   "id": "778c13ab-fc78-418e-a092-7d5f565ba9b7",
   "metadata": {},
   "source": [
    "#### Stemming , Lemmatization\n",
    "<span style='font-szie:18px;font-weight:bold'>Stemming</span>\n",
    " - Chop Of The End of The Words\n",
    " - Accuracy Is Not good\n",
    " - Fast <br />\n",
    "<span style='font-szie:18px;font-weight:bold'>Lemmatization</span>\n",
    " - Vocabulary , Ending , Dictionary To get the base o=form of the word\n",
    " - take care of <span style='font-szie:16px;font-weight:bold'>POS</span> For Analysing The Word\n",
    " - High Accauray\n",
    " - Alittle Slow"
   ]
  },
  {
   "cell_type": "code",
   "execution_count": 39,
   "id": "12d98577-8d8a-4cbf-8035-5b3832f1295f",
   "metadata": {},
   "outputs": [],
   "source": [
    "from nltk.stem import PorterStemmer, WordNetLemmatizer\n",
    "from nltk.corpus import wordnet\n",
    "\n",
    "lemmatizer = WordNetLemmatizer()\n",
    "stemmer = PorterStemmer()"
   ]
  },
  {
   "cell_type": "code",
   "execution_count": 51,
   "id": "d6f92c9e-822f-4f89-8d17-bf90a8edb6e1",
   "metadata": {},
   "outputs": [],
   "source": [
    "def compare_stemmer_and_lemmatizer(stemmer, lemma, word, pos):\n",
    "    print(f'\\n Applying Stemmer On Word {word} result is : {stemmer.stem(word)}')\n",
    "    print(f' Applying lematizer On Word {word} result is :  {lemma.lemmatize(word, pos)}', end='\\n')"
   ]
  },
  {
   "cell_type": "code",
   "execution_count": 52,
   "id": "fb80a2e5-7920-4291-9f81-616d72912913",
   "metadata": {},
   "outputs": [
    {
     "name": "stdout",
     "output_type": "stream",
     "text": [
      "\n",
      " Applying Stemmer On Word seen result is : seen\n",
      " Applying lematizer On Word seen result is :  see\n",
      "\n",
      " Applying Stemmer On Word drove result is : drove\n",
      " Applying lematizer On Word drove result is :  drive\n",
      "\n",
      " Applying Stemmer On Word playing result is : play\n",
      " Applying lematizer On Word playing result is :  play\n",
      "\n",
      " Applying Stemmer On Word better result is : better\n",
      " Applying lematizer On Word better result is :  good\n"
     ]
    }
   ],
   "source": [
    "compare_stemmer_and_lemmatizer(stemmer, lemmatizer, 'seen', pos=wordnet.VERB)\n",
    "compare_stemmer_and_lemmatizer(stemmer, lemmatizer, 'drove', pos=wordnet.VERB)\n",
    "compare_stemmer_and_lemmatizer(stemmer, lemmatizer, 'playing', pos=wordnet.VERB)\n",
    "compare_stemmer_and_lemmatizer(stemmer, lemmatizer, 'better', pos=wordnet.ADJ)"
   ]
  },
  {
   "cell_type": "markdown",
   "id": "0b73a34b-0e73-4df4-aedf-02f5f3b52890",
   "metadata": {},
   "source": [
    "#### Stop words\n"
   ]
  },
  {
   "cell_type": "code",
   "execution_count": 54,
   "id": "b4452c79-6ad3-4c9b-816f-716a2269e36d",
   "metadata": {},
   "outputs": [],
   "source": [
    "from nltk.corpus import stopwords"
   ]
  },
  {
   "cell_type": "code",
   "execution_count": 61,
   "id": "d16a820e-b8bb-486b-aee1-de86465c7932",
   "metadata": {},
   "outputs": [
    {
     "name": "stdout",
     "output_type": "stream",
     "text": [
      "إذ,إذا,إذما,إذن,أف,أقل,أكثر,ألا,إلا,التي,الذي,الذين,اللاتي,اللائي,اللتان,اللتيا,اللتين,اللذان,اللذين,اللواتي,إلى,إليك,إليكم,إليكما,إليكن,أم,أما,أما,إما,أن,إن,إنا,أنا,أنت,أنتم,أنتما,أنتن,إنما,إنه,أنى,أنى,آه,آها,أو,أولاء,أولئك,أوه,آي,أي,أيها,إي,أين,أين,أينما,إيه,بخ,بس,بعد,بعض,بك,بكم,بكم,بكما,بكن,بل,بلى,بما,بماذا,بمن,بنا,به,بها,بهم,بهما,بهن,بي,بين,بيد,تلك,تلكم,تلكما,ته,تي,تين,تينك,ثم,ثمة,حاشا,حبذا,حتى,حيث,حيثما,حين,خلا,دون,ذا,ذات,ذاك,ذان,ذانك,ذلك,ذلكم,ذلكما,ذلكن,ذه,ذو,ذوا,ذواتا,ذواتي,ذي,ذين,ذينك,ريث,سوف,سوى,شتان,عدا,عسى,عل,على,عليك,عليه,عما,عن,عند,غير,فإذا,فإن,فلا,فمن,في,فيم,فيما,فيه,فيها,قد,كأن,كأنما,كأي,كأين,كذا,كذلك,كل,كلا,كلاهما,كلتا,كلما,كليكما,كليهما,كم,كم,كما,كي,كيت,كيف,كيفما,لا,لاسيما,لدى,لست,لستم,لستما,لستن,لسن,لسنا,لعل,لك,لكم,لكما,لكن,لكنما,لكي,لكيلا,لم,لما,لن,لنا,له,لها,لهم,لهما,لهن,لو,لولا,لوما,لي,لئن,ليت,ليس,ليسا,ليست,ليستا,ليسوا,ما,ماذا,متى,مذ,مع,مما,ممن,من,منه,منها,منذ,مه,مهما,نحن,نحو,نعم,ها,هاتان,هاته,هاتي,هاتين,هاك,هاهنا,هذا,هذان,هذه,هذي,هذين,هكذا,هل,هلا,هم,هما,هن,هنا,هناك,هنالك,هو,هؤلاء,هي,هيا,هيت,هيهات,والذي,والذين,وإذ,وإذا,وإن,ولا,ولكن,ولو,وما,ومن,وهو,يا,أبٌ,أخٌ,حمٌ,فو,أنتِ,يناير,فبراير,مارس,أبريل,مايو,يونيو,يوليو,أغسطس,سبتمبر,أكتوبر,نوفمبر,ديسمبر,جانفي,فيفري,مارس,أفريل,ماي,جوان,جويلية,أوت,كانون,شباط,آذار,نيسان,أيار,حزيران,تموز,آب,أيلول,تشرين,دولار,دينار,ريال,درهم,ليرة,جنيه,قرش,مليم,فلس,هللة,سنتيم,يورو,ين,يوان,شيكل,واحد,اثنان,ثلاثة,أربعة,خمسة,ستة,سبعة,ثمانية,تسعة,عشرة,أحد,اثنا,اثني,إحدى,ثلاث,أربع,خمس,ست,سبع,ثماني,تسع,عشر,ثمان,سبت,أحد,اثنين,ثلاثاء,أربعاء,خميس,جمعة,أول,ثان,ثاني,ثالث,رابع,خامس,سادس,سابع,ثامن,تاسع,عاشر,حادي,أ,ب,ت,ث,ج,ح,خ,د,ذ,ر,ز,س,ش,ص,ض,ط,ظ,ع,غ,ف,ق,ك,ل,م,ن,ه,و,ي,ء,ى,آ,ؤ,ئ,أ,ة,ألف,باء,تاء,ثاء,جيم,حاء,خاء,دال,ذال,راء,زاي,سين,شين,صاد,ضاد,طاء,ظاء,عين,غين,فاء,قاف,كاف,لام,ميم,نون,هاء,واو,ياء,همزة,ي,نا,ك,كن,ه,إياه,إياها,إياهما,إياهم,إياهن,إياك,إياكما,إياكم,إياك,إياكن,إياي,إيانا,أولالك,تانِ,تانِك,تِه,تِي,تَيْنِ,ثمّ,ثمّة,ذانِ,ذِه,ذِي,ذَيْنِ,هَؤلاء,هَاتانِ,هَاتِه,هَاتِي,هَاتَيْنِ,هَذا,هَذانِ,هَذِه,هَذِي,هَذَيْنِ,الألى,الألاء,أل,أنّى,أيّ,ّأيّان,أنّى,أيّ,ّأيّان,ذيت,كأيّ,كأيّن,بضع,فلان,وا,آمينَ,آهِ,آهٍ,آهاً,أُفٍّ,أُفٍّ,أفٍّ,أمامك,أمامكَ,أوّهْ,إلَيْكَ,إلَيْكَ,إليكَ,إليكنّ,إيهٍ,بخٍ,بسّ,بَسْ,بطآن,بَلْهَ,حاي,حَذارِ,حيَّ,حيَّ,دونك,رويدك,سرعان,شتانَ,شَتَّانَ,صهْ,صهٍ,طاق,طَق,عَدَسْ,كِخ,مكانَك,مكانَك,مكانَك,مكانكم,مكانكما,مكانكنّ,نَخْ,هاكَ,هَجْ,هلم,هيّا,هَيْهات,وا,واهاً,وراءَك,وُشْكَانَ,وَيْ,يفعلان,تفعلان,يفعلون,تفعلون,تفعلين,اتخذ,ألفى,تخذ,ترك,تعلَّم,جعل,حجا,حبيب,خال,حسب,خال,درى,رأى,زعم,صبر,ظنَّ,عدَّ,علم,غادر,ذهب,وجد,ورد,وهب,أسكن,أطعم,أعطى,رزق,زود,سقى,كسا,أخبر,أرى,أعلم,أنبأ,حدَث,خبَّر,نبَّا,أفعل به,ما أفعله,بئس,ساء,طالما,قلما,لات,لكنَّ,ءَ,أجل,إذاً,أمّا,إمّا,إنَّ,أنًّ,أى,إى,أيا,ب,ثمَّ,جلل,جير,رُبَّ,س,علًّ,ف,كأنّ,كلَّا,كى,ل,لات,لعلَّ,لكنَّ,لكنَّ,م,نَّ,هلّا,وا,أل,إلّا,ت,ك,لمّا,ن,ه,و,ا,ي,تجاه,تلقاء,جميع,حسب,سبحان,شبه,لعمر,مثل,معاذ,أبو,أخو,حمو,فو,مئة,مئتان,ثلاثمئة,أربعمئة,خمسمئة,ستمئة,سبعمئة,ثمنمئة,تسعمئة,مائة,ثلاثمائة,أربعمائة,خمسمائة,ستمائة,سبعمائة,ثمانمئة,تسعمائة,عشرون,ثلاثون,اربعون,خمسون,ستون,سبعون,ثمانون,تسعون,عشرين,ثلاثين,اربعين,خمسين,ستين,سبعين,ثمانين,تسعين,بضع,نيف,أجمع,جميع,عامة,عين,نفس,لا سيما,أصلا,أهلا,أيضا,بؤسا,بعدا,بغتة,تعسا,حقا,حمدا,خلافا,خاصة,دواليك,سحقا,سرا,سمعا,صبرا,صدقا,صراحة,طرا,عجبا,عيانا,غالبا,فرادى,فضلا,قاطبة,كثيرا,لبيك,معاذ,أبدا,إزاء,أصلا,الآن,أمد,أمس,آنفا,آناء,أنّى,أول,أيّان,تارة,ثمّ,ثمّة,حقا,صباح,مساء,ضحوة,عوض,غدا,غداة,قطّ,كلّما,لدن,لمّا,مرّة,قبل,خلف,أمام,فوق,تحت,يمين,شمال,ارتدّ,استحال,أصبح,أضحى,آض,أمسى,انقلب,بات,تبدّل,تحوّل,حار,رجع,راح,صار,ظلّ,عاد,غدا,كان,ما انفك,ما برح,مادام,مازال,مافتئ,ابتدأ,أخذ,اخلولق,أقبل,انبرى,أنشأ,أوشك,جعل,حرى,شرع,طفق,علق,قام,كرب,كاد,هبّ,"
     ]
    }
   ],
   "source": [
    "for w in stopwords.words('Arabic'):\n",
    "    print(w, end=\",\")"
   ]
  },
  {
   "cell_type": "code",
   "execution_count": 62,
   "id": "1f57d863-6605-4285-81cf-d5a85d66e01d",
   "metadata": {},
   "outputs": [
    {
     "name": "stdout",
     "output_type": "stream",
     "text": [
      "i,me,my,myself,we,our,ours,ourselves,you,you're,you've,you'll,you'd,your,yours,yourself,yourselves,he,him,his,himself,she,she's,her,hers,herself,it,it's,its,itself,they,them,their,theirs,themselves,what,which,who,whom,this,that,that'll,these,those,am,is,are,was,were,be,been,being,have,has,had,having,do,does,did,doing,a,an,the,and,but,if,or,because,as,until,while,of,at,by,for,with,about,against,between,into,through,during,before,after,above,below,to,from,up,down,in,out,on,off,over,under,again,further,then,once,here,there,when,where,why,how,all,any,both,each,few,more,most,other,some,such,no,nor,not,only,own,same,so,than,too,very,s,t,can,will,just,don,don't,should,should've,now,d,ll,m,o,re,ve,y,ain,aren,aren't,couldn,couldn't,didn,didn't,doesn,doesn't,hadn,hadn't,hasn,hasn't,haven,haven't,isn,isn't,ma,mightn,mightn't,mustn,mustn't,needn,needn't,shan,shan't,shouldn,shouldn't,wasn,wasn't,weren,weren't,won,won't,wouldn,wouldn't,"
     ]
    }
   ],
   "source": [
    "for w in stopwords.words('english'):\n",
    "    print(w, end=\",\")"
   ]
  },
  {
   "cell_type": "markdown",
   "id": "afee5cfb-025d-42c3-be4a-21ede5c8622c",
   "metadata": {},
   "source": [
    "#### Remove the stop words from a sentence"
   ]
  },
  {
   "cell_type": "code",
   "execution_count": 66,
   "id": "21586612-6871-401e-8d8a-8e64c13aebf3",
   "metadata": {},
   "outputs": [],
   "source": [
    "stop_words = set(stopwords.words('english'))\n",
    "sentence = \"Backgammon is one of the oldest known board games.\"\n",
    "words = nltk.word_tokenize(sentence)\n",
    "words = [w for w in words if w not in stop_words]"
   ]
  },
  {
   "cell_type": "code",
   "execution_count": 67,
   "id": "8c6f8bb8-726a-4bfc-b24e-bfee36a49430",
   "metadata": {},
   "outputs": [
    {
     "data": {
      "text/plain": [
       "['Backgammon', 'one', 'oldest', 'known', 'board', 'games', '.']"
      ]
     },
     "execution_count": 67,
     "metadata": {},
     "output_type": "execute_result"
    }
   ],
   "source": [
    "words"
   ]
  },
  {
   "cell_type": "code",
   "execution_count": 69,
   "id": "448b21f8-433a-4b50-b669-c2771515a9e2",
   "metadata": {},
   "outputs": [
    {
     "data": {
      "text/plain": [
       "['اللذي',\n",
       " 'قال',\n",
       " ',',\n",
       " 'فأجابوه',\n",
       " 'ويا',\n",
       " 'مسهلا',\n",
       " ',',\n",
       " 'مرحبا',\n",
       " 'عندنا',\n",
       " ',',\n",
       " 'إتفضل']"
      ]
     },
     "execution_count": 69,
     "metadata": {},
     "output_type": "execute_result"
    }
   ],
   "source": [
    "ar_stop_words = set(stopwords.words('arabic'))\n",
    "phrase = 'هو اللذي قال ذلك لهم , فأجابوه يا هلا ويا مسهلا , مرحبا بك عندنا , إتفضل'\n",
    "ar_words = nltk.word_tokenize(phrase)\n",
    "ar_words = [w for w in ar_words if w not in ar_stop_words]\n",
    "ar_words"
   ]
  },
  {
   "cell_type": "markdown",
   "id": "ab1aeec4-8ed0-44bf-a360-1e37d4ecc18b",
   "metadata": {},
   "source": [
    "#### Regex"
   ]
  },
  {
   "cell_type": "code",
   "execution_count": 76,
   "id": "40ca2031-f549-4abf-b7c1-c74bd3175c58",
   "metadata": {},
   "outputs": [
    {
     "data": {
      "text/plain": [
       "('\\\\', 'n', '\\\\')"
      ]
     },
     "execution_count": 76,
     "metadata": {},
     "output_type": "execute_result"
    }
   ],
   "source": [
    "x = r'\\n \\s \\t'\n",
    "x[0], x[1], x[len(x)-2]"
   ]
  },
  {
   "cell_type": "code",
   "execution_count": 87,
   "id": "a1e3f96e-76ce-44e8-b77a-c041a4ae6dd9",
   "metadata": {},
   "outputs": [],
   "source": [
    "import re"
   ]
  },
  {
   "cell_type": "code",
   "execution_count": 93,
   "id": "771a9d23-00f0-469f-b4e3-89a63ba3ae49",
   "metadata": {},
   "outputs": [
    {
     "data": {
      "text/plain": [
       "'The development of snowboarding was inspired by skateboarding  sledding  surfing and skiing '"
      ]
     },
     "execution_count": 93,
     "metadata": {},
     "output_type": "execute_result"
    }
   ],
   "source": [
    "sentence = \"The development of snowboarding was inspired by skateboarding, sledding, surfing and skiing.\"\n",
    "patten = r'[^\\w]' # = '\\W'\n",
    "res = re.sub('\\W', \" \", sentence)\n",
    "res"
   ]
  },
  {
   "cell_type": "code",
   "execution_count": 91,
   "id": "ad294ccc-0038-45e6-ab99-e855bd42c0b3",
   "metadata": {},
   "outputs": [
    {
     "name": "stdout",
     "output_type": "stream",
     "text": [
      "The development of snowboarding was inspired by skateboarding  sledding  surfing and skiing \n"
     ]
    }
   ],
   "source": [
    "sentence = \"The development of snowboarding was inspired by skateboarding, sledding, surfing and skiing.\"\n",
    "pattern = r\"[^\\w]\"\n",
    "print(re.sub(pattern, \" \", sentence))"
   ]
  },
  {
   "cell_type": "markdown",
   "id": "94989646-2605-4204-a57e-cd9d0cb4342e",
   "metadata": {},
   "source": [
    "## <span style='color:red'> To Contniue From here </span>\n",
    "https://towardsdatascience.com/introduction-to-natural-language-processing-for-text-df845750fb63"
   ]
  },
  {
   "cell_type": "markdown",
   "id": "ff5bb1dd-4774-4dcc-9ea4-cc406a0c8b74",
   "metadata": {},
   "source": [
    "#### <span style='color:yellow'>Bag Of Words</span>\n",
    "- Knwon Word\n",
    "- Occurance Of Known Words\n",
    "- Similar Documents Have Similar Words\n",
    "- Not care About Document Structures\n",
    "- \n",
    "<img src='https://miro.medium.com/v2/resize:fit:512/format:webp/1*RPezKXGUUwla-JP52OnZxA.png' style='width:150px;height:150'/>\n",
    "\n"
   ]
  },
  {
   "cell_type": "markdown",
   "id": "e7c90bb0-c545-4317-b01c-4893c9870146",
   "metadata": {},
   "source": [
    "#### Bag Of Word Demo \n",
    "- <span style='color:orange'>Load the Data</span>"
   ]
  },
  {
   "cell_type": "code",
   "execution_count": 95,
   "id": "7813a33f-f9f9-4e26-9a69-fa1c0d2a1393",
   "metadata": {},
   "outputs": [],
   "source": [
    "import os\n",
    "filePath = os.path.join(os.getcwd(),'data','simple_movie_reviews.txt')"
   ]
  },
  {
   "cell_type": "code",
   "execution_count": 96,
   "id": "16c0a523-e1e4-4fa6-bce8-274511783320",
   "metadata": {},
   "outputs": [],
   "source": [
    "with open(file=filePath, mode='r') as file:\n",
    "    document = file.read().splitlines()"
   ]
  },
  {
   "cell_type": "code",
   "execution_count": 98,
   "id": "2ea53a6e-8a85-4a97-b7c2-d21e25101f3e",
   "metadata": {},
   "outputs": [
    {
     "name": "stdout",
     "output_type": "stream",
     "text": [
      "[\"I like this movie, it's funny.\", 'I hate this movie.', 'This was awesome! I like it.', 'Nice one. I love it.']\n"
     ]
    }
   ],
   "source": [
    "print(document)"
   ]
  },
  {
   "cell_type": "markdown",
   "id": "692fba2a-6407-47a8-a839-53727f3e84e6",
   "metadata": {},
   "source": [
    "- <span style='color:orange'>Design the Vocabulary</span>\r\n"
   ]
  },
  {
   "cell_type": "code",
   "execution_count": null,
   "id": "779b442f-7e8b-4a85-8d1d-195573cc1ccc",
   "metadata": {},
   "outputs": [],
   "source": []
  }
 ],
 "metadata": {
  "kernelspec": {
   "display_name": "Python 3 (ipykernel)",
   "language": "python",
   "name": "python3"
  },
  "language_info": {
   "codemirror_mode": {
    "name": "ipython",
    "version": 3
   },
   "file_extension": ".py",
   "mimetype": "text/x-python",
   "name": "python",
   "nbconvert_exporter": "python",
   "pygments_lexer": "ipython3",
   "version": "3.11.0"
  }
 },
 "nbformat": 4,
 "nbformat_minor": 5
}
