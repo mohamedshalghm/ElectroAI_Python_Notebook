{
 "cells": [
  {
   "cell_type": "code",
   "execution_count": 97,
   "id": "f41ab3a2-d4c5-41c6-b6e9-2dfb951ddfdf",
   "metadata": {},
   "outputs": [],
   "source": [
    "import nltk\n",
    "from nltk.corpus import wordnet, stopwords\n",
    "from nltk.stem import PorterStemmer, WordNetLemmatizer\n",
    "from nltk.tokenize import word_tokenize, sent_tokenize\n",
    "import numpy as np"
   ]
  },
  {
   "cell_type": "code",
   "execution_count": 98,
   "id": "d74b423d-4225-487c-8885-192bb5c1cedc",
   "metadata": {},
   "outputs": [],
   "source": [
    "#np.array(stopwords.words('arabic'))"
   ]
  },
  {
   "cell_type": "code",
   "execution_count": 99,
   "id": "b78f30d1-f114-45c4-b758-a2bc5d6c1198",
   "metadata": {},
   "outputs": [
    {
     "data": {
      "text/plain": [
       "[\"It's a dangerous business, Frodo, going out your door.\",\n",
       " 'Test Another Phrase']"
      ]
     },
     "execution_count": 99,
     "metadata": {},
     "output_type": "execute_result"
    }
   ],
   "source": [
    "lotr_quote = \"It's a dangerous business, Frodo, going out your door. Test Another Phrase\"\n",
    "words_in_lotr_quote = sent_tokenize(lotr_quote)\n",
    "words_in_lotr_quote"
   ]
  },
  {
   "cell_type": "code",
   "execution_count": 100,
   "id": "df9e6f91-0285-42bd-863b-7a2e115599e7",
   "metadata": {},
   "outputs": [],
   "source": [
    "lotr_quote_pos = nltk.pos_tag(words_in_lotr_quote)"
   ]
  },
  {
   "cell_type": "code",
   "execution_count": 101,
   "id": "2db17868-0549-4cef-a4d2-4f35b919e38b",
   "metadata": {},
   "outputs": [
    {
     "data": {
      "text/plain": [
       "[(\"It's a dangerous business, Frodo, going out your door.\", 'NNP'),\n",
       " ('Test Another Phrase', 'NNP')]"
      ]
     },
     "execution_count": 101,
     "metadata": {},
     "output_type": "execute_result"
    }
   ],
   "source": [
    "lotr_quote_pos"
   ]
  },
  {
   "cell_type": "code",
   "execution_count": 102,
   "id": "3e0b007b-4ac6-4de5-aebb-c15d0a84531e",
   "metadata": {},
   "outputs": [
    {
     "name": "stdout",
     "output_type": "stream",
     "text": [
      "It's a dangerous business, Frodo, going out your door. NNP\n",
      "Test Another Phrase NNP\n"
     ]
    }
   ],
   "source": [
    "for key, value in lotr_quote_pos:\n",
    "    print(key, value)"
   ]
  },
  {
   "cell_type": "code",
   "execution_count": 103,
   "id": "071e28b3-7a25-49a6-9ba9-ee3eb6328d47",
   "metadata": {},
   "outputs": [],
   "source": [
    "def document_process(docs):\n",
    "    senetnces = sent_tokenize(docs)\n",
    "    word_in_senetnces = [word_tokenize(sent) for sent in senetnces]\n",
    "    pos_in_words = [nltk.pos_tag(pos) for pos in word_in_senetnces]\n",
    "    return pos_in_words"
   ]
  },
  {
   "cell_type": "code",
   "execution_count": 104,
   "id": "f88d164e-f996-4b3b-a75a-f7a0cd17320b",
   "metadata": {},
   "outputs": [
    {
     "data": {
      "text/plain": [
       "[[('It', 'PRP'),\n",
       "  (\"'s\", 'VBZ'),\n",
       "  ('a', 'DT'),\n",
       "  ('dangerous', 'JJ'),\n",
       "  ('business', 'NN'),\n",
       "  (',', ','),\n",
       "  ('Frodo', 'NNP'),\n",
       "  (',', ','),\n",
       "  ('going', 'VBG'),\n",
       "  ('out', 'RP'),\n",
       "  ('your', 'PRP$'),\n",
       "  ('door', 'NN'),\n",
       "  ('.', '.')],\n",
       " [('Test', 'NNP'), ('Another', 'DT'), ('Phrase', 'NN')]]"
      ]
     },
     "execution_count": 104,
     "metadata": {},
     "output_type": "execute_result"
    }
   ],
   "source": [
    "pos_sent = document_process(lotr_quote)\n",
    "pos_sent"
   ]
  },
  {
   "cell_type": "code",
   "execution_count": 105,
   "id": "69392f42-625a-4bb4-bddd-a86bad677197",
   "metadata": {},
   "outputs": [
    {
     "data": {
      "text/plain": [
       "[('Test', 'NNP'), ('Another', 'DT'), ('Phrase', 'NN')]"
      ]
     },
     "execution_count": 105,
     "metadata": {},
     "output_type": "execute_result"
    }
   ],
   "source": [
    "pos_sent[1]"
   ]
  },
  {
   "cell_type": "code",
   "execution_count": 106,
   "id": "4d375172-833e-4db0-8ce8-fe0f5ff312f2",
   "metadata": {},
   "outputs": [],
   "source": [
    "# grammar = \"NP: {<DT>?<JJ>*<NN>}\"\n",
    "# cp = nltk.RegexpParser(grammar)\n",
    "# result = cp.parse(pos_sent[0])\n",
    "# result.draw()"
   ]
  },
  {
   "cell_type": "code",
   "execution_count": 107,
   "id": "8c29dc00-20a2-4565-ab26-5a8df1ac2104",
   "metadata": {},
   "outputs": [],
   "source": [
    "g = \"NP:{<DT>?<JJ>*<NN>}\"\n",
    "\n",
    "# NP: => Noune Phrase Chuncking\n",
    "# <DT>? => Can Start With Optinal Determiner\n",
    "# <JJ>* => Can have any number Adjective\n",
    "# <NN> => End With No\n"
   ]
  },
  {
   "cell_type": "code",
   "execution_count": 111,
   "id": "7e8e8d13-e901-4e44-9157-74b8be660324",
   "metadata": {},
   "outputs": [],
   "source": [
    "gg = \"NP: {<DT>?<NN>*<JJ>}\"\n",
    "my_parser = nltk.RegexpParser(gg)\n",
    "res = my_parser.parse(pos_sent[0])\n",
    "res.draw()"
   ]
  },
  {
   "cell_type": "code",
   "execution_count": 113,
   "id": "61e0135a-ac1e-4684-a8d4-fe8e2c8c4666",
   "metadata": {},
   "outputs": [],
   "source": [
    "chunk_chink = \"\"\"\n",
    "    Chunk: {<.*>+}\n",
    "            }<JJ>{\n",
    "\"\"\"\n",
    "p = nltk.RegexpParser(chunk_chink)\n",
    "r = p.parse(pos_sent[0])\n",
    "r.draw()"
   ]
  },
  {
   "cell_type": "code",
   "execution_count": 116,
   "id": "aa69ac2a-3aed-47a7-bfe7-0051d5378907",
   "metadata": {},
   "outputs": [
    {
     "name": "stderr",
     "output_type": "stream",
     "text": [
      "[nltk_data] Downloading package maxent_ne_chunker to\n",
      "[nltk_data]     C:\\Users\\moham\\AppData\\Roaming\\nltk_data...\n",
      "[nltk_data]   Package maxent_ne_chunker is already up-to-date!\n",
      "[nltk_data] Downloading package words to\n",
      "[nltk_data]     C:\\Users\\moham\\AppData\\Roaming\\nltk_data...\n",
      "[nltk_data]   Package words is already up-to-date!\n"
     ]
    },
    {
     "data": {
      "text/plain": [
       "True"
      ]
     },
     "execution_count": 116,
     "metadata": {},
     "output_type": "execute_result"
    }
   ],
   "source": [
    "nltk.download('maxent_ne_chunker')\n",
    "nltk.download(\"words\")"
   ]
  },
  {
   "cell_type": "code",
   "execution_count": 117,
   "id": "dfb6a2a5-df58-46c7-ae01-c6abd4963b7f",
   "metadata": {},
   "outputs": [
    {
     "name": "stderr",
     "output_type": "stream",
     "text": [
      "[nltk_data] Downloading package words to\n",
      "[nltk_data]     C:\\Users\\moham\\AppData\\Roaming\\nltk_data...\n",
      "[nltk_data]   Package words is already up-to-date!\n"
     ]
    },
    {
     "data": {
      "text/plain": [
       "True"
      ]
     },
     "execution_count": 117,
     "metadata": {},
     "output_type": "execute_result"
    }
   ],
   "source": [
    "nltk.download(\"words\")"
   ]
  },
  {
   "cell_type": "code",
   "execution_count": 120,
   "id": "c912e4ad-2d0f-4a60-9c48-415211e0268a",
   "metadata": {},
   "outputs": [],
   "source": [
    "tree = nltk.ne_chunk(pos_sent[0])\n",
    "tree.draw()"
   ]
  },
  {
   "cell_type": "code",
   "execution_count": 131,
   "id": "257d780a-ce16-436b-a69c-66674ef88fa1",
   "metadata": {},
   "outputs": [],
   "source": [
    "txt = 'Mohammed Shalgham is A famous CS Engineer'\n",
    "txt_words = [word for word in word_tokenize(txt)]\n",
    "txt_words_pos = [pos for pos in nltk.pos_tag(txt_words)]\n",
    "res = nltk.ne_chunk(txt_words_pos, binary=True).draw()"
   ]
  },
  {
   "cell_type": "code",
   "execution_count": 168,
   "id": "e69a70cf-bfd2-4105-b3dd-95a178fe4a25",
   "metadata": {},
   "outputs": [],
   "source": [
    "quote = \"\"\"\n",
    "Men like Schiaparelli watched the red planet—it is odd, by-the-bye, that\n",
    "for countless centuries Mars has been the star of war—but failed to\n",
    "interpret the fluctuating appearances of the markings they mapped so well.\n",
    "All that time the Martians must have been getting ready.\n",
    "\n",
    "During the opposition of 1894 a great light was seen on the illuminated\n",
    "part of the disk, first at the Lick Observatory, then by Perrotin of Nice,\n",
    "and then by other observers. English readers heard of it first in the\n",
    "issue of Nature dated August 2.\"\"\""
   ]
  },
  {
   "cell_type": "code",
   "execution_count": 187,
   "id": "6ef9eff3-d962-4f9f-bf7e-5b12d232e5ce",
   "metadata": {},
   "outputs": [],
   "source": [
    "def extract_named_entity(phrase):\n",
    "    word_in_phrase = [word for word in word_tokenize(phrase)]\n",
    "    pos_in_word_in_phrase = [pos for pos in nltk.pos_tag(word_in_phrase)]\n",
    "    tree = nltk.ne_chunk(pos_in_word_in_phrase, binary=True)\n",
    "    return set(\n",
    "        \" \".join(i[0] for i in t)\n",
    "        for t in tree\n",
    "        if hasattr(t, \"label\") and t.label() == \"NE\"\n",
    "    )"
   ]
  },
  {
   "cell_type": "code",
   "execution_count": 188,
   "id": "5102aa61-e535-47ea-b3e3-a02dd8b36ee7",
   "metadata": {},
   "outputs": [
    {
     "data": {
      "text/plain": [
       "{'Lick Observatory', 'Mars', 'Nature', 'Perrotin', 'Schiaparelli'}"
      ]
     },
     "execution_count": 188,
     "metadata": {},
     "output_type": "execute_result"
    }
   ],
   "source": [
    "extract_named_entity(quote)"
   ]
  },
  {
   "cell_type": "code",
   "execution_count": null,
   "id": "beaa6681-b0e9-4542-b861-b3073abc3603",
   "metadata": {},
   "outputs": [],
   "source": []
  }
 ],
 "metadata": {
  "kernelspec": {
   "display_name": "Python 3 (ipykernel)",
   "language": "python",
   "name": "python3"
  },
  "language_info": {
   "codemirror_mode": {
    "name": "ipython",
    "version": 3
   },
   "file_extension": ".py",
   "mimetype": "text/x-python",
   "name": "python",
   "nbconvert_exporter": "python",
   "pygments_lexer": "ipython3",
   "version": "3.11.0"
  }
 },
 "nbformat": 4,
 "nbformat_minor": 5
}
