{
 "cells": [
  {
   "cell_type": "markdown",
   "id": "e2f34d17-4395-4fe5-a523-e55fb74030f0",
   "metadata": {},
   "source": [
    "#### Load Data\n"
   ]
  },
  {
   "cell_type": "code",
   "execution_count": 65,
   "id": "eb3a5188-e287-48b6-a98e-566e98f87261",
   "metadata": {},
   "outputs": [],
   "source": [
    "import numpy as np\n",
    "import os\n",
    "import warnings\n",
    "import torch\n",
    "import torch.nn as nn\n",
    "import torch.optim as optim\n",
    "import matplotlib.pyplot as plt\n",
    "warnings.filterwarnings('ignore')\n",
    "%matplotlib inline"
   ]
  },
  {
   "cell_type": "code",
   "execution_count": 13,
   "id": "4d607450-c984-4059-8aea-8c32e979d296",
   "metadata": {},
   "outputs": [
    {
     "data": {
      "text/plain": [
       "array([[  6.   , 148.   ,  72.   , ...,   0.627,  50.   ,   1.   ],\n",
       "       [  1.   ,  85.   ,  66.   , ...,   0.351,  31.   ,   0.   ],\n",
       "       [  8.   , 183.   ,  64.   , ...,   0.672,  32.   ,   1.   ],\n",
       "       ...,\n",
       "       [  5.   , 121.   ,  72.   , ...,   0.245,  30.   ,   0.   ],\n",
       "       [  1.   , 126.   ,  60.   , ...,   0.349,  47.   ,   1.   ],\n",
       "       [  1.   ,  93.   ,  70.   , ...,   0.315,  23.   ,   0.   ]])"
      ]
     },
     "execution_count": 13,
     "metadata": {},
     "output_type": "execute_result"
    }
   ],
   "source": [
    "Data_Path = os.path.join(os.getcwd(),'data','pima_indians_diabetes_data.csv')\n",
    "data = np.loadtxt(Data_Path, delimiter=',')\n",
    "data"
   ]
  },
  {
   "cell_type": "code",
   "execution_count": 38,
   "id": "d1125945-7516-4d8f-b66a-ee054c9db53a",
   "metadata": {},
   "outputs": [
    {
     "data": {
      "text/plain": [
       "(768, 9)"
      ]
     },
     "execution_count": 38,
     "metadata": {},
     "output_type": "execute_result"
    }
   ],
   "source": [
    "data.shape"
   ]
  },
  {
   "cell_type": "code",
   "execution_count": 50,
   "id": "c255afb3-d68e-4bec-ab8c-483502c78406",
   "metadata": {},
   "outputs": [],
   "source": [
    "X = data[:,0:8]\n",
    "y = data[:,8]"
   ]
  },
  {
   "cell_type": "code",
   "execution_count": 51,
   "id": "44bb5e45-85e0-4f32-b3c2-97cbbba5e00c",
   "metadata": {},
   "outputs": [
    {
     "data": {
      "text/plain": [
       "(768, 8)"
      ]
     },
     "execution_count": 51,
     "metadata": {},
     "output_type": "execute_result"
    }
   ],
   "source": [
    "X.shape"
   ]
  },
  {
   "cell_type": "code",
   "execution_count": 52,
   "id": "1a56791d-05a2-4063-8331-954b74a6030f",
   "metadata": {},
   "outputs": [
    {
     "data": {
      "text/plain": [
       "(768,)"
      ]
     },
     "execution_count": 52,
     "metadata": {},
     "output_type": "execute_result"
    }
   ],
   "source": [
    "y.shape"
   ]
  },
  {
   "cell_type": "code",
   "execution_count": 75,
   "id": "16cfe9bf-dd18-4699-837a-83870781f7e7",
   "metadata": {},
   "outputs": [],
   "source": [
    "X = torch.tensor(X, dtype = torch.float32)\n",
    "y = torch.tensor(y, dtype = torch.float32).reshape(-1,1)"
   ]
  },
  {
   "cell_type": "code",
   "execution_count": 77,
   "id": "bdbaa9ee-9003-4cd0-bfb9-f83c1a7b6796",
   "metadata": {},
   "outputs": [
    {
     "data": {
      "text/plain": [
       "torch.Size([768, 1])"
      ]
     },
     "execution_count": 77,
     "metadata": {},
     "output_type": "execute_result"
    }
   ],
   "source": [
    "y.shape"
   ]
  },
  {
   "cell_type": "markdown",
   "id": "2c6e6f76-65aa-4af3-9af0-a8977bc3782d",
   "metadata": {},
   "source": [
    "#### Build the Model With Sequential\n"
   ]
  },
  {
   "cell_type": "code",
   "execution_count": 79,
   "id": "3f716766-9a43-4322-81f6-f8c465f6f459",
   "metadata": {},
   "outputs": [
    {
     "data": {
      "text/plain": [
       "Sequential(\n",
       "  (0): Linear(in_features=8, out_features=12, bias=True)\n",
       "  (1): ReLU()\n",
       "  (2): Linear(in_features=12, out_features=8, bias=True)\n",
       "  (3): ReLU()\n",
       "  (4): Linear(in_features=8, out_features=1, bias=True)\n",
       "  (5): Sigmoid()\n",
       ")"
      ]
     },
     "execution_count": 79,
     "metadata": {},
     "output_type": "execute_result"
    }
   ],
   "source": [
    "model = nn.Sequential(\n",
    "    nn.Linear(in_features = 8, out_features = 12),\n",
    "    nn.ReLU(),\n",
    "    nn.Linear(in_features = 12, out_features = 8),\n",
    "    nn.ReLU(),\n",
    "    nn.Linear(in_features = 8, out_features = 1),\n",
    "    nn.Sigmoid()\n",
    ")\n",
    "model"
   ]
  },
  {
   "cell_type": "markdown",
   "id": "cd672fc7-412a-4c21-b032-4c8ff9163f00",
   "metadata": {},
   "source": [
    "#### Build the Model With OOP"
   ]
  },
  {
   "cell_type": "code",
   "execution_count": 138,
   "id": "48018296-8970-4e00-b6ae-5024e0bc7076",
   "metadata": {},
   "outputs": [],
   "source": [
    "class PimaClassifier(nn.Module):\n",
    "    def __init__(self):\n",
    "        super().__init__()\n",
    "        self.hidden1 = nn.Linear(in_features = 8, out_features = 12) # a1\n",
    "        self.act1 = nn.ReLU() # z1\n",
    "        self.hidden2 = nn.Linear(in_features = 12, out_features = 8) # a2\n",
    "        self.act2 = nn.ReLU() #z2\n",
    "        self.output = nn.Linear(in_features = 8, out_features = 1) #output\n",
    "        self.act_output = nn.Sigmoid() #y-pred\n",
    "\n",
    "    def forward(self, x):\n",
    "        x = self.act1(self.hidden1(x))\n",
    "        x = self.act2(self.hidden2(x))\n",
    "        x = self.act_output(self.output(x))\n",
    "        return x\n",
    "        "
   ]
  },
  {
   "cell_type": "code",
   "execution_count": 139,
   "id": "ea350a2c-5963-4815-9129-399b96ba2d96",
   "metadata": {},
   "outputs": [
    {
     "data": {
      "text/plain": [
       "PimaClassifier(\n",
       "  (hidden1): Linear(in_features=8, out_features=12, bias=True)\n",
       "  (act1): ReLU()\n",
       "  (hidden2): Linear(in_features=12, out_features=8, bias=True)\n",
       "  (act2): ReLU()\n",
       "  (output): Linear(in_features=8, out_features=1, bias=True)\n",
       "  (act_output): Sigmoid()\n",
       ")"
      ]
     },
     "execution_count": 139,
     "metadata": {},
     "output_type": "execute_result"
    }
   ],
   "source": [
    "pm_model = PimaClassifier()\n",
    "pm_model"
   ]
  },
  {
   "cell_type": "markdown",
   "id": "d82fe8ac-c4ee-4091-99bb-8db4a8f9e22c",
   "metadata": {},
   "source": [
    "#### Preparation for Training"
   ]
  },
  {
   "cell_type": "code",
   "execution_count": 153,
   "id": "b40c994d-0919-4d5a-b310-4fb140c273d3",
   "metadata": {},
   "outputs": [],
   "source": [
    "loss_fn = nn.BCELoss()\n",
    "optimizer = optim.Adam(params = pm_model.parameters() , lr = 0.001)"
   ]
  },
  {
   "cell_type": "markdown",
   "id": "d489b077-78dc-4ee4-bc30-bfeb0c2e1507",
   "metadata": {},
   "source": [
    "#### Training a Model"
   ]
  },
  {
   "cell_type": "code",
   "execution_count": 169,
   "id": "f552afe2-4c7f-48d4-8d4f-ddc7ec6d0e60",
   "metadata": {},
   "outputs": [
    {
     "name": "stdout",
     "output_type": "stream",
     "text": [
      "Finished epoch 0, latest loss 0.24020284414291382\n",
      "Finished epoch 1, latest loss 0.21486763656139374\n",
      "Finished epoch 2, latest loss 0.2384396493434906\n",
      "Finished epoch 3, latest loss 0.23898053169250488\n",
      "Finished epoch 4, latest loss 0.22514288127422333\n",
      "Finished epoch 5, latest loss 0.22914761304855347\n",
      "Finished epoch 6, latest loss 0.23141615092754364\n",
      "Finished epoch 7, latest loss 0.22154535353183746\n",
      "Finished epoch 8, latest loss 0.21900150179862976\n",
      "Finished epoch 9, latest loss 0.22378407418727875\n",
      "Finished epoch 10, latest loss 0.21187910437583923\n",
      "Finished epoch 11, latest loss 0.2246689349412918\n",
      "Finished epoch 12, latest loss 0.26140525937080383\n",
      "Finished epoch 13, latest loss 0.21472758054733276\n",
      "Finished epoch 14, latest loss 0.230550155043602\n",
      "Finished epoch 15, latest loss 0.2400076687335968\n",
      "Finished epoch 16, latest loss 0.22704815864562988\n",
      "Finished epoch 17, latest loss 0.25993967056274414\n",
      "Finished epoch 18, latest loss 0.2258155792951584\n",
      "Finished epoch 19, latest loss 0.22875748574733734\n",
      "Finished epoch 20, latest loss 0.21724404394626617\n",
      "Finished epoch 21, latest loss 0.2461443394422531\n",
      "Finished epoch 22, latest loss 0.21930864453315735\n",
      "Finished epoch 23, latest loss 0.2391626387834549\n",
      "Finished epoch 24, latest loss 0.2603869140148163\n",
      "Finished epoch 25, latest loss 0.2341565191745758\n",
      "Finished epoch 26, latest loss 0.22071288526058197\n",
      "Finished epoch 27, latest loss 0.2420027107000351\n",
      "Finished epoch 28, latest loss 0.2629396915435791\n",
      "Finished epoch 29, latest loss 0.26302507519721985\n",
      "Finished epoch 30, latest loss 0.23451916873455048\n",
      "Finished epoch 31, latest loss 0.2411622852087021\n",
      "Finished epoch 32, latest loss 0.2345668077468872\n",
      "Finished epoch 33, latest loss 0.25078195333480835\n",
      "Finished epoch 34, latest loss 0.2555055618286133\n",
      "Finished epoch 35, latest loss 0.23592530190944672\n",
      "Finished epoch 36, latest loss 0.2500181198120117\n",
      "Finished epoch 37, latest loss 0.22435946762561798\n",
      "Finished epoch 38, latest loss 0.2394973337650299\n",
      "Finished epoch 39, latest loss 0.23154911398887634\n",
      "Finished epoch 40, latest loss 0.2368219792842865\n",
      "Finished epoch 41, latest loss 0.23658736050128937\n",
      "Finished epoch 42, latest loss 0.2749882936477661\n",
      "Finished epoch 43, latest loss 0.23512519896030426\n",
      "Finished epoch 44, latest loss 0.22406268119812012\n",
      "Finished epoch 45, latest loss 0.24277377128601074\n",
      "Finished epoch 46, latest loss 0.22936929762363434\n",
      "Finished epoch 47, latest loss 0.27642226219177246\n",
      "Finished epoch 48, latest loss 0.23928815126419067\n",
      "Finished epoch 49, latest loss 0.23797523975372314\n",
      "Finished epoch 50, latest loss 0.23943917453289032\n",
      "Finished epoch 51, latest loss 0.27140945196151733\n",
      "Finished epoch 52, latest loss 0.2190106362104416\n",
      "Finished epoch 53, latest loss 0.23335841298103333\n",
      "Finished epoch 54, latest loss 0.2555612623691559\n",
      "Finished epoch 55, latest loss 0.24382589757442474\n",
      "Finished epoch 56, latest loss 0.23994489014148712\n",
      "Finished epoch 57, latest loss 0.2366923987865448\n",
      "Finished epoch 58, latest loss 0.24256913363933563\n",
      "Finished epoch 59, latest loss 0.23208487033843994\n",
      "Finished epoch 60, latest loss 0.25616157054901123\n",
      "Finished epoch 61, latest loss 0.234460711479187\n",
      "Finished epoch 62, latest loss 0.2697559595108032\n",
      "Finished epoch 63, latest loss 0.22624024748802185\n",
      "Finished epoch 64, latest loss 0.23403474688529968\n",
      "Finished epoch 65, latest loss 0.22349505126476288\n",
      "Finished epoch 66, latest loss 0.22448088228702545\n",
      "Finished epoch 67, latest loss 0.224021315574646\n",
      "Finished epoch 68, latest loss 0.27812016010284424\n",
      "Finished epoch 69, latest loss 0.2303185909986496\n",
      "Finished epoch 70, latest loss 0.2289503961801529\n",
      "Finished epoch 71, latest loss 0.23804916441440582\n",
      "Finished epoch 72, latest loss 0.2370874583721161\n",
      "Finished epoch 73, latest loss 0.2685244381427765\n",
      "Finished epoch 74, latest loss 0.2379729151725769\n",
      "Finished epoch 75, latest loss 0.24210645258426666\n",
      "Finished epoch 76, latest loss 0.2332259863615036\n",
      "Finished epoch 77, latest loss 0.23503844439983368\n",
      "Finished epoch 78, latest loss 0.2570439875125885\n",
      "Finished epoch 79, latest loss 0.24266566336154938\n",
      "Finished epoch 80, latest loss 0.23535317182540894\n",
      "Finished epoch 81, latest loss 0.23724916577339172\n",
      "Finished epoch 82, latest loss 0.21322833001613617\n",
      "Finished epoch 83, latest loss 0.23482827842235565\n",
      "Finished epoch 84, latest loss 0.2689472436904907\n",
      "Finished epoch 85, latest loss 0.249398335814476\n",
      "Finished epoch 86, latest loss 0.22767171263694763\n",
      "Finished epoch 87, latest loss 0.2307329624891281\n",
      "Finished epoch 88, latest loss 0.2344045490026474\n",
      "Finished epoch 89, latest loss 0.24444375932216644\n",
      "Finished epoch 90, latest loss 0.24099475145339966\n",
      "Finished epoch 91, latest loss 0.22874724864959717\n",
      "Finished epoch 92, latest loss 0.22984349727630615\n",
      "Finished epoch 93, latest loss 0.23741981387138367\n",
      "Finished epoch 94, latest loss 0.22579944133758545\n",
      "Finished epoch 95, latest loss 0.23638233542442322\n",
      "Finished epoch 96, latest loss 0.23444513976573944\n",
      "Finished epoch 97, latest loss 0.24354241788387299\n",
      "Finished epoch 98, latest loss 0.23992082476615906\n",
      "Finished epoch 99, latest loss 0.23548872768878937\n",
      "Accuracy 0.6510416865348816\n",
      "[6.0, 148.0, 72.0, 35.0, 0.0, 33.599998474121094, 0.6269999742507935, 50.0] => 0 (expected 1)\n",
      "[1.0, 85.0, 66.0, 29.0, 0.0, 26.600000381469727, 0.35100001096725464, 31.0] => 0 (expected 0)\n",
      "[8.0, 183.0, 64.0, 0.0, 0.0, 23.299999237060547, 0.671999990940094, 32.0] => 0 (expected 1)\n",
      "[1.0, 89.0, 66.0, 23.0, 94.0, 28.100000381469727, 0.16699999570846558, 21.0] => 0 (expected 0)\n",
      "[0.0, 137.0, 40.0, 35.0, 168.0, 43.099998474121094, 2.2880001068115234, 33.0] => 0 (expected 1)\n"
     ]
    }
   ],
   "source": [
    "n_epochs = 100\n",
    "batch_size = 10\n",
    "                \n",
    "for epoch in range(n_epochs):\n",
    "    #              Start Stop    Step = 10\n",
    "    for i in range( 0,   len(X), batch_size):\n",
    "        Xbatch = X[i:i+batch_size]\n",
    "        y__batch_pred = pm_model(Xbatch)\n",
    "        y__batch_true = y[i:i+batch_size]\n",
    "        #            batch preds ( Predicted )      trye values ( target )\n",
    "        batch_loss = loss_fn(y__batch_pred, y__batch_true)\n",
    "        # Resets the gradients of all optimized for each batch\n",
    "        optimizer.zero_grad()\n",
    "        #applying fine tuning on weight with backward()\n",
    "        batch_loss.backward()\n",
    "        # Performs a single optimization step.\n",
    "        optimizer.step()\n",
    "    print(f'Finished epoch {epoch}, latest loss {batch_loss}')\n",
    "    \n",
    "# compute accuracy\n",
    "y_pred = model(X)\n",
    "accuracy = (y_pred.round() == y).float().mean()\n",
    "print(f\"Accuracy {accuracy}\")\n",
    " \n",
    "# make class predictions with the model\n",
    "predictions = (model(X) > 0.5).int()\n",
    "for i in range(5):\n",
    "    print('%s => %d (expected %d)' % (X[i].tolist(), predictions[i], y[i]))"
   ]
  },
  {
   "cell_type": "markdown",
   "id": "6eb272ba-f748-4865-b63f-882e65a027bc",
   "metadata": {},
   "source": [
    "#### Make Predictions"
   ]
  },
  {
   "cell_type": "code",
   "execution_count": 168,
   "id": "876afc38-205c-4ca5-8b9f-d36a834a690d",
   "metadata": {},
   "outputs": [],
   "source": [
    "# make probability predictions with the model\n",
    "predictions = (model(X) > 0.5).int()"
   ]
  },
  {
   "cell_type": "code",
   "execution_count": 166,
   "id": "2e97d919-e4b8-4fbb-ad8f-5132b38ac4ef",
   "metadata": {},
   "outputs": [
    {
     "data": {
      "text/plain": [
       "tensor([[0.1703],\n",
       "        [0.1660],\n",
       "        [0.1673],\n",
       "        [0.0314],\n",
       "        [0.0051]], grad_fn=<SliceBackward0>)"
      ]
     },
     "execution_count": 166,
     "metadata": {},
     "output_type": "execute_result"
    }
   ],
   "source": [
    "predictions[:5]"
   ]
  },
  {
   "cell_type": "code",
   "execution_count": null,
   "id": "0ec5f373-22e0-4728-acc1-65df4e11b9ba",
   "metadata": {},
   "outputs": [],
   "source": []
  }
 ],
 "metadata": {
  "kernelspec": {
   "display_name": "Python 3 (ipykernel)",
   "language": "python",
   "name": "python3"
  },
  "language_info": {
   "codemirror_mode": {
    "name": "ipython",
    "version": 3
   },
   "file_extension": ".py",
   "mimetype": "text/x-python",
   "name": "python",
   "nbconvert_exporter": "python",
   "pygments_lexer": "ipython3",
   "version": "3.11.0"
  }
 },
 "nbformat": 4,
 "nbformat_minor": 5
}
